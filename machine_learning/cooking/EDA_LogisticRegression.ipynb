{
 "cells": [
  {
   "cell_type": "code",
   "execution_count": 1,
   "metadata": {
    "ExecuteTime": {
     "end_time": "2020-02-19T00:39:21.348245Z",
     "start_time": "2020-02-19T00:39:13.942103Z"
    }
   },
   "outputs": [],
   "source": [
    "import json\n",
    "import pandas as pd\n",
    "import numpy as np\n",
    "import matplotlib.pyplot as plt\n",
    "import seaborn as sns\n",
    "from collections import Counter\n",
    "from sklearn import metrics\n",
    "from sklearn.preprocessing import LabelEncoder\n",
    "from sklearn.feature_extraction.text import TfidfVectorizer\n",
    "from sklearn.svm import SVC\n",
    "from sklearn.ensemble import RandomForestClassifier\n",
    "from sklearn.tree import DecisionTreeClassifier\n",
    "from sklearn.linear_model import Perceptron\n",
    "from sklearn.multiclass import OneVsRestClassifier"
   ]
  },
  {
   "cell_type": "code",
   "execution_count": 2,
   "metadata": {
    "ExecuteTime": {
     "end_time": "2020-02-19T00:39:23.352748Z",
     "start_time": "2020-02-19T00:39:23.028790Z"
    },
    "cell_style": "split"
   },
   "outputs": [
    {
     "data": {
      "text/html": [
       "<div>\n",
       "<style scoped>\n",
       "    .dataframe tbody tr th:only-of-type {\n",
       "        vertical-align: middle;\n",
       "    }\n",
       "\n",
       "    .dataframe tbody tr th {\n",
       "        vertical-align: top;\n",
       "    }\n",
       "\n",
       "    .dataframe thead th {\n",
       "        text-align: right;\n",
       "    }\n",
       "</style>\n",
       "<table border=\"1\" class=\"dataframe\">\n",
       "  <thead>\n",
       "    <tr style=\"text-align: right;\">\n",
       "      <th></th>\n",
       "      <th>cuisine</th>\n",
       "      <th>id</th>\n",
       "      <th>ingredients</th>\n",
       "    </tr>\n",
       "  </thead>\n",
       "  <tbody>\n",
       "    <tr>\n",
       "      <th>0</th>\n",
       "      <td>greek</td>\n",
       "      <td>10259</td>\n",
       "      <td>[romaine lettuce, black olives, grape tomatoes...</td>\n",
       "    </tr>\n",
       "    <tr>\n",
       "      <th>1</th>\n",
       "      <td>southern_us</td>\n",
       "      <td>25693</td>\n",
       "      <td>[plain flour, ground pepper, salt, tomatoes, g...</td>\n",
       "    </tr>\n",
       "    <tr>\n",
       "      <th>2</th>\n",
       "      <td>filipino</td>\n",
       "      <td>20130</td>\n",
       "      <td>[eggs, pepper, salt, mayonaise, cooking oil, g...</td>\n",
       "    </tr>\n",
       "    <tr>\n",
       "      <th>3</th>\n",
       "      <td>indian</td>\n",
       "      <td>22213</td>\n",
       "      <td>[water, vegetable oil, wheat, salt]</td>\n",
       "    </tr>\n",
       "    <tr>\n",
       "      <th>4</th>\n",
       "      <td>indian</td>\n",
       "      <td>13162</td>\n",
       "      <td>[black pepper, shallots, cornflour, cayenne pe...</td>\n",
       "    </tr>\n",
       "  </tbody>\n",
       "</table>\n",
       "</div>"
      ],
      "text/plain": [
       "       cuisine     id                                        ingredients\n",
       "0        greek  10259  [romaine lettuce, black olives, grape tomatoes...\n",
       "1  southern_us  25693  [plain flour, ground pepper, salt, tomatoes, g...\n",
       "2     filipino  20130  [eggs, pepper, salt, mayonaise, cooking oil, g...\n",
       "3       indian  22213                [water, vegetable oil, wheat, salt]\n",
       "4       indian  13162  [black pepper, shallots, cornflour, cayenne pe..."
      ]
     },
     "execution_count": 2,
     "metadata": {},
     "output_type": "execute_result"
    }
   ],
   "source": [
    "data = pd.read_json('train.json', encoding='utf-8')\n",
    "data.head()"
   ]
  },
  {
   "cell_type": "code",
   "execution_count": 3,
   "metadata": {
    "ExecuteTime": {
     "end_time": "2020-02-19T00:39:32.034984Z",
     "start_time": "2020-02-19T00:39:31.945813Z"
    },
    "cell_style": "split"
   },
   "outputs": [
    {
     "data": {
      "text/html": [
       "<div>\n",
       "<style scoped>\n",
       "    .dataframe tbody tr th:only-of-type {\n",
       "        vertical-align: middle;\n",
       "    }\n",
       "\n",
       "    .dataframe tbody tr th {\n",
       "        vertical-align: top;\n",
       "    }\n",
       "\n",
       "    .dataframe thead th {\n",
       "        text-align: right;\n",
       "    }\n",
       "</style>\n",
       "<table border=\"1\" class=\"dataframe\">\n",
       "  <thead>\n",
       "    <tr style=\"text-align: right;\">\n",
       "      <th></th>\n",
       "      <th>id</th>\n",
       "      <th>ingredients</th>\n",
       "    </tr>\n",
       "  </thead>\n",
       "  <tbody>\n",
       "    <tr>\n",
       "      <th>0</th>\n",
       "      <td>18009</td>\n",
       "      <td>[baking powder, eggs, all-purpose flour, raisi...</td>\n",
       "    </tr>\n",
       "    <tr>\n",
       "      <th>1</th>\n",
       "      <td>28583</td>\n",
       "      <td>[sugar, egg yolks, corn starch, cream of tarta...</td>\n",
       "    </tr>\n",
       "    <tr>\n",
       "      <th>2</th>\n",
       "      <td>41580</td>\n",
       "      <td>[sausage links, fennel bulb, fronds, olive oil...</td>\n",
       "    </tr>\n",
       "    <tr>\n",
       "      <th>3</th>\n",
       "      <td>29752</td>\n",
       "      <td>[meat cuts, file powder, smoked sausage, okra,...</td>\n",
       "    </tr>\n",
       "    <tr>\n",
       "      <th>4</th>\n",
       "      <td>35687</td>\n",
       "      <td>[ground black pepper, salt, sausage casings, l...</td>\n",
       "    </tr>\n",
       "  </tbody>\n",
       "</table>\n",
       "</div>"
      ],
      "text/plain": [
       "      id                                        ingredients\n",
       "0  18009  [baking powder, eggs, all-purpose flour, raisi...\n",
       "1  28583  [sugar, egg yolks, corn starch, cream of tarta...\n",
       "2  41580  [sausage links, fennel bulb, fronds, olive oil...\n",
       "3  29752  [meat cuts, file powder, smoked sausage, okra,...\n",
       "4  35687  [ground black pepper, salt, sausage casings, l..."
      ]
     },
     "execution_count": 3,
     "metadata": {},
     "output_type": "execute_result"
    }
   ],
   "source": [
    "test_data = pd.read_json('test.json', encoding='utf-8')\n",
    "test_data.head()\n",
    "\n",
    "\n",
    "\n"
   ]
  },
  {
   "cell_type": "code",
   "execution_count": 5,
   "metadata": {
    "ExecuteTime": {
     "end_time": "2020-02-19T00:39:40.116134Z",
     "start_time": "2020-02-19T00:39:40.096214Z"
    },
    "cell_style": "split"
   },
   "outputs": [
    {
     "name": "stdout",
     "output_type": "stream",
     "text": [
      "<class 'pandas.core.frame.DataFrame'>\n",
      "RangeIndex: 39774 entries, 0 to 39773\n",
      "Data columns (total 3 columns):\n",
      "cuisine        39774 non-null object\n",
      "id             39774 non-null int64\n",
      "ingredients    39774 non-null object\n",
      "dtypes: int64(1), object(2)\n",
      "memory usage: 932.3+ KB\n"
     ]
    }
   ],
   "source": [
    "data.info()"
   ]
  },
  {
   "cell_type": "code",
   "execution_count": 6,
   "metadata": {
    "ExecuteTime": {
     "end_time": "2020-02-19T00:39:42.606407Z",
     "start_time": "2020-02-19T00:39:42.595364Z"
    },
    "cell_style": "split"
   },
   "outputs": [
    {
     "name": "stdout",
     "output_type": "stream",
     "text": [
      "<class 'pandas.core.frame.DataFrame'>\n",
      "RangeIndex: 9944 entries, 0 to 9943\n",
      "Data columns (total 2 columns):\n",
      "id             9944 non-null int64\n",
      "ingredients    9944 non-null object\n",
      "dtypes: int64(1), object(1)\n",
      "memory usage: 155.5+ KB\n"
     ]
    }
   ],
   "source": [
    "test_data.info()\n"
   ]
  },
  {
   "cell_type": "code",
   "execution_count": 7,
   "metadata": {
    "ExecuteTime": {
     "end_time": "2020-02-19T00:39:46.794131Z",
     "start_time": "2020-02-19T00:39:46.447006Z"
    },
    "cell_style": "split",
    "scrolled": false
   },
   "outputs": [
    {
     "data": {
      "text/plain": [
       "(array([ 0,  1,  2,  3,  4,  5,  6,  7,  8,  9, 10, 11, 12, 13, 14, 15, 16,\n",
       "        17, 18, 19]), <a list of 20 Text xticklabel objects>)"
      ]
     },
     "execution_count": 7,
     "metadata": {},
     "output_type": "execute_result"
    },
    {
     "data": {
      "image/png": "[encoded data removed]",
      "text/plain": [
       "<Figure size 432x288 with 1 Axes>"
      ]
     },
     "metadata": {
      "needs_background": "light"
     },
     "output_type": "display_data"
    }
   ],
   "source": [
    "# Bar Plot of various cuisines appearance frequency \n",
    "y = data['cuisine'].value_counts()\n",
    "x = y/y.sum() * 100\n",
    "y = y.index\n",
    "sns.barplot(y, x, data=data, palette=\"BuGn_r\")\n",
    "plt.xticks(rotation=-70)"
   ]
  },
  {
   "cell_type": "code",
   "execution_count": 8,
   "metadata": {
    "ExecuteTime": {
     "end_time": "2020-02-19T00:39:48.444132Z",
     "start_time": "2020-02-19T00:39:48.307128Z"
    },
    "cell_style": "split",
    "scrolled": true
   },
   "outputs": [
    {
     "data": {
      "text/html": [
       "<div>\n",
       "<style scoped>\n",
       "    .dataframe tbody tr th:only-of-type {\n",
       "        vertical-align: middle;\n",
       "    }\n",
       "\n",
       "    .dataframe tbody tr th {\n",
       "        vertical-align: top;\n",
       "    }\n",
       "\n",
       "    .dataframe thead th {\n",
       "        text-align: right;\n",
       "    }\n",
       "</style>\n",
       "<table border=\"1\" class=\"dataframe\">\n",
       "  <thead>\n",
       "    <tr style=\"text-align: right;\">\n",
       "      <th></th>\n",
       "      <th>ingredients</th>\n",
       "      <th>total</th>\n",
       "    </tr>\n",
       "  </thead>\n",
       "  <tbody>\n",
       "    <tr>\n",
       "      <th>0</th>\n",
       "      <td>salt</td>\n",
       "      <td>18049</td>\n",
       "    </tr>\n",
       "    <tr>\n",
       "      <th>1</th>\n",
       "      <td>onions</td>\n",
       "      <td>7972</td>\n",
       "    </tr>\n",
       "    <tr>\n",
       "      <th>2</th>\n",
       "      <td>olive oil</td>\n",
       "      <td>7972</td>\n",
       "    </tr>\n",
       "    <tr>\n",
       "      <th>3</th>\n",
       "      <td>water</td>\n",
       "      <td>7457</td>\n",
       "    </tr>\n",
       "    <tr>\n",
       "      <th>4</th>\n",
       "      <td>garlic</td>\n",
       "      <td>7380</td>\n",
       "    </tr>\n",
       "    <tr>\n",
       "      <th>5</th>\n",
       "      <td>sugar</td>\n",
       "      <td>6434</td>\n",
       "    </tr>\n",
       "    <tr>\n",
       "      <th>6</th>\n",
       "      <td>garlic cloves</td>\n",
       "      <td>6237</td>\n",
       "    </tr>\n",
       "    <tr>\n",
       "      <th>7</th>\n",
       "      <td>butter</td>\n",
       "      <td>4848</td>\n",
       "    </tr>\n",
       "    <tr>\n",
       "      <th>8</th>\n",
       "      <td>ground black pepper</td>\n",
       "      <td>4785</td>\n",
       "    </tr>\n",
       "    <tr>\n",
       "      <th>9</th>\n",
       "      <td>all-purpose flour</td>\n",
       "      <td>4632</td>\n",
       "    </tr>\n",
       "  </tbody>\n",
       "</table>\n",
       "</div>"
      ],
      "text/plain": [
       "           ingredients  total\n",
       "0                 salt  18049\n",
       "1               onions   7972\n",
       "2            olive oil   7972\n",
       "3                water   7457\n",
       "4               garlic   7380\n",
       "5                sugar   6434\n",
       "6        garlic cloves   6237\n",
       "7               butter   4848\n",
       "8  ground black pepper   4785\n",
       "9    all-purpose flour   4632"
      ]
     },
     "execution_count": 8,
     "metadata": {},
     "output_type": "execute_result"
    }
   ],
   "source": [
    "# The most popular ingredients\n",
    "ingre_df = pd.DataFrame(\n",
    "    Counter(\n",
    "        [i for sublist in data.ingredients for i in sublist]).most_common(),\n",
    "    columns=['ingredients', 'total']\n",
    "    )\n",
    "ingre_df.head(10)"
   ]
  },
  {
   "cell_type": "code",
   "execution_count": 9,
   "metadata": {
    "ExecuteTime": {
     "end_time": "2020-02-19T00:39:50.917705Z",
     "start_time": "2020-02-19T00:39:50.883152Z"
    },
    "scrolled": true
   },
   "outputs": [
    {
     "name": "stdout",
     "output_type": "stream",
     "text": [
      "max number of ingredients in Cuisine 65\n",
      "min number of ingredients in Cuisine 1\n"
     ]
    }
   ],
   "source": [
    "print('max number of ingredients in Cuisine', (data['ingredients'].str.len()).max())\n",
    "print('min number of ingredients in Cuisine', (data['ingredients'].str.len()).min())"
   ]
  },
  {
   "cell_type": "code",
   "execution_count": 10,
   "metadata": {
    "ExecuteTime": {
     "end_time": "2020-02-19T00:39:58.866100Z",
     "start_time": "2020-02-19T00:39:58.578102Z"
    }
   },
   "outputs": [
    {
     "data": {
      "image/png": "[encoded data removed]",
      "text/plain": [
       "<Figure size 1152x360 with 1 Axes>"
      ]
     },
     "metadata": {
      "needs_background": "light"
     },
     "output_type": "display_data"
    }
   ],
   "source": [
    "sns.distplot(data['ingredients'].str.len(), bins=max(data['ingredients'].str.len()),\n",
    "             hist=True,\n",
    "             hist_kws={\"linewidth\": 1, \"alpha\": 0.3, \"edgecolor\":'g', \"color\": \"g\"}, # \"histtype\": \"step\", \"color\": \"g\"\n",
    "             kde=False)\n",
    "plt.gcf().set_size_inches(16,5)\n",
    "plt.show()"
   ]
  },
  {
   "cell_type": "code",
   "execution_count": 11,
   "metadata": {
    "ExecuteTime": {
     "end_time": "2020-02-19T00:40:01.841102Z",
     "start_time": "2020-02-19T00:40:01.493090Z"
    },
    "cell_style": "split"
   },
   "outputs": [
    {
     "data": {
      "image/png": "[encoded data removed]",
      "text/plain": [
       "<Figure size 432x288 with 1 Axes>"
      ]
     },
     "metadata": {
      "needs_background": "light"
     },
     "output_type": "display_data"
    }
   ],
   "source": [
    "plot_data = data['ingredients'].str.len(),\n",
    "\n",
    "# This is  the colormap I'd like to use.\n",
    "cm = plt.cm.get_cmap('Blues')\n",
    "\n",
    "# Plot histogram.\n",
    "n, bins, patches = plt.hist(\n",
    "    plot_data, \n",
    "    bins=max(data['ingredients'].str.len())) \n",
    "\n",
    "# scale values to interval [0,1]\n",
    "bin_centers = 0.5 * (bins[:-1] + bins[1:])\n",
    "col = bin_centers - min(bin_centers) ; col /= max(col)\n",
    "\n",
    "for c, p in zip(col, patches):\n",
    "    plt.setp(p, 'facecolor', cm(c/0.3))\n",
    "plt.show()"
   ]
  },
  {
   "cell_type": "code",
   "execution_count": 12,
   "metadata": {
    "ExecuteTime": {
     "end_time": "2020-02-19T00:40:02.493145Z",
     "start_time": "2020-02-19T00:40:02.209133Z"
    },
    "cell_style": "split"
   },
   "outputs": [
    {
     "data": {
      "image/png": "[encoded data removed]",
      "text/plain": [
       "<Figure size 432x288 with 1 Axes>"
      ]
     },
     "metadata": {
      "needs_background": "light"
     },
     "output_type": "display_data"
    }
   ],
   "source": [
    "plot_data = data['ingredients'].str.len(),\n",
    "\n",
    "# This is  the colormap I'd like to use.\n",
    "cm = plt.cm.get_cmap('Blues')\n",
    "\n",
    "# Plot histogram.\n",
    "n, bins, patches = plt.hist(\n",
    "    plot_data, \n",
    "    bins=max(data['ingredients'].str.len())) \n",
    "\n",
    "# To normalize your values\n",
    "col = 0.8*(n-n.min())/(n.max()-n.min())\n",
    "\n",
    "\n",
    "for c, p in zip(col, patches):\n",
    "    plt.setp(p, 'facecolor', cm(c))\n",
    "plt.show()"
   ]
  },
  {
   "cell_type": "code",
   "execution_count": 13,
   "metadata": {
    "ExecuteTime": {
     "end_time": "2020-02-19T00:40:03.532264Z",
     "start_time": "2020-02-19T00:40:03.179195Z"
    },
    "cell_style": "split"
   },
   "outputs": [
    {
     "data": {
      "image/png": "[encoded data removed]",
      "text/plain": [
       "<Figure size 432x288 with 1 Axes>"
      ]
     },
     "metadata": {
      "needs_background": "light"
     },
     "output_type": "display_data"
    }
   ],
   "source": [
    "plot_data = data['ingredients'].str.len(),\n",
    "\n",
    "# This is  the colormap I'd like to use.\n",
    "cm = plt.cm.get_cmap('Blues')\n",
    "\n",
    "# Plot histogram.\n",
    "n, bins, patches = plt.hist(\n",
    "    plot_data, \n",
    "    bins=max(data['ingredients'].str.len())) \n",
    "\n",
    "for i, p in enumerate(patches):\n",
    "    plt.setp(p, 'facecolor', cm(i/20))\n",
    "\n",
    "plt.show()"
   ]
  },
  {
   "cell_type": "code",
   "execution_count": 14,
   "metadata": {
    "ExecuteTime": {
     "end_time": "2020-02-19T00:40:04.107225Z",
     "start_time": "2020-02-19T00:40:04.065235Z"
    },
    "scrolled": true
   },
   "outputs": [
    {
     "data": {
      "text/html": [
       "<div>\n",
       "<style scoped>\n",
       "    .dataframe tbody tr th:only-of-type {\n",
       "        vertical-align: middle;\n",
       "    }\n",
       "\n",
       "    .dataframe tbody tr th {\n",
       "        vertical-align: top;\n",
       "    }\n",
       "\n",
       "    .dataframe thead th {\n",
       "        text-align: right;\n",
       "    }\n",
       "</style>\n",
       "<table border=\"1\" class=\"dataframe\">\n",
       "  <thead>\n",
       "    <tr style=\"text-align: right;\">\n",
       "      <th></th>\n",
       "      <th>cuisine</th>\n",
       "      <th>id</th>\n",
       "      <th>ingredients</th>\n",
       "    </tr>\n",
       "  </thead>\n",
       "  <tbody>\n",
       "    <tr>\n",
       "      <th>66</th>\n",
       "      <td>korean</td>\n",
       "      <td>8530</td>\n",
       "      <td>[jasmine rice, garlic, scallions, sugar, shiitake, Gochujang base, beansprouts, top round steak, sesame seeds, rice vinegar, carrots, soy sauce, s...</td>\n",
       "    </tr>\n",
       "    <tr>\n",
       "      <th>88</th>\n",
       "      <td>korean</td>\n",
       "      <td>17004</td>\n",
       "      <td>[water, barley]</td>\n",
       "    </tr>\n",
       "    <tr>\n",
       "      <th>104</th>\n",
       "      <td>korean</td>\n",
       "      <td>7782</td>\n",
       "      <td>[cooking spray, garlic cloves, sliced green onions, chile paste, salt, fresh lime juice, sugar, flank steak, corn tortillas, lower sodium soy sauc...</td>\n",
       "    </tr>\n",
       "    <tr>\n",
       "      <th>109</th>\n",
       "      <td>korean</td>\n",
       "      <td>47095</td>\n",
       "      <td>[sugar, water, noodles, pork, corn starch, baby bok choy, black bean sauce, red potato, kosher salt, onions]</td>\n",
       "    </tr>\n",
       "    <tr>\n",
       "      <th>140</th>\n",
       "      <td>korean</td>\n",
       "      <td>27165</td>\n",
       "      <td>[fish sauce, chicken broth, sesame oil, green onions, eggs]</td>\n",
       "    </tr>\n",
       "    <tr>\n",
       "      <th>157</th>\n",
       "      <td>korean</td>\n",
       "      <td>34248</td>\n",
       "      <td>[soy sauce, chili paste, oil, brown sugar, honey, red pepper flakes, kiwi, pepper, asian pear, garlic cloves, pork, fresh ginger, salt]</td>\n",
       "    </tr>\n",
       "    <tr>\n",
       "      <th>162</th>\n",
       "      <td>korean</td>\n",
       "      <td>2472</td>\n",
       "      <td>[wakame, extra-lean ground beef, minced garlic, salt, water, soy sauce, sesame oil]</td>\n",
       "    </tr>\n",
       "    <tr>\n",
       "      <th>182</th>\n",
       "      <td>korean</td>\n",
       "      <td>14970</td>\n",
       "      <td>[soy sauce, ginger, canola oil, flour, rice vinegar, honey, garlic, chicken wings, sesame oil, corn starch]</td>\n",
       "    </tr>\n",
       "    <tr>\n",
       "      <th>215</th>\n",
       "      <td>korean</td>\n",
       "      <td>428</td>\n",
       "      <td>[sesame oil, water, soy sauce, kale]</td>\n",
       "    </tr>\n",
       "    <tr>\n",
       "      <th>241</th>\n",
       "      <td>korean</td>\n",
       "      <td>242</td>\n",
       "      <td>[romaine lettuce, sesame seeds, gingerroot, soy sauce, sesame oil, cooked white rice, sugar, mirin, garlic cloves, rib eye steaks, black pepper, h...</td>\n",
       "    </tr>\n",
       "    <tr>\n",
       "      <th>247</th>\n",
       "      <td>korean</td>\n",
       "      <td>3245</td>\n",
       "      <td>[white vinegar, reduced sodium soy sauce, kosher salt, toasted sesame oil, fresh spinach, garlic cloves, ground black pepper]</td>\n",
       "    </tr>\n",
       "    <tr>\n",
       "      <th>250</th>\n",
       "      <td>korean</td>\n",
       "      <td>19691</td>\n",
       "      <td>[Korean chile flakes, fresh lemon juice, pepper, kosher salt, celery, peanut oil]</td>\n",
       "    </tr>\n",
       "    <tr>\n",
       "      <th>257</th>\n",
       "      <td>korean</td>\n",
       "      <td>40617</td>\n",
       "      <td>[vegetable oil, salt, green bell pepper, red bell pepper, large eggs]</td>\n",
       "    </tr>\n",
       "    <tr>\n",
       "      <th>312</th>\n",
       "      <td>korean</td>\n",
       "      <td>45593</td>\n",
       "      <td>[bean threads, sesame seeds, carrots, safflower oil, mushrooms, onions, sugar, cayenne, toasted sesame oil, reduced sodium tamari, black pepper, b...</td>\n",
       "    </tr>\n",
       "    <tr>\n",
       "      <th>318</th>\n",
       "      <td>korean</td>\n",
       "      <td>34385</td>\n",
       "      <td>[daikon, red radishes, green onions, ginger, chili flakes, sea salt, carrots, napa cabbage, garlic cloves]</td>\n",
       "    </tr>\n",
       "    <tr>\n",
       "      <th>326</th>\n",
       "      <td>korean</td>\n",
       "      <td>42007</td>\n",
       "      <td>[ground pork, spam, rice cakes, firm tofu, onions, water, Gochujang base, kimchi, green onions, sausages, chopped garlic]</td>\n",
       "    </tr>\n",
       "    <tr>\n",
       "      <th>368</th>\n",
       "      <td>korean</td>\n",
       "      <td>19747</td>\n",
       "      <td>[soy sauce, sesame oil, fresh spinach, sesame seeds, sugar, vinegar, black pepper, crushed garlic]</td>\n",
       "    </tr>\n",
       "    <tr>\n",
       "      <th>382</th>\n",
       "      <td>korean</td>\n",
       "      <td>45841</td>\n",
       "      <td>[green bell pepper, peeled fresh ginger, rib eye steaks, pickles, garlic cloves, low sodium soy sauce, hoagie buns, canola oil, mayonaise, scallions]</td>\n",
       "    </tr>\n",
       "    <tr>\n",
       "      <th>437</th>\n",
       "      <td>korean</td>\n",
       "      <td>3820</td>\n",
       "      <td>[ginger juice, minced garlic, green onions, soy sauce, sesame salt, chili powder, pepper, pork ribs, sesame oil, sugar, chili paste, rice wine]</td>\n",
       "    </tr>\n",
       "    <tr>\n",
       "      <th>477</th>\n",
       "      <td>korean</td>\n",
       "      <td>14398</td>\n",
       "      <td>[soy sauce, green onions, salt, cucumber, pepper flakes, sesame seeds, garlic, Gochujang base, pears, rice syrup, ginger, corn syrup, onions, eggs...</td>\n",
       "    </tr>\n",
       "    <tr>\n",
       "      <th>489</th>\n",
       "      <td>korean</td>\n",
       "      <td>33841</td>\n",
       "      <td>[cold water, ground black pepper, sesame oil, toasted sesame seeds, sugar, mirin, garlic cloves, low sodium soy sauce, asian pear, russet potatoes...</td>\n",
       "    </tr>\n",
       "    <tr>\n",
       "      <th>559</th>\n",
       "      <td>korean</td>\n",
       "      <td>49047</td>\n",
       "      <td>[soy sauce, red pepper flakes, ground ginger, sesame oil, garlic, green onions, white rice, brown sugar, vegetable oil, ground beef]</td>\n",
       "    </tr>\n",
       "    <tr>\n",
       "      <th>607</th>\n",
       "      <td>korean</td>\n",
       "      <td>21933</td>\n",
       "      <td>[black pepper, sesame oil, granulated sugar, scallions, light soy sauce, teriyaki sauce, brown sugar, beef, garlic cloves]</td>\n",
       "    </tr>\n",
       "    <tr>\n",
       "      <th>681</th>\n",
       "      <td>korean</td>\n",
       "      <td>37163</td>\n",
       "      <td>[soy sauce, chili powder, carrots, granulated sugar, garlic, pork belly, sesame oil, onions, green onions, Gochujang base]</td>\n",
       "    </tr>\n",
       "    <tr>\n",
       "      <th>729</th>\n",
       "      <td>korean</td>\n",
       "      <td>28973</td>\n",
       "      <td>[shiitake, green onions, Gochujang base, seafood stock, ginger, steak, radishes, watercress, shrimp, olive oil, jalapeno chilies, garlic, onions]</td>\n",
       "    </tr>\n",
       "    <tr>\n",
       "      <th>802</th>\n",
       "      <td>korean</td>\n",
       "      <td>31804</td>\n",
       "      <td>[chile powder, coarse salt, scallions, sugar, ginger, shrimp, fish sauce, napa cabbage, carrots, soy sauce, garlic]</td>\n",
       "    </tr>\n",
       "    <tr>\n",
       "      <th>817</th>\n",
       "      <td>korean</td>\n",
       "      <td>31611</td>\n",
       "      <td>[seasoning, pepper, sesame oil, onions, sugar, honey, oyster mushrooms, sirloin, water, apples, kiwi, soy sauce, green onions, garlic cloves]</td>\n",
       "    </tr>\n",
       "    <tr>\n",
       "      <th>819</th>\n",
       "      <td>korean</td>\n",
       "      <td>27290</td>\n",
       "      <td>[marinade, fat, toasted sesame oil, cooked rice, salt, green beans, sliced green onions, fat-trimmed beef flank steak, carrots, toasted sesame see...</td>\n",
       "    </tr>\n",
       "    <tr>\n",
       "      <th>890</th>\n",
       "      <td>korean</td>\n",
       "      <td>22634</td>\n",
       "      <td>[water, grated lemon zest, jalapeno chilies, soy sauce, dark brown sugar]</td>\n",
       "    </tr>\n",
       "    <tr>\n",
       "      <th>991</th>\n",
       "      <td>korean</td>\n",
       "      <td>12404</td>\n",
       "      <td>[fresh ginger, red pepper, soy sauce, sesame oil, salt, brown sugar, green onions, garlic, pepper, lean ground beef]</td>\n",
       "    </tr>\n",
       "    <tr>\n",
       "      <th>...</th>\n",
       "      <td>...</td>\n",
       "      <td>...</td>\n",
       "      <td>...</td>\n",
       "    </tr>\n",
       "    <tr>\n",
       "      <th>38647</th>\n",
       "      <td>korean</td>\n",
       "      <td>21655</td>\n",
       "      <td>[mushrooms, doenzang, water, green chilies, greens, white onion, spring onions, arugula, zucchini, garlic cloves]</td>\n",
       "    </tr>\n",
       "    <tr>\n",
       "      <th>38660</th>\n",
       "      <td>korean</td>\n",
       "      <td>15123</td>\n",
       "      <td>[gochugaru, garlic, spam, soy sauce, hot dogs, Gochujang base, brown sugar, rice cakes, yellow onion, water, ramen noodles, scallions]</td>\n",
       "    </tr>\n",
       "    <tr>\n",
       "      <th>38825</th>\n",
       "      <td>korean</td>\n",
       "      <td>33517</td>\n",
       "      <td>[low sodium soy sauce, peeled fresh ginger, garlic cloves, cooking spray, dark sesame oil, pork tenderloin, rice vinegar, sugar, crushed red pepper]</td>\n",
       "    </tr>\n",
       "    <tr>\n",
       "      <th>38829</th>\n",
       "      <td>korean</td>\n",
       "      <td>40593</td>\n",
       "      <td>[soy sauce, asian pear, sesame oil, toasted sesame seeds, butter lettuce, vegetable oil spray, jalapeno chilies, garlic cloves, sugar, ground blac...</td>\n",
       "    </tr>\n",
       "    <tr>\n",
       "      <th>38847</th>\n",
       "      <td>korean</td>\n",
       "      <td>22881</td>\n",
       "      <td>[food colouring, red beans, sweet rice flour, rice syrup, salt, sugar, vanilla extract, starch, green tea powder]</td>\n",
       "    </tr>\n",
       "    <tr>\n",
       "      <th>38859</th>\n",
       "      <td>korean</td>\n",
       "      <td>8458</td>\n",
       "      <td>[ground black pepper, maple syrup, water, brown rice, corn starch, fresh ginger root, garlic, soy sauce, boneless skinless chicken breasts, dark s...</td>\n",
       "    </tr>\n",
       "    <tr>\n",
       "      <th>38872</th>\n",
       "      <td>korean</td>\n",
       "      <td>2322</td>\n",
       "      <td>[fresh ginger, mirin, garlic, sirloin, granulated sugar, sesame oil, sesame seeds, green onions, soy sauce, asian pear, vegetable oil]</td>\n",
       "    </tr>\n",
       "    <tr>\n",
       "      <th>38921</th>\n",
       "      <td>korean</td>\n",
       "      <td>40958</td>\n",
       "      <td>[sugar, Tabasco Pepper Sauce, lemon juice, flour, rice vinegar, light soy sauce, chicken wing drummettes, green onions, garlic cloves]</td>\n",
       "    </tr>\n",
       "    <tr>\n",
       "      <th>38925</th>\n",
       "      <td>korean</td>\n",
       "      <td>30920</td>\n",
       "      <td>[honey, rice vinegar, brown sugar, ginger, garlic cloves, chicken wings, sesame oil, Gochujang base, soy sauce, salt]</td>\n",
       "    </tr>\n",
       "    <tr>\n",
       "      <th>39000</th>\n",
       "      <td>korean</td>\n",
       "      <td>29531</td>\n",
       "      <td>[rice syrup, starch, Gochujang base, eggs, ground black pepper, garlic, chicken, baking soda, apple cider vinegar, canola oil, ketchup, flour, sal...</td>\n",
       "    </tr>\n",
       "    <tr>\n",
       "      <th>39054</th>\n",
       "      <td>korean</td>\n",
       "      <td>25189</td>\n",
       "      <td>[zucchini, garlic, water, green onions, jalapeno chilies, firm tofu, soy bean paste, vegetable stock]</td>\n",
       "    </tr>\n",
       "    <tr>\n",
       "      <th>39225</th>\n",
       "      <td>korean</td>\n",
       "      <td>48279</td>\n",
       "      <td>[tortillas, kimchi, sesame seeds, butter, garlic powder, sirloin steak, cheddar cheese, green onions]</td>\n",
       "    </tr>\n",
       "    <tr>\n",
       "      <th>39245</th>\n",
       "      <td>korean</td>\n",
       "      <td>18937</td>\n",
       "      <td>[soy sauce, orange bell pepper, rice vinegar, steak, brown rice noodles, fresh ginger, green onions, oil, fresh cilantro, mushrooms, Gochujang bas...</td>\n",
       "    </tr>\n",
       "    <tr>\n",
       "      <th>39251</th>\n",
       "      <td>korean</td>\n",
       "      <td>18803</td>\n",
       "      <td>[yellow squash, daikon, medium firm tofu, green onions, garlic, beef stock, red pepper, dashi kombu, napa cabbage, soybean paste]</td>\n",
       "    </tr>\n",
       "    <tr>\n",
       "      <th>39297</th>\n",
       "      <td>korean</td>\n",
       "      <td>41888</td>\n",
       "      <td>[sugar, asian pear, garlic, soy sauce, sesame oil, onions, Fuji Apple, green onions, beef rib short, sesame seeds, ginger]</td>\n",
       "    </tr>\n",
       "    <tr>\n",
       "      <th>39308</th>\n",
       "      <td>korean</td>\n",
       "      <td>32725</td>\n",
       "      <td>[lower sodium soy sauce, scallions, water, beef tenderloin, pepper, splenda, garlic cloves, steamer, rice vinegar]</td>\n",
       "    </tr>\n",
       "    <tr>\n",
       "      <th>39407</th>\n",
       "      <td>korean</td>\n",
       "      <td>6754</td>\n",
       "      <td>[low sodium soy sauce, ground black pepper, lettuce leaves, beef sirloin, fresh ginger, mirin, hot bean paste, toasted sesame oil, sesame seeds, e...</td>\n",
       "    </tr>\n",
       "    <tr>\n",
       "      <th>39408</th>\n",
       "      <td>korean</td>\n",
       "      <td>36071</td>\n",
       "      <td>[ground ginger, kecap manis, paprika, beansprouts, sugar, mushrooms, oil, eggs, sambal chile paste, tomato ketchup, ketjap, water, sesame oil, car...</td>\n",
       "    </tr>\n",
       "    <tr>\n",
       "      <th>39430</th>\n",
       "      <td>korean</td>\n",
       "      <td>46334</td>\n",
       "      <td>[soy sauce, sesame oil, onions, sugar, asian pear, garlic, sesame seeds, ginger, Fuji Apple, green onions, beef rib short]</td>\n",
       "    </tr>\n",
       "    <tr>\n",
       "      <th>39462</th>\n",
       "      <td>korean</td>\n",
       "      <td>46612</td>\n",
       "      <td>[garlic paste, potatoes, onions, dashi, Gochujang base, zucchini, fresh mushrooms, water, soft tofu, bean curd]</td>\n",
       "    </tr>\n",
       "    <tr>\n",
       "      <th>39480</th>\n",
       "      <td>korean</td>\n",
       "      <td>7040</td>\n",
       "      <td>[black pepper, crushed red pepper flakes, organic sugar, green onions, garlic, onions, mirin, ginger, toasted sesame oil, tofu, wheat, rice vinega...</td>\n",
       "    </tr>\n",
       "    <tr>\n",
       "      <th>39488</th>\n",
       "      <td>korean</td>\n",
       "      <td>16306</td>\n",
       "      <td>[soy sauce, sesame oil, yellow onion, beef, ginger, white sugar, black pepper, red pepper flakes, toasted sesame seeds, rib eye steaks, green onio...</td>\n",
       "    </tr>\n",
       "    <tr>\n",
       "      <th>39517</th>\n",
       "      <td>korean</td>\n",
       "      <td>5302</td>\n",
       "      <td>[pork loin, vegetable oil, garlic cloves, sugar, napa cabbage leaves, dried shiitake mushrooms, glass noodles, sesame, green onions, salt, onions,...</td>\n",
       "    </tr>\n",
       "    <tr>\n",
       "      <th>39545</th>\n",
       "      <td>korean</td>\n",
       "      <td>47041</td>\n",
       "      <td>[boneless chicken skinless thigh, ginger, toasted sesame seeds, malt syrup, granulated sugar, garlic cloves, ground black pepper, scallions, soy s...</td>\n",
       "    </tr>\n",
       "    <tr>\n",
       "      <th>39589</th>\n",
       "      <td>korean</td>\n",
       "      <td>33249</td>\n",
       "      <td>[chiles, sesame seeds, sesame oil, all-purpose flour, minced garlic, large eggs, salt, carrots, hot red pepper flakes, water, seeds, rice vinegar,...</td>\n",
       "    </tr>\n",
       "    <tr>\n",
       "      <th>39591</th>\n",
       "      <td>korean</td>\n",
       "      <td>38942</td>\n",
       "      <td>[kosher salt, dark brown sugar, rice vinegar, reduced sodium soy sauce, toasted sesame oil, pork baby back ribs, Gochujang base]</td>\n",
       "    </tr>\n",
       "    <tr>\n",
       "      <th>39629</th>\n",
       "      <td>korean</td>\n",
       "      <td>13080</td>\n",
       "      <td>[white vinegar, hoisin sauce, yellow onion, ground black pepper, green onions, garlic cloves, soy sauce, steamed white rice, dark brown sugar, Sri...</td>\n",
       "    </tr>\n",
       "    <tr>\n",
       "      <th>39678</th>\n",
       "      <td>korean</td>\n",
       "      <td>46749</td>\n",
       "      <td>[soy sauce, asian pear, rice vinegar, toasted sesame oil, cabbage, lettuce, leaves, hard-boiled egg, cucumber, toasted sesame seeds, honey, red ca...</td>\n",
       "    </tr>\n",
       "    <tr>\n",
       "      <th>39742</th>\n",
       "      <td>korean</td>\n",
       "      <td>38785</td>\n",
       "      <td>[cooked rice, boneless chuck roast, scallions, water, sesame oil, sugar, sesame seeds, kimchi, low sodium soy sauce, fresh ginger, large garlic cl...</td>\n",
       "    </tr>\n",
       "    <tr>\n",
       "      <th>39759</th>\n",
       "      <td>korean</td>\n",
       "      <td>12153</td>\n",
       "      <td>[red chili peppers, sea salt, onions, water, chilli bean sauce, caster sugar, garlic, white vinegar, chili oil, cucumber]</td>\n",
       "    </tr>\n",
       "  </tbody>\n",
       "</table>\n",
       "<p>830 rows × 3 columns</p>\n",
       "</div>"
      ],
      "text/plain": [
       "      cuisine     id  \\\n",
       "66     korean   8530   \n",
       "88     korean  17004   \n",
       "104    korean   7782   \n",
       "109    korean  47095   \n",
       "140    korean  27165   \n",
       "157    korean  34248   \n",
       "162    korean   2472   \n",
       "182    korean  14970   \n",
       "215    korean    428   \n",
       "241    korean    242   \n",
       "247    korean   3245   \n",
       "250    korean  19691   \n",
       "257    korean  40617   \n",
       "312    korean  45593   \n",
       "318    korean  34385   \n",
       "326    korean  42007   \n",
       "368    korean  19747   \n",
       "382    korean  45841   \n",
       "437    korean   3820   \n",
       "477    korean  14398   \n",
       "489    korean  33841   \n",
       "559    korean  49047   \n",
       "607    korean  21933   \n",
       "681    korean  37163   \n",
       "729    korean  28973   \n",
       "802    korean  31804   \n",
       "817    korean  31611   \n",
       "819    korean  27290   \n",
       "890    korean  22634   \n",
       "991    korean  12404   \n",
       "...       ...    ...   \n",
       "38647  korean  21655   \n",
       "38660  korean  15123   \n",
       "38825  korean  33517   \n",
       "38829  korean  40593   \n",
       "38847  korean  22881   \n",
       "38859  korean   8458   \n",
       "38872  korean   2322   \n",
       "38921  korean  40958   \n",
       "38925  korean  30920   \n",
       "39000  korean  29531   \n",
       "39054  korean  25189   \n",
       "39225  korean  48279   \n",
       "39245  korean  18937   \n",
       "39251  korean  18803   \n",
       "39297  korean  41888   \n",
       "39308  korean  32725   \n",
       "39407  korean   6754   \n",
       "39408  korean  36071   \n",
       "39430  korean  46334   \n",
       "39462  korean  46612   \n",
       "39480  korean   7040   \n",
       "39488  korean  16306   \n",
       "39517  korean   5302   \n",
       "39545  korean  47041   \n",
       "39589  korean  33249   \n",
       "39591  korean  38942   \n",
       "39629  korean  13080   \n",
       "39678  korean  46749   \n",
       "39742  korean  38785   \n",
       "39759  korean  12153   \n",
       "\n",
       "                                                                                                                                                 ingredients  \n",
       "66     [jasmine rice, garlic, scallions, sugar, shiitake, Gochujang base, beansprouts, top round steak, sesame seeds, rice vinegar, carrots, soy sauce, s...  \n",
       "88                                                                                                                                           [water, barley]  \n",
       "104    [cooking spray, garlic cloves, sliced green onions, chile paste, salt, fresh lime juice, sugar, flank steak, corn tortillas, lower sodium soy sauc...  \n",
       "109                                             [sugar, water, noodles, pork, corn starch, baby bok choy, black bean sauce, red potato, kosher salt, onions]  \n",
       "140                                                                                              [fish sauce, chicken broth, sesame oil, green onions, eggs]  \n",
       "157                  [soy sauce, chili paste, oil, brown sugar, honey, red pepper flakes, kiwi, pepper, asian pear, garlic cloves, pork, fresh ginger, salt]  \n",
       "162                                                                      [wakame, extra-lean ground beef, minced garlic, salt, water, soy sauce, sesame oil]  \n",
       "182                                              [soy sauce, ginger, canola oil, flour, rice vinegar, honey, garlic, chicken wings, sesame oil, corn starch]  \n",
       "215                                                                                                                     [sesame oil, water, soy sauce, kale]  \n",
       "241    [romaine lettuce, sesame seeds, gingerroot, soy sauce, sesame oil, cooked white rice, sugar, mirin, garlic cloves, rib eye steaks, black pepper, h...  \n",
       "247                            [white vinegar, reduced sodium soy sauce, kosher salt, toasted sesame oil, fresh spinach, garlic cloves, ground black pepper]  \n",
       "250                                                                        [Korean chile flakes, fresh lemon juice, pepper, kosher salt, celery, peanut oil]  \n",
       "257                                                                                    [vegetable oil, salt, green bell pepper, red bell pepper, large eggs]  \n",
       "312    [bean threads, sesame seeds, carrots, safflower oil, mushrooms, onions, sugar, cayenne, toasted sesame oil, reduced sodium tamari, black pepper, b...  \n",
       "318                                               [daikon, red radishes, green onions, ginger, chili flakes, sea salt, carrots, napa cabbage, garlic cloves]  \n",
       "326                                [ground pork, spam, rice cakes, firm tofu, onions, water, Gochujang base, kimchi, green onions, sausages, chopped garlic]  \n",
       "368                                                       [soy sauce, sesame oil, fresh spinach, sesame seeds, sugar, vinegar, black pepper, crushed garlic]  \n",
       "382    [green bell pepper, peeled fresh ginger, rib eye steaks, pickles, garlic cloves, low sodium soy sauce, hoagie buns, canola oil, mayonaise, scallions]  \n",
       "437          [ginger juice, minced garlic, green onions, soy sauce, sesame salt, chili powder, pepper, pork ribs, sesame oil, sugar, chili paste, rice wine]  \n",
       "477    [soy sauce, green onions, salt, cucumber, pepper flakes, sesame seeds, garlic, Gochujang base, pears, rice syrup, ginger, corn syrup, onions, eggs...  \n",
       "489    [cold water, ground black pepper, sesame oil, toasted sesame seeds, sugar, mirin, garlic cloves, low sodium soy sauce, asian pear, russet potatoes...  \n",
       "559                     [soy sauce, red pepper flakes, ground ginger, sesame oil, garlic, green onions, white rice, brown sugar, vegetable oil, ground beef]  \n",
       "607                               [black pepper, sesame oil, granulated sugar, scallions, light soy sauce, teriyaki sauce, brown sugar, beef, garlic cloves]  \n",
       "681                               [soy sauce, chili powder, carrots, granulated sugar, garlic, pork belly, sesame oil, onions, green onions, Gochujang base]  \n",
       "729        [shiitake, green onions, Gochujang base, seafood stock, ginger, steak, radishes, watercress, shrimp, olive oil, jalapeno chilies, garlic, onions]  \n",
       "802                                      [chile powder, coarse salt, scallions, sugar, ginger, shrimp, fish sauce, napa cabbage, carrots, soy sauce, garlic]  \n",
       "817            [seasoning, pepper, sesame oil, onions, sugar, honey, oyster mushrooms, sirloin, water, apples, kiwi, soy sauce, green onions, garlic cloves]  \n",
       "819    [marinade, fat, toasted sesame oil, cooked rice, salt, green beans, sliced green onions, fat-trimmed beef flank steak, carrots, toasted sesame see...  \n",
       "890                                                                                [water, grated lemon zest, jalapeno chilies, soy sauce, dark brown sugar]  \n",
       "991                                     [fresh ginger, red pepper, soy sauce, sesame oil, salt, brown sugar, green onions, garlic, pepper, lean ground beef]  \n",
       "...                                                                                                                                                      ...  \n",
       "38647                                      [mushrooms, doenzang, water, green chilies, greens, white onion, spring onions, arugula, zucchini, garlic cloves]  \n",
       "38660                 [gochugaru, garlic, spam, soy sauce, hot dogs, Gochujang base, brown sugar, rice cakes, yellow onion, water, ramen noodles, scallions]  \n",
       "38825   [low sodium soy sauce, peeled fresh ginger, garlic cloves, cooking spray, dark sesame oil, pork tenderloin, rice vinegar, sugar, crushed red pepper]  \n",
       "38829  [soy sauce, asian pear, sesame oil, toasted sesame seeds, butter lettuce, vegetable oil spray, jalapeno chilies, garlic cloves, sugar, ground blac...  \n",
       "38847                                      [food colouring, red beans, sweet rice flour, rice syrup, salt, sugar, vanilla extract, starch, green tea powder]  \n",
       "38859  [ground black pepper, maple syrup, water, brown rice, corn starch, fresh ginger root, garlic, soy sauce, boneless skinless chicken breasts, dark s...  \n",
       "38872                 [fresh ginger, mirin, garlic, sirloin, granulated sugar, sesame oil, sesame seeds, green onions, soy sauce, asian pear, vegetable oil]  \n",
       "38921                 [sugar, Tabasco Pepper Sauce, lemon juice, flour, rice vinegar, light soy sauce, chicken wing drummettes, green onions, garlic cloves]  \n",
       "38925                                  [honey, rice vinegar, brown sugar, ginger, garlic cloves, chicken wings, sesame oil, Gochujang base, soy sauce, salt]  \n",
       "39000  [rice syrup, starch, Gochujang base, eggs, ground black pepper, garlic, chicken, baking soda, apple cider vinegar, canola oil, ketchup, flour, sal...  \n",
       "39054                                                  [zucchini, garlic, water, green onions, jalapeno chilies, firm tofu, soy bean paste, vegetable stock]  \n",
       "39225                                                  [tortillas, kimchi, sesame seeds, butter, garlic powder, sirloin steak, cheddar cheese, green onions]  \n",
       "39245  [soy sauce, orange bell pepper, rice vinegar, steak, brown rice noodles, fresh ginger, green onions, oil, fresh cilantro, mushrooms, Gochujang bas...  \n",
       "39251                      [yellow squash, daikon, medium firm tofu, green onions, garlic, beef stock, red pepper, dashi kombu, napa cabbage, soybean paste]  \n",
       "39297                             [sugar, asian pear, garlic, soy sauce, sesame oil, onions, Fuji Apple, green onions, beef rib short, sesame seeds, ginger]  \n",
       "39308                                     [lower sodium soy sauce, scallions, water, beef tenderloin, pepper, splenda, garlic cloves, steamer, rice vinegar]  \n",
       "39407  [low sodium soy sauce, ground black pepper, lettuce leaves, beef sirloin, fresh ginger, mirin, hot bean paste, toasted sesame oil, sesame seeds, e...  \n",
       "39408  [ground ginger, kecap manis, paprika, beansprouts, sugar, mushrooms, oil, eggs, sambal chile paste, tomato ketchup, ketjap, water, sesame oil, car...  \n",
       "39430                             [soy sauce, sesame oil, onions, sugar, asian pear, garlic, sesame seeds, ginger, Fuji Apple, green onions, beef rib short]  \n",
       "39462                                        [garlic paste, potatoes, onions, dashi, Gochujang base, zucchini, fresh mushrooms, water, soft tofu, bean curd]  \n",
       "39480  [black pepper, crushed red pepper flakes, organic sugar, green onions, garlic, onions, mirin, ginger, toasted sesame oil, tofu, wheat, rice vinega...  \n",
       "39488  [soy sauce, sesame oil, yellow onion, beef, ginger, white sugar, black pepper, red pepper flakes, toasted sesame seeds, rib eye steaks, green onio...  \n",
       "39517  [pork loin, vegetable oil, garlic cloves, sugar, napa cabbage leaves, dried shiitake mushrooms, glass noodles, sesame, green onions, salt, onions,...  \n",
       "39545  [boneless chicken skinless thigh, ginger, toasted sesame seeds, malt syrup, granulated sugar, garlic cloves, ground black pepper, scallions, soy s...  \n",
       "39589  [chiles, sesame seeds, sesame oil, all-purpose flour, minced garlic, large eggs, salt, carrots, hot red pepper flakes, water, seeds, rice vinegar,...  \n",
       "39591                       [kosher salt, dark brown sugar, rice vinegar, reduced sodium soy sauce, toasted sesame oil, pork baby back ribs, Gochujang base]  \n",
       "39629  [white vinegar, hoisin sauce, yellow onion, ground black pepper, green onions, garlic cloves, soy sauce, steamed white rice, dark brown sugar, Sri...  \n",
       "39678  [soy sauce, asian pear, rice vinegar, toasted sesame oil, cabbage, lettuce, leaves, hard-boiled egg, cucumber, toasted sesame seeds, honey, red ca...  \n",
       "39742  [cooked rice, boneless chuck roast, scallions, water, sesame oil, sugar, sesame seeds, kimchi, low sodium soy sauce, fresh ginger, large garlic cl...  \n",
       "39759                              [red chili peppers, sea salt, onions, water, chilli bean sauce, caster sugar, garlic, white vinegar, chili oil, cucumber]  \n",
       "\n",
       "[830 rows x 3 columns]"
      ]
     },
     "execution_count": 14,
     "metadata": {},
     "output_type": "execute_result"
    }
   ],
   "source": [
    "pd.set_option('display.max.colwidth', 150)\n",
    "data[data['cuisine'] == 'korean']"
   ]
  },
  {
   "cell_type": "code",
   "execution_count": 15,
   "metadata": {
    "ExecuteTime": {
     "end_time": "2020-02-19T00:40:06.897826Z",
     "start_time": "2020-02-19T00:40:06.881232Z"
    }
   },
   "outputs": [
    {
     "name": "stdout",
     "output_type": "stream",
     "text": [
      "cuisine 총 개수 20 \n",
      " cuisine 종류 ['greek', 'southern_us', 'filipino', 'indian', 'jamaican', 'spanish', 'italian', 'mexican', 'chinese', 'british', 'thai', 'vietnamese', 'cajun_creole', 'brazilian', 'french', 'japanese', 'irish', 'korean', 'moroccan', 'russian']\n"
     ]
    }
   ],
   "source": [
    "print('cuisine 총 개수 {} \\n cuisine 종류 {}'.format(len(data['cuisine'].unique()), list(data['cuisine'].unique())))"
   ]
  },
  {
   "cell_type": "code",
   "execution_count": 16,
   "metadata": {
    "ExecuteTime": {
     "end_time": "2020-02-19T00:40:13.506331Z",
     "start_time": "2020-02-19T00:40:13.489332Z"
    },
    "cell_style": "split",
    "scrolled": true
   },
   "outputs": [
    {
     "data": {
      "text/plain": [
       "array([ 6, 16,  4, ...,  8,  3, 13])"
      ]
     },
     "execution_count": 16,
     "metadata": {},
     "output_type": "execute_result"
    }
   ],
   "source": [
    "# Label Encoding of y - the target kinds of cuisine\n",
    "y_train = data['cuisine']\n",
    "lb = LabelEncoder()\n",
    "y_train = lb.fit_transform(y_train)\n",
    "y_train"
   ]
  },
  {
   "cell_type": "code",
   "execution_count": 17,
   "metadata": {
    "ExecuteTime": {
     "end_time": "2020-02-19T00:40:15.620489Z",
     "start_time": "2020-02-19T00:40:15.607502Z"
    },
    "cell_style": "split"
   },
   "outputs": [
    {
     "name": "stdout",
     "output_type": "stream",
     "text": [
      "레이블 인코딩 Inverse Transform 결과 ['brazilian', 'british', 'cajun_creole', 'chinese', 'filipino', 'french', 'greek', 'indian', 'irish', 'italian', 'jamaican', 'japanese', 'korean', 'mexican', 'moroccan', 'russian', 'southern_us', 'spanish', 'thai', 'vietnamese']\n"
     ]
    }
   ],
   "source": [
    "print('레이블 인코딩 Inverse Transform 결과 {}'.format(\n",
    "    list(lb.inverse_transform(range(20)))))"
   ]
  },
  {
   "cell_type": "code",
   "execution_count": 18,
   "metadata": {
    "ExecuteTime": {
     "end_time": "2020-02-19T00:40:17.658019Z",
     "start_time": "2020-02-19T00:40:17.644528Z"
    }
   },
   "outputs": [
    {
     "name": "stdout",
     "output_type": "stream",
     "text": [
      "학습데이터 (29830, 3), 실험데이터 (9944, 3)\n"
     ]
    }
   ],
   "source": [
    "from sklearn.model_selection import train_test_split\n",
    "X_train, X_test, y_train, y_test = train_test_split(data, y_train, random_state = 0)\n",
    "print('학습데이터 {}, 실험데이터 {}'.format(X_train.shape, X_test.shape))"
   ]
  },
  {
   "cell_type": "code",
   "execution_count": 19,
   "metadata": {
    "ExecuteTime": {
     "end_time": "2020-02-19T00:40:20.454702Z",
     "start_time": "2020-02-19T00:40:20.326658Z"
    }
   },
   "outputs": [],
   "source": [
    "train_doc = [\" \".join(str(x) for x in X_train.ingredients)]\n",
    "test_doc = [\" \".join(str(x) for x in X_test.ingredients)]"
   ]
  },
  {
   "cell_type": "code",
   "execution_count": 21,
   "metadata": {
    "ExecuteTime": {
     "end_time": "2020-02-19T00:40:25.490597Z",
     "start_time": "2020-02-19T00:40:25.329592Z"
    }
   },
   "outputs": [
    {
     "name": "stderr",
     "output_type": "stream",
     "text": [
      "c:\\users\\daumsoft\\appdata\\local\\programs\\python\\python37\\lib\\site-packages\\ipykernel_launcher.py:1: SettingWithCopyWarning: \n",
      "A value is trying to be set on a copy of a slice from a DataFrame.\n",
      "Try using .loc[row_indexer,col_indexer] = value instead\n",
      "\n",
      "See the caveats in the documentation: http://pandas.pydata.org/pandas-docs/stable/indexing.html#indexing-view-versus-copy\n",
      "  \"\"\"Entry point for launching an IPython kernel.\n",
      "c:\\users\\daumsoft\\appdata\\local\\programs\\python\\python37\\lib\\site-packages\\ipykernel_launcher.py:2: SettingWithCopyWarning: \n",
      "A value is trying to be set on a copy of a slice from a DataFrame.\n",
      "Try using .loc[row_indexer,col_indexer] = value instead\n",
      "\n",
      "See the caveats in the documentation: http://pandas.pydata.org/pandas-docs/stable/indexing.html#indexing-view-versus-copy\n",
      "  \n"
     ]
    }
   ],
   "source": [
    "X_train['seperated_ingredients'] = X_train['ingredients'].apply(','.join)\n",
    "X_test['seperated_ingredients'] = X_test['ingredients'].apply(','.join)"
   ]
  },
  {
   "cell_type": "code",
   "execution_count": 22,
   "metadata": {
    "ExecuteTime": {
     "end_time": "2020-02-19T00:40:33.394408Z",
     "start_time": "2020-02-19T00:40:33.389412Z"
    },
    "cell_style": "split"
   },
   "outputs": [
    {
     "data": {
      "text/plain": [
       "(29830, 4)"
      ]
     },
     "execution_count": 22,
     "metadata": {},
     "output_type": "execute_result"
    }
   ],
   "source": [
    "X_train.shape"
   ]
  },
  {
   "cell_type": "code",
   "execution_count": 23,
   "metadata": {
    "ExecuteTime": {
     "end_time": "2020-02-19T00:40:33.826409Z",
     "start_time": "2020-02-19T00:40:33.822410Z"
    },
    "cell_style": "split"
   },
   "outputs": [
    {
     "data": {
      "text/plain": [
       "(9944, 4)"
      ]
     },
     "execution_count": 23,
     "metadata": {},
     "output_type": "execute_result"
    }
   ],
   "source": [
    "X_test.shape"
   ]
  },
  {
   "cell_type": "code",
   "execution_count": 24,
   "metadata": {
    "ExecuteTime": {
     "end_time": "2020-02-19T00:40:36.060412Z",
     "start_time": "2020-02-19T00:40:36.044411Z"
    }
   },
   "outputs": [
    {
     "data": {
      "text/html": [
       "<div>\n",
       "<style scoped>\n",
       "    .dataframe tbody tr th:only-of-type {\n",
       "        vertical-align: middle;\n",
       "    }\n",
       "\n",
       "    .dataframe tbody tr th {\n",
       "        vertical-align: top;\n",
       "    }\n",
       "\n",
       "    .dataframe thead th {\n",
       "        text-align: right;\n",
       "    }\n",
       "</style>\n",
       "<table border=\"1\" class=\"dataframe\">\n",
       "  <thead>\n",
       "    <tr style=\"text-align: right;\">\n",
       "      <th></th>\n",
       "      <th>cuisine</th>\n",
       "      <th>id</th>\n",
       "      <th>ingredients</th>\n",
       "      <th>seperated_ingredients</th>\n",
       "    </tr>\n",
       "  </thead>\n",
       "  <tbody>\n",
       "    <tr>\n",
       "      <th>5110</th>\n",
       "      <td>italian</td>\n",
       "      <td>42704</td>\n",
       "      <td>[ground black pepper, pizza doughs, olive oil, garlic, pesto, grated parmesan cheese, goat cheese, eggplant, salt]</td>\n",
       "      <td>ground black pepper,pizza doughs,olive oil,garlic,pesto,grated parmesan cheese,goat cheese,eggplant,salt</td>\n",
       "    </tr>\n",
       "    <tr>\n",
       "      <th>26915</th>\n",
       "      <td>mexican</td>\n",
       "      <td>19402</td>\n",
       "      <td>[olive oil, onions, lime juice, salt, chopped cilantro fresh, black pepper, zucchini, boneless skinless chicken breast halves, cherry tomatoes, re...</td>\n",
       "      <td>olive oil,onions,lime juice,salt,chopped cilantro fresh,black pepper,zucchini,boneless skinless chicken breast halves,cherry tomatoes,red bell pep...</td>\n",
       "    </tr>\n",
       "    <tr>\n",
       "      <th>16284</th>\n",
       "      <td>mexican</td>\n",
       "      <td>34685</td>\n",
       "      <td>[white onion, whole milk, taco seasoning, ground beef, green chile, chili, salt, enchilada sauce, eggs, shredded cheddar cheese, baking powder, ga...</td>\n",
       "      <td>white onion,whole milk,taco seasoning,ground beef,green chile,chili,salt,enchilada sauce,eggs,shredded cheddar cheese,baking powder,garlic cloves,...</td>\n",
       "    </tr>\n",
       "    <tr>\n",
       "      <th>9538</th>\n",
       "      <td>french</td>\n",
       "      <td>151</td>\n",
       "      <td>[vanilla beans, red wine, sugar, large egg yolks, armagnac, fennel seeds, milk, salt, prunes, large egg whites, all-purpose flour]</td>\n",
       "      <td>vanilla beans,red wine,sugar,large egg yolks,armagnac,fennel seeds,milk,salt,prunes,large egg whites,all-purpose flour</td>\n",
       "    </tr>\n",
       "    <tr>\n",
       "      <th>4243</th>\n",
       "      <td>italian</td>\n",
       "      <td>46090</td>\n",
       "      <td>[pepper, butter, grated parmesan cheese, salt, minced garlic, 2% reduced-fat milk, orzo pasta, fresh parsley]</td>\n",
       "      <td>pepper,butter,grated parmesan cheese,salt,minced garlic,2% reduced-fat milk,orzo pasta,fresh parsley</td>\n",
       "    </tr>\n",
       "  </tbody>\n",
       "</table>\n",
       "</div>"
      ],
      "text/plain": [
       "       cuisine     id  \\\n",
       "5110   italian  42704   \n",
       "26915  mexican  19402   \n",
       "16284  mexican  34685   \n",
       "9538    french    151   \n",
       "4243   italian  46090   \n",
       "\n",
       "                                                                                                                                                 ingredients  \\\n",
       "5110                                      [ground black pepper, pizza doughs, olive oil, garlic, pesto, grated parmesan cheese, goat cheese, eggplant, salt]   \n",
       "26915  [olive oil, onions, lime juice, salt, chopped cilantro fresh, black pepper, zucchini, boneless skinless chicken breast halves, cherry tomatoes, re...   \n",
       "16284  [white onion, whole milk, taco seasoning, ground beef, green chile, chili, salt, enchilada sauce, eggs, shredded cheddar cheese, baking powder, ga...   \n",
       "9538                      [vanilla beans, red wine, sugar, large egg yolks, armagnac, fennel seeds, milk, salt, prunes, large egg whites, all-purpose flour]   \n",
       "4243                                           [pepper, butter, grated parmesan cheese, salt, minced garlic, 2% reduced-fat milk, orzo pasta, fresh parsley]   \n",
       "\n",
       "                                                                                                                                       seperated_ingredients  \n",
       "5110                                                ground black pepper,pizza doughs,olive oil,garlic,pesto,grated parmesan cheese,goat cheese,eggplant,salt  \n",
       "26915  olive oil,onions,lime juice,salt,chopped cilantro fresh,black pepper,zucchini,boneless skinless chicken breast halves,cherry tomatoes,red bell pep...  \n",
       "16284  white onion,whole milk,taco seasoning,ground beef,green chile,chili,salt,enchilada sauce,eggs,shredded cheddar cheese,baking powder,garlic cloves,...  \n",
       "9538                                  vanilla beans,red wine,sugar,large egg yolks,armagnac,fennel seeds,milk,salt,prunes,large egg whites,all-purpose flour  \n",
       "4243                                                    pepper,butter,grated parmesan cheese,salt,minced garlic,2% reduced-fat milk,orzo pasta,fresh parsley  "
      ]
     },
     "execution_count": 24,
     "metadata": {},
     "output_type": "execute_result"
    }
   ],
   "source": [
    "X_train.head()"
   ]
  },
  {
   "cell_type": "code",
   "execution_count": 25,
   "metadata": {
    "ExecuteTime": {
     "end_time": "2020-02-19T00:40:36.511446Z",
     "start_time": "2020-02-19T00:40:36.500409Z"
    }
   },
   "outputs": [
    {
     "data": {
      "text/html": [
       "<div>\n",
       "<style scoped>\n",
       "    .dataframe tbody tr th:only-of-type {\n",
       "        vertical-align: middle;\n",
       "    }\n",
       "\n",
       "    .dataframe tbody tr th {\n",
       "        vertical-align: top;\n",
       "    }\n",
       "\n",
       "    .dataframe thead th {\n",
       "        text-align: right;\n",
       "    }\n",
       "</style>\n",
       "<table border=\"1\" class=\"dataframe\">\n",
       "  <thead>\n",
       "    <tr style=\"text-align: right;\">\n",
       "      <th></th>\n",
       "      <th>cuisine</th>\n",
       "      <th>id</th>\n",
       "      <th>ingredients</th>\n",
       "      <th>seperated_ingredients</th>\n",
       "    </tr>\n",
       "  </thead>\n",
       "  <tbody>\n",
       "    <tr>\n",
       "      <th>8834</th>\n",
       "      <td>mexican</td>\n",
       "      <td>43884</td>\n",
       "      <td>[green chile, pepper, boneless chicken breast, chili powder, reduced-fat sour cream, red bell pepper, ground cumin, white onion, garlic powder, ja...</td>\n",
       "      <td>green chile,pepper,boneless chicken breast,chili powder,reduced-fat sour cream,red bell pepper,ground cumin,white onion,garlic powder,jalapeno chi...</td>\n",
       "    </tr>\n",
       "    <tr>\n",
       "      <th>34143</th>\n",
       "      <td>mexican</td>\n",
       "      <td>29620</td>\n",
       "      <td>[parsley sprigs, radishes, sea salt, pozole, chicken stock, white onion, tomatillos, garlic cloves, canola oil, boneless pork shoulder, pork, shre...</td>\n",
       "      <td>parsley sprigs,radishes,sea salt,pozole,chicken stock,white onion,tomatillos,garlic cloves,canola oil,boneless pork shoulder,pork,shredded cabbage...</td>\n",
       "    </tr>\n",
       "    <tr>\n",
       "      <th>15808</th>\n",
       "      <td>indian</td>\n",
       "      <td>6166</td>\n",
       "      <td>[honey, garlic cloves, strong white bread flour, vegetable oil, yoghurt, yeast, water, salt]</td>\n",
       "      <td>honey,garlic cloves,strong white bread flour,vegetable oil,yoghurt,yeast,water,salt</td>\n",
       "    </tr>\n",
       "    <tr>\n",
       "      <th>3281</th>\n",
       "      <td>southern_us</td>\n",
       "      <td>36318</td>\n",
       "      <td>[sweet potatoes, pumpkin pie spice, eggs, whipped topping, pie crust mix, McCormick® Pure Vanilla Extract, chopped pecans, cold water, salt, sweet...</td>\n",
       "      <td>sweet potatoes,pumpkin pie spice,eggs,whipped topping,pie crust mix,McCormick® Pure Vanilla Extract,chopped pecans,cold water,salt,sweetened conde...</td>\n",
       "    </tr>\n",
       "    <tr>\n",
       "      <th>10823</th>\n",
       "      <td>japanese</td>\n",
       "      <td>16105</td>\n",
       "      <td>[sake, mirin, sesame oil, fresh ginger, spring onions, rice, soy sauce, parsley leaves, vegetable oil, light brown sugar, ground black pepper, chi...</td>\n",
       "      <td>sake,mirin,sesame oil,fresh ginger,spring onions,rice,soy sauce,parsley leaves,vegetable oil,light brown sugar,ground black pepper,chicken thigh f...</td>\n",
       "    </tr>\n",
       "  </tbody>\n",
       "</table>\n",
       "</div>"
      ],
      "text/plain": [
       "           cuisine     id  \\\n",
       "8834       mexican  43884   \n",
       "34143      mexican  29620   \n",
       "15808       indian   6166   \n",
       "3281   southern_us  36318   \n",
       "10823     japanese  16105   \n",
       "\n",
       "                                                                                                                                                 ingredients  \\\n",
       "8834   [green chile, pepper, boneless chicken breast, chili powder, reduced-fat sour cream, red bell pepper, ground cumin, white onion, garlic powder, ja...   \n",
       "34143  [parsley sprigs, radishes, sea salt, pozole, chicken stock, white onion, tomatillos, garlic cloves, canola oil, boneless pork shoulder, pork, shre...   \n",
       "15808                                                           [honey, garlic cloves, strong white bread flour, vegetable oil, yoghurt, yeast, water, salt]   \n",
       "3281   [sweet potatoes, pumpkin pie spice, eggs, whipped topping, pie crust mix, McCormick® Pure Vanilla Extract, chopped pecans, cold water, salt, sweet...   \n",
       "10823  [sake, mirin, sesame oil, fresh ginger, spring onions, rice, soy sauce, parsley leaves, vegetable oil, light brown sugar, ground black pepper, chi...   \n",
       "\n",
       "                                                                                                                                       seperated_ingredients  \n",
       "8834   green chile,pepper,boneless chicken breast,chili powder,reduced-fat sour cream,red bell pepper,ground cumin,white onion,garlic powder,jalapeno chi...  \n",
       "34143  parsley sprigs,radishes,sea salt,pozole,chicken stock,white onion,tomatillos,garlic cloves,canola oil,boneless pork shoulder,pork,shredded cabbage...  \n",
       "15808                                                                    honey,garlic cloves,strong white bread flour,vegetable oil,yoghurt,yeast,water,salt  \n",
       "3281   sweet potatoes,pumpkin pie spice,eggs,whipped topping,pie crust mix,McCormick® Pure Vanilla Extract,chopped pecans,cold water,salt,sweetened conde...  \n",
       "10823  sake,mirin,sesame oil,fresh ginger,spring onions,rice,soy sauce,parsley leaves,vegetable oil,light brown sugar,ground black pepper,chicken thigh f...  "
      ]
     },
     "execution_count": 25,
     "metadata": {},
     "output_type": "execute_result"
    }
   ],
   "source": [
    "X_test.head()"
   ]
  },
  {
   "cell_type": "code",
   "execution_count": 27,
   "metadata": {
    "ExecuteTime": {
     "end_time": "2020-02-19T00:40:49.308482Z",
     "start_time": "2020-02-19T00:40:49.296477Z"
    },
    "scrolled": true
   },
   "outputs": [
    {
     "data": {
      "text/html": [
       "<div>\n",
       "<style scoped>\n",
       "    .dataframe tbody tr th:only-of-type {\n",
       "        vertical-align: middle;\n",
       "    }\n",
       "\n",
       "    .dataframe tbody tr th {\n",
       "        vertical-align: top;\n",
       "    }\n",
       "\n",
       "    .dataframe thead th {\n",
       "        text-align: right;\n",
       "    }\n",
       "</style>\n",
       "<table border=\"1\" class=\"dataframe\">\n",
       "  <thead>\n",
       "    <tr style=\"text-align: right;\">\n",
       "      <th></th>\n",
       "      <th>ingredients</th>\n",
       "    </tr>\n",
       "  </thead>\n",
       "  <tbody>\n",
       "    <tr>\n",
       "      <th>5110</th>\n",
       "      <td>[ground black pepper, pizza doughs, olive oil, garlic, pesto, grated parmesan cheese, goat cheese, eggplant, salt]</td>\n",
       "    </tr>\n",
       "    <tr>\n",
       "      <th>26915</th>\n",
       "      <td>[olive oil, onions, lime juice, salt, chopped cilantro fresh, black pepper, zucchini, boneless skinless chicken breast halves, cherry tomatoes, re...</td>\n",
       "    </tr>\n",
       "    <tr>\n",
       "      <th>16284</th>\n",
       "      <td>[white onion, whole milk, taco seasoning, ground beef, green chile, chili, salt, enchilada sauce, eggs, shredded cheddar cheese, baking powder, ga...</td>\n",
       "    </tr>\n",
       "    <tr>\n",
       "      <th>9538</th>\n",
       "      <td>[vanilla beans, red wine, sugar, large egg yolks, armagnac, fennel seeds, milk, salt, prunes, large egg whites, all-purpose flour]</td>\n",
       "    </tr>\n",
       "    <tr>\n",
       "      <th>4243</th>\n",
       "      <td>[pepper, butter, grated parmesan cheese, salt, minced garlic, 2% reduced-fat milk, orzo pasta, fresh parsley]</td>\n",
       "    </tr>\n",
       "  </tbody>\n",
       "</table>\n",
       "</div>"
      ],
      "text/plain": [
       "                                                                                                                                                 ingredients\n",
       "5110                                      [ground black pepper, pizza doughs, olive oil, garlic, pesto, grated parmesan cheese, goat cheese, eggplant, salt]\n",
       "26915  [olive oil, onions, lime juice, salt, chopped cilantro fresh, black pepper, zucchini, boneless skinless chicken breast halves, cherry tomatoes, re...\n",
       "16284  [white onion, whole milk, taco seasoning, ground beef, green chile, chili, salt, enchilada sauce, eggs, shredded cheddar cheese, baking powder, ga...\n",
       "9538                      [vanilla beans, red wine, sugar, large egg yolks, armagnac, fennel seeds, milk, salt, prunes, large egg whites, all-purpose flour]\n",
       "4243                                           [pepper, butter, grated parmesan cheese, salt, minced garlic, 2% reduced-fat milk, orzo pasta, fresh parsley]"
      ]
     },
     "execution_count": 27,
     "metadata": {},
     "output_type": "execute_result"
    }
   ],
   "source": [
    "pd.DataFrame((X_train['ingredients'])).head()"
   ]
  },
  {
   "cell_type": "code",
   "execution_count": 28,
   "metadata": {
    "ExecuteTime": {
     "end_time": "2020-02-19T00:40:54.724619Z",
     "start_time": "2020-02-19T00:40:54.716668Z"
    }
   },
   "outputs": [
    {
     "data": {
      "text/plain": [
       "'ground black pepper pizza doughs olive oil garlic pesto grated parmesan cheese goat cheese eggplant salt'"
      ]
     },
     "execution_count": 28,
     "metadata": {},
     "output_type": "execute_result"
    }
   ],
   "source": [
    "' '.join(word for word in X_train.ingredients.iloc[0])"
   ]
  },
  {
   "cell_type": "code",
   "execution_count": 29,
   "metadata": {
    "ExecuteTime": {
     "end_time": "2020-02-19T00:40:59.319747Z",
     "start_time": "2020-02-19T00:40:58.762583Z"
    }
   },
   "outputs": [],
   "source": [
    "import nltk"
   ]
  },
  {
   "cell_type": "code",
   "execution_count": 31,
   "metadata": {
    "ExecuteTime": {
     "end_time": "2020-02-19T00:41:07.794062Z",
     "start_time": "2020-02-19T00:41:07.784024Z"
    }
   },
   "outputs": [
    {
     "data": {
      "text/html": [
       "<div>\n",
       "<style scoped>\n",
       "    .dataframe tbody tr th:only-of-type {\n",
       "        vertical-align: middle;\n",
       "    }\n",
       "\n",
       "    .dataframe tbody tr th {\n",
       "        vertical-align: top;\n",
       "    }\n",
       "\n",
       "    .dataframe thead th {\n",
       "        text-align: right;\n",
       "    }\n",
       "</style>\n",
       "<table border=\"1\" class=\"dataframe\">\n",
       "  <thead>\n",
       "    <tr style=\"text-align: right;\">\n",
       "      <th></th>\n",
       "      <th>cuisine</th>\n",
       "      <th>id</th>\n",
       "      <th>ingredients</th>\n",
       "      <th>seperated_ingredients</th>\n",
       "    </tr>\n",
       "  </thead>\n",
       "  <tbody>\n",
       "    <tr>\n",
       "      <th>8834</th>\n",
       "      <td>mexican</td>\n",
       "      <td>43884</td>\n",
       "      <td>[green chile, pepper, boneless chicken breast, chili powder, reduced-fat sour cream, red bell pepper, ground cumin, white onion, garlic powder, ja...</td>\n",
       "      <td>green chile,pepper,boneless chicken breast,chili powder,reduced-fat sour cream,red bell pepper,ground cumin,white onion,garlic powder,jalapeno chi...</td>\n",
       "    </tr>\n",
       "    <tr>\n",
       "      <th>34143</th>\n",
       "      <td>mexican</td>\n",
       "      <td>29620</td>\n",
       "      <td>[parsley sprigs, radishes, sea salt, pozole, chicken stock, white onion, tomatillos, garlic cloves, canola oil, boneless pork shoulder, pork, shre...</td>\n",
       "      <td>parsley sprigs,radishes,sea salt,pozole,chicken stock,white onion,tomatillos,garlic cloves,canola oil,boneless pork shoulder,pork,shredded cabbage...</td>\n",
       "    </tr>\n",
       "    <tr>\n",
       "      <th>15808</th>\n",
       "      <td>indian</td>\n",
       "      <td>6166</td>\n",
       "      <td>[honey, garlic cloves, strong white bread flour, vegetable oil, yoghurt, yeast, water, salt]</td>\n",
       "      <td>honey,garlic cloves,strong white bread flour,vegetable oil,yoghurt,yeast,water,salt</td>\n",
       "    </tr>\n",
       "  </tbody>\n",
       "</table>\n",
       "</div>"
      ],
      "text/plain": [
       "       cuisine     id  \\\n",
       "8834   mexican  43884   \n",
       "34143  mexican  29620   \n",
       "15808   indian   6166   \n",
       "\n",
       "                                                                                                                                                 ingredients  \\\n",
       "8834   [green chile, pepper, boneless chicken breast, chili powder, reduced-fat sour cream, red bell pepper, ground cumin, white onion, garlic powder, ja...   \n",
       "34143  [parsley sprigs, radishes, sea salt, pozole, chicken stock, white onion, tomatillos, garlic cloves, canola oil, boneless pork shoulder, pork, shre...   \n",
       "15808                                                           [honey, garlic cloves, strong white bread flour, vegetable oil, yoghurt, yeast, water, salt]   \n",
       "\n",
       "                                                                                                                                       seperated_ingredients  \n",
       "8834   green chile,pepper,boneless chicken breast,chili powder,reduced-fat sour cream,red bell pepper,ground cumin,white onion,garlic powder,jalapeno chi...  \n",
       "34143  parsley sprigs,radishes,sea salt,pozole,chicken stock,white onion,tomatillos,garlic cloves,canola oil,boneless pork shoulder,pork,shredded cabbage...  \n",
       "15808                                                                    honey,garlic cloves,strong white bread flour,vegetable oil,yoghurt,yeast,water,salt  "
      ]
     },
     "execution_count": 31,
     "metadata": {},
     "output_type": "execute_result"
    }
   ],
   "source": [
    "X_test[:3]"
   ]
  },
  {
   "cell_type": "code",
   "execution_count": 32,
   "metadata": {
    "ExecuteTime": {
     "end_time": "2020-02-19T00:41:11.055603Z",
     "start_time": "2020-02-19T00:41:11.051602Z"
    }
   },
   "outputs": [
    {
     "name": "stdout",
     "output_type": "stream",
     "text": [
      "['green chile', 'pepper', 'boneless chicken breast', 'chili powder', 'reduced-fat sour cream', 'red bell pepper', 'ground cumin', 'white onion', 'garlic powder', 'jalapeno chilies', 'tomatillos', 'salt', 'dried oregano', 'chicken broth', 'white cannellini beans', 'Mexican cheese blend', 'flour', 'diced tomatoes', 'enchilada sauce', 'chorizo sausage', 'white corn', 'fresh cilantro', 'flour tortillas', 'parsley', 'garlic', 'oregano']\n"
     ]
    }
   ],
   "source": [
    "print(X_test.ingredients.iloc[0])"
   ]
  },
  {
   "cell_type": "code",
   "execution_count": 33,
   "metadata": {
    "ExecuteTime": {
     "end_time": "2020-02-19T00:41:14.473826Z",
     "start_time": "2020-02-19T00:41:14.460791Z"
    }
   },
   "outputs": [
    {
     "data": {
      "text/plain": [
       "'green chile pepper boneless chicken breast chili powder reduced-fat sour cream red bell pepper ground cumin white onion garlic powder jalapeno chilies tomatillos salt dried oregano chicken broth white cannellini beans Mexican cheese blend flour diced tomatoes enchilada sauce chorizo sausage white corn fresh cilantro flour tortillas parsley garlic oregano'"
      ]
     },
     "execution_count": 33,
     "metadata": {},
     "output_type": "execute_result"
    }
   ],
   "source": [
    "total_list = [' '.join(word) for word in X_test.ingredients]\n",
    "total_list[0]"
   ]
  },
  {
   "cell_type": "code",
   "execution_count": 34,
   "metadata": {
    "ExecuteTime": {
     "end_time": "2020-02-19T00:41:16.474536Z",
     "start_time": "2020-02-19T00:41:16.443382Z"
    }
   },
   "outputs": [
    {
     "name": "stdout",
     "output_type": "stream",
     "text": [
      "['green', 'chile', 'pepper', 'boneless', 'chicken', 'breast', 'chili', 'powder', 'reduced-fat', 'sour', 'cream', 'red', 'bell', 'pepper', 'ground', 'cumin', 'white', 'onion', 'garlic', 'powder', 'jalapeno', 'chilies', 'tomatillos', 'salt', 'dried', 'oregano', 'chicken', 'broth', 'white', 'cannellini', 'beans', 'Mexican', 'cheese', 'blend', 'flour', 'diced', 'tomatoes', 'enchilada', 'sauce', 'chorizo', 'sausage', 'white', 'corn', 'fresh', 'cilantro', 'flour', 'tortillas', 'parsley', 'garlic', 'oregano']\n"
     ]
    }
   ],
   "source": [
    "from nltk.tokenize import word_tokenize\n",
    "print(word_tokenize(total_list[0]))"
   ]
  },
  {
   "cell_type": "code",
   "execution_count": 35,
   "metadata": {
    "ExecuteTime": {
     "end_time": "2020-02-19T00:41:17.328537Z",
     "start_time": "2020-02-19T00:41:17.320577Z"
    },
    "scrolled": true
   },
   "outputs": [
    {
     "data": {
      "text/plain": [
       "'green chile pepper boneless chicken breast chili powder reduced-fat sour cream red bell pepper ground cumin white onion garlic powder jalapeno chilies tomatillos salt dried oregano chicken broth white cannellini beans Mexican cheese blend flour diced tomatoes enchilada sauce chorizo sausage white corn fresh cilantro flour tortillas parsley garlic oregano parsley sprigs radishes sea salt pozole chicken stock white onion tomatillos garlic cloves canola oil boneless pork shoulder pork shredded cabb'"
      ]
     },
     "execution_count": 35,
     "metadata": {},
     "output_type": "execute_result"
    }
   ],
   "source": [
    "total_words = ' '.join(each_sent for each_sent in total_list)\n",
    "total_words[:500]"
   ]
  },
  {
   "cell_type": "code",
   "execution_count": 36,
   "metadata": {
    "ExecuteTime": {
     "end_time": "2020-02-19T00:41:20.078384Z",
     "start_time": "2020-02-19T00:41:20.073423Z"
    }
   },
   "outputs": [
    {
     "name": "stdout",
     "output_type": "stream",
     "text": [
      "['green', 'chile', 'pepper', 'boneless', 'chicken', 'breast', 'chili', 'powder', 'reduced-fat', 'sour', 'cream', 'red', 'bell', 'pepper', 'groun']\n"
     ]
    }
   ],
   "source": [
    "print(word_tokenize(total_words[:100]))"
   ]
  },
  {
   "cell_type": "code",
   "execution_count": 41,
   "metadata": {
    "ExecuteTime": {
     "end_time": "2020-02-19T00:42:00.616176Z",
     "start_time": "2020-02-19T00:41:59.818122Z"
    }
   },
   "outputs": [],
   "source": [
    "from nltk import Text\n",
    "text = Text(word_tokenize(total_words))"
   ]
  },
  {
   "cell_type": "code",
   "execution_count": 42,
   "metadata": {
    "ExecuteTime": {
     "end_time": "2020-02-19T00:42:27.466291Z",
     "start_time": "2020-02-19T00:42:01.396191Z"
    },
    "cell_style": "split"
   },
   "outputs": [
    {
     "data": {
      "image/png": "[encoded data removed]",
      "text/plain": [
       "<Figure size 432x288 with 1 Axes>"
      ]
     },
     "metadata": {
      "needs_background": "light"
     },
     "output_type": "display_data"
    }
   ],
   "source": [
    "text.plot()"
   ]
  },
  {
   "cell_type": "code",
   "execution_count": 43,
   "metadata": {
    "ExecuteTime": {
     "end_time": "2020-02-19T00:42:27.860290Z",
     "start_time": "2020-02-19T00:42:27.854291Z"
    },
    "cell_style": "split"
   },
   "outputs": [
    {
     "data": {
      "text/plain": [
       "203733"
      ]
     },
     "execution_count": 43,
     "metadata": {},
     "output_type": "execute_result"
    }
   ],
   "source": [
    "len(text)"
   ]
  },
  {
   "cell_type": "code",
   "execution_count": 44,
   "metadata": {
    "ExecuteTime": {
     "end_time": "2020-02-19T00:42:28.217931Z",
     "start_time": "2020-02-19T00:42:28.175338Z"
    },
    "cell_style": "split"
   },
   "outputs": [
    {
     "data": {
      "text/plain": [
       "2542"
      ]
     },
     "execution_count": 44,
     "metadata": {},
     "output_type": "execute_result"
    }
   ],
   "source": [
    "len(set(text))"
   ]
  },
  {
   "cell_type": "code",
   "execution_count": 48,
   "metadata": {
    "ExecuteTime": {
     "end_time": "2020-02-19T00:43:14.953886Z",
     "start_time": "2020-02-19T00:43:14.317623Z"
    },
    "cell_style": "center"
   },
   "outputs": [],
   "source": [
    "from sklearn.feature_extraction.text import CountVectorizer\n",
    "count_vec = CountVectorizer().fit(text) \n",
    "# stop_words=\"english\""
   ]
  },
  {
   "cell_type": "code",
   "execution_count": 50,
   "metadata": {
    "ExecuteTime": {
     "end_time": "2020-02-19T00:43:22.725070Z",
     "start_time": "2020-02-19T00:43:22.718061Z"
    },
    "cell_style": "split",
    "scrolled": true
   },
   "outputs": [
    {
     "data": {
      "text/plain": [
       "['10', '14', '25', '33', '40', '95', 'abalone', 'abbamele', 'acai', 'accent']"
      ]
     },
     "execution_count": 50,
     "metadata": {},
     "output_type": "execute_result"
    }
   ],
   "source": [
    "count_vec.get_feature_names()[:10]"
   ]
  },
  {
   "cell_type": "code",
   "execution_count": 52,
   "metadata": {
    "ExecuteTime": {
     "end_time": "2020-02-19T00:43:38.944120Z",
     "start_time": "2020-02-19T00:43:38.375095Z"
    },
    "cell_style": "split"
   },
   "outputs": [
    {
     "data": {
      "text/plain": [
       "(29830, 2234)"
      ]
     },
     "execution_count": 52,
     "metadata": {},
     "output_type": "execute_result"
    }
   ],
   "source": [
    "BOW_X_train = count_vec.transform(X_train['seperated_ingredients'])\n",
    "BOW_X_train.shape"
   ]
  },
  {
   "cell_type": "code",
   "execution_count": 55,
   "metadata": {
    "ExecuteTime": {
     "end_time": "2020-02-19T00:43:57.547278Z",
     "start_time": "2020-02-19T00:43:57.542316Z"
    }
   },
   "outputs": [
    {
     "data": {
      "text/plain": [
       "<1x2234 sparse matrix of type '<class 'numpy.int64'>'\n",
       "\twith 15 stored elements in Compressed Sparse Row format>"
      ]
     },
     "execution_count": 55,
     "metadata": {},
     "output_type": "execute_result"
    }
   ],
   "source": [
    "(count_vec.transform(X_train['seperated_ingredients'][:1]))"
   ]
  },
  {
   "cell_type": "code",
   "execution_count": 56,
   "metadata": {
    "ExecuteTime": {
     "end_time": "2020-02-19T00:44:00.610428Z",
     "start_time": "2020-02-19T00:44:00.604391Z"
    }
   },
   "outputs": [
    {
     "data": {
      "text/plain": [
       "5110    ground black pepper,pizza doughs,olive oil,garlic,pesto,grated parmesan cheese,goat cheese,eggplant,salt\n",
       "Name: seperated_ingredients, dtype: object"
      ]
     },
     "execution_count": 56,
     "metadata": {},
     "output_type": "execute_result"
    }
   ],
   "source": [
    "X_train['seperated_ingredients'][:1]"
   ]
  },
  {
   "cell_type": "code",
   "execution_count": 57,
   "metadata": {
    "ExecuteTime": {
     "end_time": "2020-02-19T00:44:05.256643Z",
     "start_time": "2020-02-19T00:44:05.249647Z"
    }
   },
   "outputs": [
    {
     "data": {
      "text/plain": [
       "[array(['black', 'cheese', 'doughs', 'eggplant', 'garlic', 'goat',\n",
       "        'grated', 'ground', 'oil', 'olive', 'parmesan', 'pepper', 'pesto',\n",
       "        'pizza', 'salt'], dtype='<U15')]"
      ]
     },
     "execution_count": 57,
     "metadata": {},
     "output_type": "execute_result"
    }
   ],
   "source": [
    "count_vec.inverse_transform((count_vec.transform(X_train['seperated_ingredients'][:1])).toarray())"
   ]
  },
  {
   "cell_type": "code",
   "execution_count": 58,
   "metadata": {
    "ExecuteTime": {
     "end_time": "2020-02-19T00:44:09.150817Z",
     "start_time": "2020-02-19T00:44:08.891225Z"
    }
   },
   "outputs": [
    {
     "data": {
      "text/plain": [
       "array(['black', 'cheese', 'doughs', 'eggplant', 'garlic', 'goat',\n",
       "       'grated', 'ground', 'oil', 'olive', 'parmesan', 'pepper', 'pesto',\n",
       "       'pizza', 'salt'], dtype=object)"
      ]
     },
     "execution_count": 58,
     "metadata": {},
     "output_type": "execute_result"
    }
   ],
   "source": [
    "count_vec.inverse_transform((BOW_X_train.toarray()[0]))[0].astype('object')"
   ]
  },
  {
   "cell_type": "code",
   "execution_count": 59,
   "metadata": {
    "ExecuteTime": {
     "end_time": "2020-02-19T00:44:11.311578Z",
     "start_time": "2020-02-19T00:44:11.056888Z"
    }
   },
   "outputs": [
    {
     "data": {
      "text/plain": [
       "array([  33,  104,  138,  226,  245,  372,  374,  392,  396,  448,  495,\n",
       "        503,  660,  666,  743,  803,  880,  888, 1238, 1351, 1356, 1360,\n",
       "       1547, 1585, 1720, 1738, 1764, 1818, 1960, 1989, 2184, 2187],\n",
       "      dtype=int64)"
      ]
     },
     "execution_count": 59,
     "metadata": {},
     "output_type": "execute_result"
    }
   ],
   "source": [
    "np.nonzero(BOW_X_train.toarray()[2])[0]"
   ]
  },
  {
   "cell_type": "code",
   "execution_count": 61,
   "metadata": {
    "ExecuteTime": {
     "end_time": "2020-02-19T00:44:19.256465Z",
     "start_time": "2020-02-19T00:44:19.250498Z"
    }
   },
   "outputs": [
    {
     "data": {
      "text/plain": [
       "[array(['black', 'cheese', 'doughs', 'eggplant', 'garlic', 'goat',\n",
       "        'grated', 'ground', 'oil', 'olive', 'parmesan', 'pepper', 'pesto',\n",
       "        'pizza', 'salt'], dtype='<U15')]"
      ]
     },
     "execution_count": 61,
     "metadata": {},
     "output_type": "execute_result"
    }
   ],
   "source": [
    "count_vec.inverse_transform((count_vec.transform(X_train['seperated_ingredients'][:1])).toarray())"
   ]
  },
  {
   "cell_type": "code",
   "execution_count": null,
   "metadata": {
    "ExecuteTime": {
     "end_time": "2020-02-19T00:44:21.940465Z",
     "start_time": "2020-02-19T00:44:21.928468Z"
    }
   },
   "outputs": [],
   "source": [
    "count_vec.inverse_transform((X_train_vectorized.toarray()[0]))[0].astype('object')"
   ]
  },
  {
   "cell_type": "code",
   "execution_count": 63,
   "metadata": {
    "ExecuteTime": {
     "end_time": "2020-02-19T00:44:34.169785Z",
     "start_time": "2020-02-19T00:44:33.893786Z"
    },
    "cell_style": "split"
   },
   "outputs": [
    {
     "data": {
      "image/png": "[encoded data removed]",
      "text/plain": [
       "<Figure size 432x288 with 1 Axes>"
      ]
     },
     "metadata": {
      "needs_background": "light"
     },
     "output_type": "display_data"
    }
   ],
   "source": [
    "# Bar Plot of various cuisines appearance frequency \n",
    "y = X_train['cuisine'].value_counts()\n",
    "x = y/y.sum() * 100\n",
    "y = y.index\n",
    "sns.barplot(y, x, data=data, palette=\"BuGn_r\")\n",
    "plt.xticks(rotation=-70)\n",
    "plt.show()"
   ]
  },
  {
   "cell_type": "code",
   "execution_count": 64,
   "metadata": {
    "ExecuteTime": {
     "end_time": "2020-02-19T00:44:34.967786Z",
     "start_time": "2020-02-19T00:44:34.718783Z"
    },
    "cell_style": "split"
   },
   "outputs": [
    {
     "data": {
      "image/png": "[encoded data removed]",
      "text/plain": [
       "<Figure size 432x288 with 1 Axes>"
      ]
     },
     "metadata": {
      "needs_background": "light"
     },
     "output_type": "display_data"
    }
   ],
   "source": [
    "# Bar Plot of various cuisines appearance frequency \n",
    "y = X_test['cuisine'].value_counts()\n",
    "x = y/y.sum() * 100\n",
    "y = y.index\n",
    "sns.barplot(y, x, data=data, palette=\"BuGn_r\")\n",
    "plt.xticks(rotation=-70)\n",
    "plt.show()"
   ]
  },
  {
   "cell_type": "code",
   "execution_count": 65,
   "metadata": {
    "ExecuteTime": {
     "end_time": "2020-02-19T00:44:37.663819Z",
     "start_time": "2020-02-19T00:44:36.153825Z"
    }
   },
   "outputs": [],
   "source": [
    "vect = TfidfVectorizer(binary=True).fit(X_train['seperated_ingredients'].values)\n",
    "X_train_vectorized = vect.transform(X_train['seperated_ingredients'].values)\n",
    "X_train_vectorized = X_train_vectorized.astype('float')\n",
    "X_test_transformed = vect.transform(X_test['seperated_ingredients'].values)\n",
    "X_test_transformed = X_test_transformed.astype('float')"
   ]
  },
  {
   "cell_type": "code",
   "execution_count": 66,
   "metadata": {
    "ExecuteTime": {
     "end_time": "2020-02-19T00:44:38.722782Z",
     "start_time": "2020-02-19T00:44:38.411822Z"
    },
    "cell_style": "split"
   },
   "outputs": [
    {
     "data": {
      "text/plain": [
       "2856"
      ]
     },
     "execution_count": 66,
     "metadata": {},
     "output_type": "execute_result"
    }
   ],
   "source": [
    "len(X_train_vectorized.toarray()[0])"
   ]
  },
  {
   "cell_type": "code",
   "execution_count": 67,
   "metadata": {
    "ExecuteTime": {
     "end_time": "2020-02-19T00:44:39.235783Z",
     "start_time": "2020-02-19T00:44:39.127785Z"
    },
    "cell_style": "split"
   },
   "outputs": [
    {
     "data": {
      "text/plain": [
       "2856"
      ]
     },
     "execution_count": 67,
     "metadata": {},
     "output_type": "execute_result"
    }
   ],
   "source": [
    "len(X_test_transformed.toarray()[0])"
   ]
  },
  {
   "cell_type": "code",
   "execution_count": 68,
   "metadata": {
    "ExecuteTime": {
     "end_time": "2020-02-19T00:44:40.944345Z",
     "start_time": "2020-02-19T00:44:39.714785Z"
    }
   },
   "outputs": [
    {
     "data": {
      "text/plain": [
       "(29830, 2856)"
      ]
     },
     "execution_count": 68,
     "metadata": {},
     "output_type": "execute_result"
    }
   ],
   "source": [
    "from sklearn.feature_extraction.text import CountVectorizer\n",
    "\n",
    "vec = CountVectorizer().fit(X_train['seperated_ingredients']) # stop_words=\"english\"\n",
    "BOW_X_train = vec.transform(X_train['seperated_ingredients'])\n",
    "BOW_X_train.shape"
   ]
  },
  {
   "cell_type": "code",
   "execution_count": 69,
   "metadata": {
    "ExecuteTime": {
     "end_time": "2020-02-19T00:44:41.539311Z",
     "start_time": "2020-02-19T00:44:41.533318Z"
    }
   },
   "outputs": [
    {
     "data": {
      "text/plain": [
       "CountVectorizer(analyzer='word', binary=False, decode_error='strict',\n",
       "                dtype=<class 'numpy.int64'>, encoding='utf-8', input='content',\n",
       "                lowercase=True, max_df=1.0, max_features=None, min_df=1,\n",
       "                ngram_range=(1, 1), preprocessor=None, stop_words=None,\n",
       "                strip_accents=None, token_pattern='(?u)\\\\b\\\\w\\\\w+\\\\b',\n",
       "                tokenizer=None, vocabulary=None)"
      ]
     },
     "execution_count": 69,
     "metadata": {},
     "output_type": "execute_result"
    }
   ],
   "source": [
    "vec"
   ]
  },
  {
   "cell_type": "code",
   "execution_count": 75,
   "metadata": {
    "ExecuteTime": {
     "end_time": "2020-02-19T00:45:14.347419Z",
     "start_time": "2020-02-19T00:45:14.338426Z"
    },
    "cell_style": "split",
    "scrolled": true
   },
   "outputs": [
    {
     "data": {
      "text/plain": [
       "['zesty', 'zinfandel', 'ziti', 'zucchini', 'épices']"
      ]
     },
     "execution_count": 75,
     "metadata": {},
     "output_type": "execute_result"
    }
   ],
   "source": [
    "vec.get_feature_names()[-5:]"
   ]
  },
  {
   "cell_type": "code",
   "execution_count": 76,
   "metadata": {
    "ExecuteTime": {
     "end_time": "2020-02-19T00:45:19.660061Z",
     "start_time": "2020-02-19T00:45:19.654066Z"
    },
    "cell_style": "split",
    "scrolled": false
   },
   "outputs": [
    {
     "data": {
      "text/plain": [
       "['zesty', 'zinfandel', 'ziti', 'zucchini', 'épices']"
      ]
     },
     "execution_count": 76,
     "metadata": {},
     "output_type": "execute_result"
    }
   ],
   "source": [
    "vect.get_feature_names()[-5:]"
   ]
  },
  {
   "cell_type": "code",
   "execution_count": 77,
   "metadata": {
    "ExecuteTime": {
     "end_time": "2020-02-19T00:45:21.601108Z",
     "start_time": "2020-02-19T00:45:21.594109Z"
    }
   },
   "outputs": [
    {
     "data": {
      "text/plain": [
       "2856"
      ]
     },
     "execution_count": 77,
     "metadata": {},
     "output_type": "execute_result"
    }
   ],
   "source": [
    "len(vec.get_feature_names())"
   ]
  },
  {
   "cell_type": "code",
   "execution_count": 78,
   "metadata": {
    "ExecuteTime": {
     "end_time": "2020-02-19T00:45:22.436664Z",
     "start_time": "2020-02-19T00:45:22.113629Z"
    }
   },
   "outputs": [
    {
     "data": {
      "text/plain": [
       "2856"
      ]
     },
     "execution_count": 78,
     "metadata": {},
     "output_type": "execute_result"
    }
   ],
   "source": [
    "len(BOW_X_train.toarray()[0])"
   ]
  },
  {
   "cell_type": "code",
   "execution_count": 79,
   "metadata": {
    "ExecuteTime": {
     "end_time": "2020-02-19T00:45:22.824703Z",
     "start_time": "2020-02-19T00:45:22.817707Z"
    }
   },
   "outputs": [
    {
     "data": {
      "text/plain": [
       "2856"
      ]
     },
     "execution_count": 79,
     "metadata": {},
     "output_type": "execute_result"
    }
   ],
   "source": [
    "len(vect.get_feature_names())"
   ]
  },
  {
   "cell_type": "code",
   "execution_count": 80,
   "metadata": {
    "ExecuteTime": {
     "end_time": "2020-02-19T00:45:23.187706Z",
     "start_time": "2020-02-19T00:45:23.183706Z"
    }
   },
   "outputs": [],
   "source": [
    "# np.get_printoptions()  # default numpy print options\n",
    "np.set_printoptions(edgeitems=np.inf)"
   ]
  },
  {
   "cell_type": "code",
   "execution_count": 83,
   "metadata": {
    "ExecuteTime": {
     "end_time": "2020-02-19T00:45:31.525211Z",
     "start_time": "2020-02-19T00:45:30.204250Z"
    },
    "cell_style": "split"
   },
   "outputs": [
    {
     "data": {
      "text/plain": [
       "array([1, 2, 1, 1, 1, 1, 1, 1, 1, 1, 1, 1, 1, 1, 1], dtype=int64)"
      ]
     },
     "execution_count": 83,
     "metadata": {},
     "output_type": "execute_result"
    }
   ],
   "source": [
    "BOW_X_train.toarray()[0][np.nonzero(BOW_X_train.toarray()[0])]"
   ]
  },
  {
   "cell_type": "code",
   "execution_count": 84,
   "metadata": {
    "ExecuteTime": {
     "end_time": "2020-02-19T00:45:32.473209Z",
     "start_time": "2020-02-19T00:45:32.175211Z"
    },
    "cell_style": "split"
   },
   "outputs": [
    {
     "data": {
      "text/plain": [
       "(array([ 232,  489,  806,  849, 1044, 1082, 1123, 1147, 1758, 1765, 1841,\n",
       "        1891, 1909, 1968, 2224], dtype=int64),)"
      ]
     },
     "execution_count": 84,
     "metadata": {},
     "output_type": "execute_result"
    }
   ],
   "source": [
    "np.nonzero(BOW_X_train.toarray()[0])\n"
   ]
  },
  {
   "cell_type": "code",
   "execution_count": 85,
   "metadata": {
    "ExecuteTime": {
     "end_time": "2020-02-19T00:45:33.705210Z",
     "start_time": "2020-02-19T00:45:33.038209Z"
    },
    "cell_style": "split"
   },
   "outputs": [
    {
     "data": {
      "text/plain": [
       "array([0.15247816, 0.15815386, 0.44086967, 0.34280436, 0.11458961,\n",
       "       0.38884286, 0.22722804, 0.13593773, 0.10503563, 0.14845799,\n",
       "       0.23258737, 0.11089798, 0.39520349, 0.37443626, 0.09777454])"
      ]
     },
     "execution_count": 85,
     "metadata": {},
     "output_type": "execute_result"
    }
   ],
   "source": [
    "X_train_vectorized.toarray()[0][np.nonzero(X_train_vectorized.toarray()[0])]"
   ]
  },
  {
   "cell_type": "code",
   "execution_count": 86,
   "metadata": {
    "ExecuteTime": {
     "end_time": "2020-02-19T00:45:34.616212Z",
     "start_time": "2020-02-19T00:45:34.321210Z"
    },
    "cell_style": "split"
   },
   "outputs": [
    {
     "data": {
      "text/plain": [
       "(array([ 232,  489,  806,  849, 1044, 1082, 1123, 1147, 1758, 1765, 1841,\n",
       "        1891, 1909, 1968, 2224], dtype=int64),)"
      ]
     },
     "execution_count": 86,
     "metadata": {},
     "output_type": "execute_result"
    }
   ],
   "source": [
    "np.nonzero(X_train_vectorized.toarray()[0])"
   ]
  },
  {
   "cell_type": "code",
   "execution_count": 87,
   "metadata": {
    "ExecuteTime": {
     "end_time": "2020-02-19T00:45:35.856212Z",
     "start_time": "2020-02-19T00:45:35.190211Z"
    }
   },
   "outputs": [
    {
     "data": {
      "image/png": "[encoded data removed]",
      "text/plain": [
       "<Figure size 1440x360 with 2 Axes>"
      ]
     },
     "metadata": {
      "needs_background": "light"
     },
     "output_type": "display_data"
    }
   ],
   "source": [
    "sns.heatmap(BOW_X_train.toarray()[:25, :2818], \n",
    "            cmap=plt.cm.bone_r,\n",
    "            # linewidths=0.0001, \n",
    "            linecolor='gray', \n",
    "            cbar=True,\n",
    "            xticklabels=False, yticklabels=False)\n",
    "\n",
    "plt.xlabel(\"Word\")\n",
    "plt.ylabel(\"Document\")\n",
    "plt.title(\"BOW_X_train Encoding Viualization\")\n",
    "plt.gcf().set_size_inches(20,5)\n",
    "plt.show()"
   ]
  },
  {
   "cell_type": "code",
   "execution_count": 88,
   "metadata": {
    "ExecuteTime": {
     "end_time": "2020-02-19T00:45:37.375212Z",
     "start_time": "2020-02-19T00:45:36.775246Z"
    },
    "scrolled": true
   },
   "outputs": [
    {
     "data": {
      "image/png": "[encoded data removed]",
      "text/plain": [
       "<Figure size 1440x360 with 2 Axes>"
      ]
     },
     "metadata": {
      "needs_background": "light"
     },
     "output_type": "display_data"
    }
   ],
   "source": [
    "sns.heatmap(X_train_vectorized.toarray()[:25, :2856], \n",
    "            cmap=plt.cm.bone_r,\n",
    "            # linewidths=0.0001, \n",
    "            linecolor='gray', \n",
    "            cbar=True,\n",
    "            xticklabels=False, yticklabels=False)\n",
    "\n",
    "plt.xlabel(\"Word\")\n",
    "plt.ylabel(\"Document\")\n",
    "plt.title(\"TFIDF Encoding Viualization\")\n",
    "plt.gcf().set_size_inches(20,5)\n",
    "plt.show()"
   ]
  },
  {
   "cell_type": "code",
   "execution_count": 90,
   "metadata": {
    "ExecuteTime": {
     "end_time": "2020-02-19T00:45:47.347020Z",
     "start_time": "2020-02-19T00:45:47.336028Z"
    },
    "scrolled": true
   },
   "outputs": [
    {
     "data": {
      "text/html": [
       "<div>\n",
       "<style scoped>\n",
       "    .dataframe tbody tr th:only-of-type {\n",
       "        vertical-align: middle;\n",
       "    }\n",
       "\n",
       "    .dataframe tbody tr th {\n",
       "        vertical-align: top;\n",
       "    }\n",
       "\n",
       "    .dataframe thead th {\n",
       "        text-align: right;\n",
       "    }\n",
       "</style>\n",
       "<table border=\"1\" class=\"dataframe\">\n",
       "  <thead>\n",
       "    <tr style=\"text-align: right;\">\n",
       "      <th></th>\n",
       "      <th>ingredients</th>\n",
       "      <th>total</th>\n",
       "    </tr>\n",
       "  </thead>\n",
       "  <tbody>\n",
       "    <tr>\n",
       "      <th>0</th>\n",
       "      <td>salt</td>\n",
       "      <td>18049</td>\n",
       "    </tr>\n",
       "    <tr>\n",
       "      <th>1</th>\n",
       "      <td>onions</td>\n",
       "      <td>7972</td>\n",
       "    </tr>\n",
       "    <tr>\n",
       "      <th>2</th>\n",
       "      <td>olive oil</td>\n",
       "      <td>7972</td>\n",
       "    </tr>\n",
       "    <tr>\n",
       "      <th>3</th>\n",
       "      <td>water</td>\n",
       "      <td>7457</td>\n",
       "    </tr>\n",
       "    <tr>\n",
       "      <th>4</th>\n",
       "      <td>garlic</td>\n",
       "      <td>7380</td>\n",
       "    </tr>\n",
       "    <tr>\n",
       "      <th>5</th>\n",
       "      <td>sugar</td>\n",
       "      <td>6434</td>\n",
       "    </tr>\n",
       "    <tr>\n",
       "      <th>6</th>\n",
       "      <td>garlic cloves</td>\n",
       "      <td>6237</td>\n",
       "    </tr>\n",
       "    <tr>\n",
       "      <th>7</th>\n",
       "      <td>butter</td>\n",
       "      <td>4848</td>\n",
       "    </tr>\n",
       "    <tr>\n",
       "      <th>8</th>\n",
       "      <td>ground black pepper</td>\n",
       "      <td>4785</td>\n",
       "    </tr>\n",
       "    <tr>\n",
       "      <th>9</th>\n",
       "      <td>all-purpose flour</td>\n",
       "      <td>4632</td>\n",
       "    </tr>\n",
       "  </tbody>\n",
       "</table>\n",
       "</div>"
      ],
      "text/plain": [
       "           ingredients  total\n",
       "0                 salt  18049\n",
       "1               onions   7972\n",
       "2            olive oil   7972\n",
       "3                water   7457\n",
       "4               garlic   7380\n",
       "5                sugar   6434\n",
       "6        garlic cloves   6237\n",
       "7               butter   4848\n",
       "8  ground black pepper   4785\n",
       "9    all-purpose flour   4632"
      ]
     },
     "execution_count": 90,
     "metadata": {},
     "output_type": "execute_result"
    }
   ],
   "source": [
    "ingre_df.head(10) "
   ]
  },
  {
   "cell_type": "code",
   "execution_count": 91,
   "metadata": {
    "ExecuteTime": {
     "end_time": "2020-02-19T00:45:48.988876Z",
     "start_time": "2020-02-19T00:45:48.832882Z"
    },
    "cell_style": "split"
   },
   "outputs": [
    {
     "name": "stdout",
     "output_type": "stream",
     "text": [
      "학습데이터 ingredient 개수 6182\n",
      "가장 많이 출현한 ingredient \n",
      " [('salt', 13463), ('olive oil', 5988), ('onions', 5923), ('water', 5610), ('garlic', 5455), ('sugar', 4861), ('garlic cloves', 4717), ('butter', 3613), ('ground black pepper', 3544), ('all-purpose flour', 3478)]\n"
     ]
    }
   ],
   "source": [
    "X_train_ingre = Counter(\n",
    "    [i for sublist in X_train.ingredients \\\n",
    "     for i in sublist]).most_common()\n",
    "print('학습데이터 ingredient 개수', len(X_train_ingre))\n",
    "print('가장 많이 출현한 ingredient \\n', X_train_ingre[:10])"
   ]
  },
  {
   "cell_type": "code",
   "execution_count": 92,
   "metadata": {
    "ExecuteTime": {
     "end_time": "2020-02-19T00:45:50.097874Z",
     "start_time": "2020-02-19T00:45:49.622907Z"
    }
   },
   "outputs": [
    {
     "name": "stdout",
     "output_type": "stream",
     "text": [
      "학습데이터 ingredient 개수 83\n",
      "가장 많이 출현한 ingredient \n",
      " [('e', 450199), (',', 291010), (' ', 284054), ('a', 282457), ('r', 280777), ('s', 259876), ('o', 251904), ('l', 223541), ('i', 219901), ('n', 190157)]\n"
     ]
    }
   ],
   "source": [
    "X_train_ingre = Counter(\n",
    "    [i for sublist in X_train.seperated_ingredients \\\n",
    "     for i in sublist]).most_common()\n",
    "print('학습데이터 ingredient 개수', len(X_train_ingre))\n",
    "print('가장 많이 출현한 ingredient \\n', X_train_ingre[:10])"
   ]
  },
  {
   "cell_type": "code",
   "execution_count": 93,
   "metadata": {
    "ExecuteTime": {
     "end_time": "2020-02-19T00:45:50.701875Z",
     "start_time": "2020-02-19T00:45:50.671876Z"
    },
    "cell_style": "split"
   },
   "outputs": [
    {
     "name": "stdout",
     "output_type": "stream",
     "text": [
      "실험데이터 ingredient 개수 4513\n",
      "가장 많이 출현한 ingredient \n",
      " [('salt', 4586), ('onions', 2049), ('olive oil', 1984), ('garlic', 1925), ('water', 1847), ('sugar', 1573), ('garlic cloves', 1520), ('ground black pepper', 1241), ('butter', 1235), ('all-purpose flour', 1154)]\n"
     ]
    }
   ],
   "source": [
    "X_test_ingre = Counter(\n",
    "    [i for sublist in X_test.ingredients \\\n",
    "     for i in sublist]).most_common()\n",
    "print('실험데이터 ingredient 개수', len(X_test_ingre))\n",
    "print('가장 많이 출현한 ingredient \\n', X_test_ingre[:10])"
   ]
  },
  {
   "cell_type": "code",
   "execution_count": 94,
   "metadata": {
    "ExecuteTime": {
     "end_time": "2020-02-19T00:45:51.255877Z",
     "start_time": "2020-02-19T00:45:51.248874Z"
    },
    "cell_style": "split"
   },
   "outputs": [
    {
     "data": {
      "text/plain": [
       "83"
      ]
     },
     "execution_count": 94,
     "metadata": {},
     "output_type": "execute_result"
    }
   ],
   "source": [
    "len(set(dict(X_train_ingre).keys()) - set(dict(X_test_ingre).keys()))"
   ]
  },
  {
   "cell_type": "code",
   "execution_count": 95,
   "metadata": {
    "ExecuteTime": {
     "end_time": "2020-02-19T00:45:51.821876Z",
     "start_time": "2020-02-19T00:45:51.814875Z"
    },
    "cell_style": "split"
   },
   "outputs": [
    {
     "data": {
      "text/plain": [
       "4513"
      ]
     },
     "execution_count": 95,
     "metadata": {},
     "output_type": "execute_result"
    }
   ],
   "source": [
    "len(set(dict(X_test_ingre).keys()) - set(dict(X_train_ingre).keys()))"
   ]
  },
  {
   "cell_type": "code",
   "execution_count": 97,
   "metadata": {
    "ExecuteTime": {
     "end_time": "2020-02-19T00:45:53.419843Z",
     "start_time": "2020-02-19T00:45:53.414876Z"
    },
    "cell_style": "split"
   },
   "outputs": [
    {
     "data": {
      "text/plain": [
       "False"
      ]
     },
     "execution_count": 97,
     "metadata": {},
     "output_type": "execute_result"
    }
   ],
   "source": [
    "'Boursin' in dict(X_train_ingre).keys()"
   ]
  },
  {
   "cell_type": "code",
   "execution_count": 98,
   "metadata": {
    "ExecuteTime": {
     "end_time": "2020-02-19T00:46:19.984414Z",
     "start_time": "2020-02-19T00:46:19.978418Z"
    },
    "cell_style": "split"
   },
   "outputs": [
    {
     "data": {
      "text/plain": [
       "True"
      ]
     },
     "execution_count": 98,
     "metadata": {},
     "output_type": "execute_result"
    }
   ],
   "source": [
    "'Boursin' in dict(X_test_ingre).keys()"
   ]
  },
  {
   "cell_type": "code",
   "execution_count": 99,
   "metadata": {
    "ExecuteTime": {
     "end_time": "2020-02-19T00:46:20.788495Z",
     "start_time": "2020-02-19T00:46:20.780495Z"
    },
    "cell_style": "split",
    "scrolled": true
   },
   "outputs": [
    {
     "data": {
      "text/plain": [
       "False"
      ]
     },
     "execution_count": 99,
     "metadata": {},
     "output_type": "execute_result"
    }
   ],
   "source": [
    "'Boursin' in vect.get_feature_names()"
   ]
  },
  {
   "cell_type": "code",
   "execution_count": 100,
   "metadata": {
    "ExecuteTime": {
     "end_time": "2020-02-19T00:46:27.760932Z",
     "start_time": "2020-02-19T00:46:27.755929Z"
    },
    "cell_style": "split"
   },
   "outputs": [
    {
     "data": {
      "text/plain": [
       "<29830x2856 sparse matrix of type '<class 'numpy.float64'>'\n",
       "\twith 570196 stored elements in Compressed Sparse Row format>"
      ]
     },
     "execution_count": 100,
     "metadata": {},
     "output_type": "execute_result"
    }
   ],
   "source": [
    "X_train_vectorized"
   ]
  },
  {
   "cell_type": "code",
   "execution_count": 101,
   "metadata": {
    "ExecuteTime": {
     "end_time": "2020-02-19T00:46:29.520930Z",
     "start_time": "2020-02-19T00:46:29.515958Z"
    },
    "cell_style": "split"
   },
   "outputs": [
    {
     "data": {
      "text/plain": [
       "<9944x2856 sparse matrix of type '<class 'numpy.float64'>'\n",
       "\twith 191585 stored elements in Compressed Sparse Row format>"
      ]
     },
     "execution_count": 101,
     "metadata": {},
     "output_type": "execute_result"
    }
   ],
   "source": [
    "X_test_transformed"
   ]
  },
  {
   "cell_type": "markdown",
   "metadata": {},
   "source": [
    "### 모델링"
   ]
  },
  {
   "cell_type": "code",
   "execution_count": 105,
   "metadata": {
    "ExecuteTime": {
     "end_time": "2020-02-19T00:47:20.190173Z",
     "start_time": "2020-02-19T00:47:09.602278Z"
    },
    "scrolled": true
   },
   "outputs": [
    {
     "name": "stderr",
     "output_type": "stream",
     "text": [
      "c:\\users\\daumsoft\\appdata\\local\\programs\\python\\python37\\lib\\site-packages\\sklearn\\linear_model\\logistic.py:432: FutureWarning: Default solver will be changed to 'lbfgs' in 0.22. Specify a solver to silence this warning.\n",
      "  FutureWarning)\n"
     ]
    },
    {
     "name": "stdout",
     "output_type": "stream",
     "text": [
      "[LibLinear]"
     ]
    },
    {
     "data": {
      "text/plain": [
       "0.794147224456959"
      ]
     },
     "execution_count": 105,
     "metadata": {},
     "output_type": "execute_result"
    }
   ],
   "source": [
    "from sklearn.linear_model import LogisticRegression\n",
    "clf1 = LogisticRegression(C=10, multi_class='ovr', penalty='l2', verbose=1)\n",
    "clf1.fit(X_train_vectorized, y_train)\n",
    "clf1.score(X_test_transformed, y_test)"
   ]
  },
  {
   "cell_type": "code",
   "execution_count": 106,
   "metadata": {
    "ExecuteTime": {
     "end_time": "2020-02-19T00:47:22.074504Z",
     "start_time": "2020-02-19T00:47:22.058495Z"
    },
    "cell_style": "split",
    "scrolled": true
   },
   "outputs": [
    {
     "data": {
      "text/html": [
       "<div>\n",
       "<style scoped>\n",
       "    .dataframe tbody tr th:only-of-type {\n",
       "        vertical-align: middle;\n",
       "    }\n",
       "\n",
       "    .dataframe tbody tr th {\n",
       "        vertical-align: top;\n",
       "    }\n",
       "\n",
       "    .dataframe thead th {\n",
       "        text-align: right;\n",
       "    }\n",
       "</style>\n",
       "<table border=\"1\" class=\"dataframe\">\n",
       "  <thead>\n",
       "    <tr style=\"text-align: right;\">\n",
       "      <th></th>\n",
       "      <th>param_name</th>\n",
       "      <th>param_value</th>\n",
       "    </tr>\n",
       "  </thead>\n",
       "  <tbody>\n",
       "    <tr>\n",
       "      <th>0</th>\n",
       "      <td>C</td>\n",
       "      <td>10</td>\n",
       "    </tr>\n",
       "    <tr>\n",
       "      <th>1</th>\n",
       "      <td>class_weight</td>\n",
       "      <td>None</td>\n",
       "    </tr>\n",
       "    <tr>\n",
       "      <th>2</th>\n",
       "      <td>dual</td>\n",
       "      <td>False</td>\n",
       "    </tr>\n",
       "    <tr>\n",
       "      <th>3</th>\n",
       "      <td>fit_intercept</td>\n",
       "      <td>True</td>\n",
       "    </tr>\n",
       "    <tr>\n",
       "      <th>4</th>\n",
       "      <td>intercept_scaling</td>\n",
       "      <td>1</td>\n",
       "    </tr>\n",
       "    <tr>\n",
       "      <th>5</th>\n",
       "      <td>l1_ratio</td>\n",
       "      <td>None</td>\n",
       "    </tr>\n",
       "    <tr>\n",
       "      <th>6</th>\n",
       "      <td>max_iter</td>\n",
       "      <td>100</td>\n",
       "    </tr>\n",
       "    <tr>\n",
       "      <th>7</th>\n",
       "      <td>multi_class</td>\n",
       "      <td>ovr</td>\n",
       "    </tr>\n",
       "    <tr>\n",
       "      <th>8</th>\n",
       "      <td>n_jobs</td>\n",
       "      <td>None</td>\n",
       "    </tr>\n",
       "    <tr>\n",
       "      <th>9</th>\n",
       "      <td>penalty</td>\n",
       "      <td>l2</td>\n",
       "    </tr>\n",
       "    <tr>\n",
       "      <th>10</th>\n",
       "      <td>random_state</td>\n",
       "      <td>None</td>\n",
       "    </tr>\n",
       "    <tr>\n",
       "      <th>11</th>\n",
       "      <td>solver</td>\n",
       "      <td>warn</td>\n",
       "    </tr>\n",
       "    <tr>\n",
       "      <th>12</th>\n",
       "      <td>tol</td>\n",
       "      <td>0.0001</td>\n",
       "    </tr>\n",
       "    <tr>\n",
       "      <th>13</th>\n",
       "      <td>verbose</td>\n",
       "      <td>1</td>\n",
       "    </tr>\n",
       "    <tr>\n",
       "      <th>14</th>\n",
       "      <td>warm_start</td>\n",
       "      <td>False</td>\n",
       "    </tr>\n",
       "  </tbody>\n",
       "</table>\n",
       "</div>"
      ],
      "text/plain": [
       "           param_name param_value\n",
       "0                   C          10\n",
       "1        class_weight        None\n",
       "2                dual       False\n",
       "3       fit_intercept        True\n",
       "4   intercept_scaling           1\n",
       "5            l1_ratio        None\n",
       "6            max_iter         100\n",
       "7         multi_class         ovr\n",
       "8              n_jobs        None\n",
       "9             penalty          l2\n",
       "10       random_state        None\n",
       "11             solver        warn\n",
       "12                tol      0.0001\n",
       "13            verbose           1\n",
       "14         warm_start       False"
      ]
     },
     "execution_count": 106,
     "metadata": {},
     "output_type": "execute_result"
    }
   ],
   "source": [
    "pd.DataFrame.from_dict(clf1.get_params(), orient='index', columns=['param_value']).rename_axis('param_name').reset_index()"
   ]
  },
  {
   "cell_type": "code",
   "execution_count": 108,
   "metadata": {
    "ExecuteTime": {
     "end_time": "2020-02-19T00:47:35.344768Z",
     "start_time": "2020-02-19T00:47:35.334735Z"
    },
    "cell_style": "split"
   },
   "outputs": [
    {
     "data": {
      "text/plain": [
       "array([13, 13,  7, 16, 11, 13,  9,  3, 13,  0])"
      ]
     },
     "execution_count": 108,
     "metadata": {},
     "output_type": "execute_result"
    }
   ],
   "source": [
    "clf1.predict(X_test_transformed)[:10]"
   ]
  },
  {
   "cell_type": "code",
   "execution_count": 109,
   "metadata": {
    "ExecuteTime": {
     "end_time": "2020-02-19T00:47:37.543217Z",
     "start_time": "2020-02-19T00:47:37.522139Z"
    },
    "cell_style": "split"
   },
   "outputs": [
    {
     "data": {
      "text/plain": [
       "0.8628226617499162"
      ]
     },
     "execution_count": 109,
     "metadata": {},
     "output_type": "execute_result"
    }
   ],
   "source": [
    "clf1.score(X_train_vectorized, y_train)"
   ]
  },
  {
   "cell_type": "code",
   "execution_count": 110,
   "metadata": {
    "ExecuteTime": {
     "end_time": "2020-02-19T00:47:39.160331Z",
     "start_time": "2020-02-19T00:47:39.149237Z"
    },
    "cell_style": "split",
    "scrolled": true
   },
   "outputs": [
    {
     "data": {
      "text/plain": [
       "0.794147224456959"
      ]
     },
     "execution_count": 110,
     "metadata": {},
     "output_type": "execute_result"
    }
   ],
   "source": [
    "clf1.score(X_test_transformed, y_test)"
   ]
  },
  {
   "cell_type": "code",
   "execution_count": 111,
   "metadata": {
    "ExecuteTime": {
     "end_time": "2020-02-19T00:47:40.869584Z",
     "start_time": "2020-02-19T00:47:40.844545Z"
    }
   },
   "outputs": [
    {
     "data": {
      "text/plain": [
       "array([0.  , 0.  , 0.01, 0.  , 0.  , 0.  , 0.  , 0.  , 0.  , 0.  , 0.  ,\n",
       "       0.  , 0.  , 0.99, 0.  , 0.  , 0.  , 0.  , 0.  , 0.  ])"
      ]
     },
     "execution_count": 111,
     "metadata": {},
     "output_type": "execute_result"
    }
   ],
   "source": [
    "np.round(clf1.predict_proba(X_test_transformed),2)[0]"
   ]
  },
  {
   "cell_type": "code",
   "execution_count": 112,
   "metadata": {
    "ExecuteTime": {
     "end_time": "2020-02-19T00:47:41.588586Z",
     "start_time": "2020-02-19T00:47:41.535587Z"
    }
   },
   "outputs": [
    {
     "data": {
      "text/html": [
       "<div>\n",
       "<style scoped>\n",
       "    .dataframe tbody tr th:only-of-type {\n",
       "        vertical-align: middle;\n",
       "    }\n",
       "\n",
       "    .dataframe tbody tr th {\n",
       "        vertical-align: top;\n",
       "    }\n",
       "\n",
       "    .dataframe thead tr th {\n",
       "        text-align: left;\n",
       "    }\n",
       "</style>\n",
       "<table border=\"1\" class=\"dataframe\">\n",
       "  <thead>\n",
       "    <tr>\n",
       "      <th></th>\n",
       "      <th>1</th>\n",
       "      <th>2</th>\n",
       "      <th>3</th>\n",
       "      <th>4</th>\n",
       "      <th>5</th>\n",
       "      <th>6</th>\n",
       "      <th>7</th>\n",
       "      <th>8</th>\n",
       "      <th>9</th>\n",
       "      <th>10</th>\n",
       "      <th>11</th>\n",
       "      <th>12</th>\n",
       "      <th>13</th>\n",
       "      <th>14</th>\n",
       "      <th>15</th>\n",
       "      <th>16</th>\n",
       "      <th>17</th>\n",
       "      <th>18</th>\n",
       "      <th>19</th>\n",
       "      <th>20</th>\n",
       "    </tr>\n",
       "  </thead>\n",
       "  <tbody>\n",
       "    <tr>\n",
       "      <th>0</th>\n",
       "      <td>0.00</td>\n",
       "      <td>0.00</td>\n",
       "      <td>0.01</td>\n",
       "      <td>0.00</td>\n",
       "      <td>0.00</td>\n",
       "      <td>0.00</td>\n",
       "      <td>0.00</td>\n",
       "      <td>0.00</td>\n",
       "      <td>0.00</td>\n",
       "      <td>0.00</td>\n",
       "      <td>0.00</td>\n",
       "      <td>0.00</td>\n",
       "      <td>0.00</td>\n",
       "      <td>0.99</td>\n",
       "      <td>0.0</td>\n",
       "      <td>0.00</td>\n",
       "      <td>0.00</td>\n",
       "      <td>0.00</td>\n",
       "      <td>0.00</td>\n",
       "      <td>0.00</td>\n",
       "    </tr>\n",
       "    <tr>\n",
       "      <th>1</th>\n",
       "      <td>0.00</td>\n",
       "      <td>0.00</td>\n",
       "      <td>0.01</td>\n",
       "      <td>0.00</td>\n",
       "      <td>0.00</td>\n",
       "      <td>0.00</td>\n",
       "      <td>0.00</td>\n",
       "      <td>0.00</td>\n",
       "      <td>0.00</td>\n",
       "      <td>0.00</td>\n",
       "      <td>0.00</td>\n",
       "      <td>0.00</td>\n",
       "      <td>0.00</td>\n",
       "      <td>0.96</td>\n",
       "      <td>0.0</td>\n",
       "      <td>0.00</td>\n",
       "      <td>0.01</td>\n",
       "      <td>0.00</td>\n",
       "      <td>0.00</td>\n",
       "      <td>0.01</td>\n",
       "    </tr>\n",
       "    <tr>\n",
       "      <th>2</th>\n",
       "      <td>0.01</td>\n",
       "      <td>0.01</td>\n",
       "      <td>0.01</td>\n",
       "      <td>0.01</td>\n",
       "      <td>0.01</td>\n",
       "      <td>0.01</td>\n",
       "      <td>0.13</td>\n",
       "      <td>0.64</td>\n",
       "      <td>0.00</td>\n",
       "      <td>0.11</td>\n",
       "      <td>0.00</td>\n",
       "      <td>0.01</td>\n",
       "      <td>0.01</td>\n",
       "      <td>0.01</td>\n",
       "      <td>0.0</td>\n",
       "      <td>0.02</td>\n",
       "      <td>0.01</td>\n",
       "      <td>0.01</td>\n",
       "      <td>0.00</td>\n",
       "      <td>0.00</td>\n",
       "    </tr>\n",
       "    <tr>\n",
       "      <th>3</th>\n",
       "      <td>0.03</td>\n",
       "      <td>0.00</td>\n",
       "      <td>0.00</td>\n",
       "      <td>0.00</td>\n",
       "      <td>0.00</td>\n",
       "      <td>0.00</td>\n",
       "      <td>0.00</td>\n",
       "      <td>0.00</td>\n",
       "      <td>0.01</td>\n",
       "      <td>0.02</td>\n",
       "      <td>0.02</td>\n",
       "      <td>0.00</td>\n",
       "      <td>0.00</td>\n",
       "      <td>0.00</td>\n",
       "      <td>0.0</td>\n",
       "      <td>0.00</td>\n",
       "      <td>0.88</td>\n",
       "      <td>0.02</td>\n",
       "      <td>0.00</td>\n",
       "      <td>0.00</td>\n",
       "    </tr>\n",
       "    <tr>\n",
       "      <th>4</th>\n",
       "      <td>0.00</td>\n",
       "      <td>0.00</td>\n",
       "      <td>0.00</td>\n",
       "      <td>0.01</td>\n",
       "      <td>0.00</td>\n",
       "      <td>0.00</td>\n",
       "      <td>0.00</td>\n",
       "      <td>0.00</td>\n",
       "      <td>0.00</td>\n",
       "      <td>0.00</td>\n",
       "      <td>0.00</td>\n",
       "      <td>0.97</td>\n",
       "      <td>0.00</td>\n",
       "      <td>0.00</td>\n",
       "      <td>0.0</td>\n",
       "      <td>0.00</td>\n",
       "      <td>0.00</td>\n",
       "      <td>0.00</td>\n",
       "      <td>0.00</td>\n",
       "      <td>0.00</td>\n",
       "    </tr>\n",
       "    <tr>\n",
       "      <th>5</th>\n",
       "      <td>0.00</td>\n",
       "      <td>0.00</td>\n",
       "      <td>0.00</td>\n",
       "      <td>0.00</td>\n",
       "      <td>0.00</td>\n",
       "      <td>0.00</td>\n",
       "      <td>0.00</td>\n",
       "      <td>0.00</td>\n",
       "      <td>0.00</td>\n",
       "      <td>0.00</td>\n",
       "      <td>0.00</td>\n",
       "      <td>0.00</td>\n",
       "      <td>0.00</td>\n",
       "      <td>0.99</td>\n",
       "      <td>0.0</td>\n",
       "      <td>0.00</td>\n",
       "      <td>0.00</td>\n",
       "      <td>0.00</td>\n",
       "      <td>0.00</td>\n",
       "      <td>0.00</td>\n",
       "    </tr>\n",
       "    <tr>\n",
       "      <th>6</th>\n",
       "      <td>0.00</td>\n",
       "      <td>0.00</td>\n",
       "      <td>0.00</td>\n",
       "      <td>0.00</td>\n",
       "      <td>0.00</td>\n",
       "      <td>0.18</td>\n",
       "      <td>0.01</td>\n",
       "      <td>0.00</td>\n",
       "      <td>0.00</td>\n",
       "      <td>0.76</td>\n",
       "      <td>0.00</td>\n",
       "      <td>0.00</td>\n",
       "      <td>0.00</td>\n",
       "      <td>0.01</td>\n",
       "      <td>0.0</td>\n",
       "      <td>0.00</td>\n",
       "      <td>0.03</td>\n",
       "      <td>0.01</td>\n",
       "      <td>0.00</td>\n",
       "      <td>0.00</td>\n",
       "    </tr>\n",
       "    <tr>\n",
       "      <th>7</th>\n",
       "      <td>0.00</td>\n",
       "      <td>0.00</td>\n",
       "      <td>0.00</td>\n",
       "      <td>0.97</td>\n",
       "      <td>0.00</td>\n",
       "      <td>0.00</td>\n",
       "      <td>0.00</td>\n",
       "      <td>0.00</td>\n",
       "      <td>0.00</td>\n",
       "      <td>0.00</td>\n",
       "      <td>0.00</td>\n",
       "      <td>0.01</td>\n",
       "      <td>0.01</td>\n",
       "      <td>0.00</td>\n",
       "      <td>0.0</td>\n",
       "      <td>0.00</td>\n",
       "      <td>0.00</td>\n",
       "      <td>0.00</td>\n",
       "      <td>0.00</td>\n",
       "      <td>0.00</td>\n",
       "    </tr>\n",
       "    <tr>\n",
       "      <th>8</th>\n",
       "      <td>0.01</td>\n",
       "      <td>0.00</td>\n",
       "      <td>0.00</td>\n",
       "      <td>0.00</td>\n",
       "      <td>0.00</td>\n",
       "      <td>0.01</td>\n",
       "      <td>0.01</td>\n",
       "      <td>0.00</td>\n",
       "      <td>0.00</td>\n",
       "      <td>0.12</td>\n",
       "      <td>0.00</td>\n",
       "      <td>0.02</td>\n",
       "      <td>0.00</td>\n",
       "      <td>0.80</td>\n",
       "      <td>0.0</td>\n",
       "      <td>0.00</td>\n",
       "      <td>0.00</td>\n",
       "      <td>0.01</td>\n",
       "      <td>0.00</td>\n",
       "      <td>0.00</td>\n",
       "    </tr>\n",
       "    <tr>\n",
       "      <th>9</th>\n",
       "      <td>0.88</td>\n",
       "      <td>0.00</td>\n",
       "      <td>0.01</td>\n",
       "      <td>0.00</td>\n",
       "      <td>0.00</td>\n",
       "      <td>0.00</td>\n",
       "      <td>0.00</td>\n",
       "      <td>0.01</td>\n",
       "      <td>0.00</td>\n",
       "      <td>0.02</td>\n",
       "      <td>0.00</td>\n",
       "      <td>0.02</td>\n",
       "      <td>0.00</td>\n",
       "      <td>0.01</td>\n",
       "      <td>0.0</td>\n",
       "      <td>0.00</td>\n",
       "      <td>0.00</td>\n",
       "      <td>0.01</td>\n",
       "      <td>0.02</td>\n",
       "      <td>0.01</td>\n",
       "    </tr>\n",
       "  </tbody>\n",
       "</table>\n",
       "</div>"
      ],
      "text/plain": [
       "     1     2     3     4     5     6     7     8     9     10    11    12  \\\n",
       "0  0.00  0.00  0.01  0.00  0.00  0.00  0.00  0.00  0.00  0.00  0.00  0.00   \n",
       "1  0.00  0.00  0.01  0.00  0.00  0.00  0.00  0.00  0.00  0.00  0.00  0.00   \n",
       "2  0.01  0.01  0.01  0.01  0.01  0.01  0.13  0.64  0.00  0.11  0.00  0.01   \n",
       "3  0.03  0.00  0.00  0.00  0.00  0.00  0.00  0.00  0.01  0.02  0.02  0.00   \n",
       "4  0.00  0.00  0.00  0.01  0.00  0.00  0.00  0.00  0.00  0.00  0.00  0.97   \n",
       "5  0.00  0.00  0.00  0.00  0.00  0.00  0.00  0.00  0.00  0.00  0.00  0.00   \n",
       "6  0.00  0.00  0.00  0.00  0.00  0.18  0.01  0.00  0.00  0.76  0.00  0.00   \n",
       "7  0.00  0.00  0.00  0.97  0.00  0.00  0.00  0.00  0.00  0.00  0.00  0.01   \n",
       "8  0.01  0.00  0.00  0.00  0.00  0.01  0.01  0.00  0.00  0.12  0.00  0.02   \n",
       "9  0.88  0.00  0.01  0.00  0.00  0.00  0.00  0.01  0.00  0.02  0.00  0.02   \n",
       "\n",
       "     13    14   15    16    17    18    19    20  \n",
       "0  0.00  0.99  0.0  0.00  0.00  0.00  0.00  0.00  \n",
       "1  0.00  0.96  0.0  0.00  0.01  0.00  0.00  0.01  \n",
       "2  0.01  0.01  0.0  0.02  0.01  0.01  0.00  0.00  \n",
       "3  0.00  0.00  0.0  0.00  0.88  0.02  0.00  0.00  \n",
       "4  0.00  0.00  0.0  0.00  0.00  0.00  0.00  0.00  \n",
       "5  0.00  0.99  0.0  0.00  0.00  0.00  0.00  0.00  \n",
       "6  0.00  0.01  0.0  0.00  0.03  0.01  0.00  0.00  \n",
       "7  0.01  0.00  0.0  0.00  0.00  0.00  0.00  0.00  \n",
       "8  0.00  0.80  0.0  0.00  0.00  0.01  0.00  0.00  \n",
       "9  0.00  0.01  0.0  0.00  0.00  0.01  0.02  0.01  "
      ]
     },
     "execution_count": 112,
     "metadata": {},
     "output_type": "execute_result"
    }
   ],
   "source": [
    "clf1_predict_proba = np.round(clf1.predict_proba(X_test_transformed),2)\n",
    "\n",
    "predict_prob_df = pd.DataFrame(clf1_predict_proba, columns=[[x.__add__(1) for x in list(range(20))]])\n",
    "predict_prob_df[:10]"
   ]
  },
  {
   "cell_type": "code",
   "execution_count": 113,
   "metadata": {
    "ExecuteTime": {
     "end_time": "2020-02-19T00:47:46.698621Z",
     "start_time": "2020-02-19T00:47:46.277619Z"
    }
   },
   "outputs": [
    {
     "data": {
      "text/html": [
       "<style  type=\"text/css\" >\n",
       "    #T_723267d2_52b1_11ea_b119_3c6aa7272440row0_col0 {\n",
       "            background-color:  #fff7fb;\n",
       "            color:  #000000;\n",
       "        }    #T_723267d2_52b1_11ea_b119_3c6aa7272440row0_col1 {\n",
       "            background-color:  #fff7fb;\n",
       "            color:  #000000;\n",
       "        }    #T_723267d2_52b1_11ea_b119_3c6aa7272440row0_col2 {\n",
       "            background-color:  #fef6fa;\n",
       "            color:  #000000;\n",
       "        }    #T_723267d2_52b1_11ea_b119_3c6aa7272440row0_col3 {\n",
       "            background-color:  #fff7fb;\n",
       "            color:  #000000;\n",
       "        }    #T_723267d2_52b1_11ea_b119_3c6aa7272440row0_col4 {\n",
       "            background-color:  #fff7fb;\n",
       "            color:  #000000;\n",
       "        }    #T_723267d2_52b1_11ea_b119_3c6aa7272440row0_col5 {\n",
       "            background-color:  #fff7fb;\n",
       "            color:  #000000;\n",
       "        }    #T_723267d2_52b1_11ea_b119_3c6aa7272440row0_col6 {\n",
       "            background-color:  #fff7fb;\n",
       "            color:  #000000;\n",
       "        }    #T_723267d2_52b1_11ea_b119_3c6aa7272440row0_col7 {\n",
       "            background-color:  #fff7fb;\n",
       "            color:  #000000;\n",
       "        }    #T_723267d2_52b1_11ea_b119_3c6aa7272440row0_col8 {\n",
       "            background-color:  #fff7fb;\n",
       "            color:  #000000;\n",
       "        }    #T_723267d2_52b1_11ea_b119_3c6aa7272440row0_col9 {\n",
       "            background-color:  #fff7fb;\n",
       "            color:  #000000;\n",
       "        }    #T_723267d2_52b1_11ea_b119_3c6aa7272440row0_col10 {\n",
       "            background-color:  #fff7fb;\n",
       "            color:  #000000;\n",
       "        }    #T_723267d2_52b1_11ea_b119_3c6aa7272440row0_col11 {\n",
       "            background-color:  #fff7fb;\n",
       "            color:  #000000;\n",
       "        }    #T_723267d2_52b1_11ea_b119_3c6aa7272440row0_col12 {\n",
       "            background-color:  #fff7fb;\n",
       "            color:  #000000;\n",
       "        }    #T_723267d2_52b1_11ea_b119_3c6aa7272440row0_col13 {\n",
       "            background-color:  #03517e;\n",
       "            color:  #f1f1f1;\n",
       "        }    #T_723267d2_52b1_11ea_b119_3c6aa7272440row0_col14 {\n",
       "            background-color:  #fff7fb;\n",
       "            color:  #000000;\n",
       "        }    #T_723267d2_52b1_11ea_b119_3c6aa7272440row0_col15 {\n",
       "            background-color:  #fff7fb;\n",
       "            color:  #000000;\n",
       "        }    #T_723267d2_52b1_11ea_b119_3c6aa7272440row0_col16 {\n",
       "            background-color:  #fff7fb;\n",
       "            color:  #000000;\n",
       "        }    #T_723267d2_52b1_11ea_b119_3c6aa7272440row0_col17 {\n",
       "            background-color:  #fff7fb;\n",
       "            color:  #000000;\n",
       "        }    #T_723267d2_52b1_11ea_b119_3c6aa7272440row0_col18 {\n",
       "            background-color:  #fff7fb;\n",
       "            color:  #000000;\n",
       "        }    #T_723267d2_52b1_11ea_b119_3c6aa7272440row0_col19 {\n",
       "            background-color:  #fff7fb;\n",
       "            color:  #000000;\n",
       "        }    #T_723267d2_52b1_11ea_b119_3c6aa7272440row1_col0 {\n",
       "            background-color:  #fff7fb;\n",
       "            color:  #000000;\n",
       "        }    #T_723267d2_52b1_11ea_b119_3c6aa7272440row1_col1 {\n",
       "            background-color:  #fff7fb;\n",
       "            color:  #000000;\n",
       "        }    #T_723267d2_52b1_11ea_b119_3c6aa7272440row1_col2 {\n",
       "            background-color:  #fef6fa;\n",
       "            color:  #000000;\n",
       "        }    #T_723267d2_52b1_11ea_b119_3c6aa7272440row1_col3 {\n",
       "            background-color:  #fff7fb;\n",
       "            color:  #000000;\n",
       "        }    #T_723267d2_52b1_11ea_b119_3c6aa7272440row1_col4 {\n",
       "            background-color:  #fff7fb;\n",
       "            color:  #000000;\n",
       "        }    #T_723267d2_52b1_11ea_b119_3c6aa7272440row1_col5 {\n",
       "            background-color:  #fff7fb;\n",
       "            color:  #000000;\n",
       "        }    #T_723267d2_52b1_11ea_b119_3c6aa7272440row1_col6 {\n",
       "            background-color:  #fff7fb;\n",
       "            color:  #000000;\n",
       "        }    #T_723267d2_52b1_11ea_b119_3c6aa7272440row1_col7 {\n",
       "            background-color:  #fff7fb;\n",
       "            color:  #000000;\n",
       "        }    #T_723267d2_52b1_11ea_b119_3c6aa7272440row1_col8 {\n",
       "            background-color:  #fff7fb;\n",
       "            color:  #000000;\n",
       "        }    #T_723267d2_52b1_11ea_b119_3c6aa7272440row1_col9 {\n",
       "            background-color:  #fff7fb;\n",
       "            color:  #000000;\n",
       "        }    #T_723267d2_52b1_11ea_b119_3c6aa7272440row1_col10 {\n",
       "            background-color:  #fff7fb;\n",
       "            color:  #000000;\n",
       "        }    #T_723267d2_52b1_11ea_b119_3c6aa7272440row1_col11 {\n",
       "            background-color:  #fff7fb;\n",
       "            color:  #000000;\n",
       "        }    #T_723267d2_52b1_11ea_b119_3c6aa7272440row1_col12 {\n",
       "            background-color:  #fff7fb;\n",
       "            color:  #000000;\n",
       "        }    #T_723267d2_52b1_11ea_b119_3c6aa7272440row1_col13 {\n",
       "            background-color:  #03517e;\n",
       "            color:  #f1f1f1;\n",
       "        }    #T_723267d2_52b1_11ea_b119_3c6aa7272440row1_col14 {\n",
       "            background-color:  #fff7fb;\n",
       "            color:  #000000;\n",
       "        }    #T_723267d2_52b1_11ea_b119_3c6aa7272440row1_col15 {\n",
       "            background-color:  #fff7fb;\n",
       "            color:  #000000;\n",
       "        }    #T_723267d2_52b1_11ea_b119_3c6aa7272440row1_col16 {\n",
       "            background-color:  #fef6fa;\n",
       "            color:  #000000;\n",
       "        }    #T_723267d2_52b1_11ea_b119_3c6aa7272440row1_col17 {\n",
       "            background-color:  #fff7fb;\n",
       "            color:  #000000;\n",
       "        }    #T_723267d2_52b1_11ea_b119_3c6aa7272440row1_col18 {\n",
       "            background-color:  #fff7fb;\n",
       "            color:  #000000;\n",
       "        }    #T_723267d2_52b1_11ea_b119_3c6aa7272440row1_col19 {\n",
       "            background-color:  #fef6fa;\n",
       "            color:  #000000;\n",
       "        }    #T_723267d2_52b1_11ea_b119_3c6aa7272440row2_col0 {\n",
       "            background-color:  #fdf5fa;\n",
       "            color:  #000000;\n",
       "        }    #T_723267d2_52b1_11ea_b119_3c6aa7272440row2_col1 {\n",
       "            background-color:  #fdf5fa;\n",
       "            color:  #000000;\n",
       "        }    #T_723267d2_52b1_11ea_b119_3c6aa7272440row2_col2 {\n",
       "            background-color:  #fdf5fa;\n",
       "            color:  #000000;\n",
       "        }    #T_723267d2_52b1_11ea_b119_3c6aa7272440row2_col3 {\n",
       "            background-color:  #fdf5fa;\n",
       "            color:  #000000;\n",
       "        }    #T_723267d2_52b1_11ea_b119_3c6aa7272440row2_col4 {\n",
       "            background-color:  #fdf5fa;\n",
       "            color:  #000000;\n",
       "        }    #T_723267d2_52b1_11ea_b119_3c6aa7272440row2_col5 {\n",
       "            background-color:  #fdf5fa;\n",
       "            color:  #000000;\n",
       "        }    #T_723267d2_52b1_11ea_b119_3c6aa7272440row2_col6 {\n",
       "            background-color:  #dfddec;\n",
       "            color:  #000000;\n",
       "        }    #T_723267d2_52b1_11ea_b119_3c6aa7272440row2_col7 {\n",
       "            background-color:  #03517e;\n",
       "            color:  #f1f1f1;\n",
       "        }    #T_723267d2_52b1_11ea_b119_3c6aa7272440row2_col8 {\n",
       "            background-color:  #fff7fb;\n",
       "            color:  #000000;\n",
       "        }    #T_723267d2_52b1_11ea_b119_3c6aa7272440row2_col9 {\n",
       "            background-color:  #e5e1ef;\n",
       "            color:  #000000;\n",
       "        }    #T_723267d2_52b1_11ea_b119_3c6aa7272440row2_col10 {\n",
       "            background-color:  #fff7fb;\n",
       "            color:  #000000;\n",
       "        }    #T_723267d2_52b1_11ea_b119_3c6aa7272440row2_col11 {\n",
       "            background-color:  #fdf5fa;\n",
       "            color:  #000000;\n",
       "        }    #T_723267d2_52b1_11ea_b119_3c6aa7272440row2_col12 {\n",
       "            background-color:  #fdf5fa;\n",
       "            color:  #000000;\n",
       "        }    #T_723267d2_52b1_11ea_b119_3c6aa7272440row2_col13 {\n",
       "            background-color:  #fdf5fa;\n",
       "            color:  #000000;\n",
       "        }    #T_723267d2_52b1_11ea_b119_3c6aa7272440row2_col14 {\n",
       "            background-color:  #fff7fb;\n",
       "            color:  #000000;\n",
       "        }    #T_723267d2_52b1_11ea_b119_3c6aa7272440row2_col15 {\n",
       "            background-color:  #fbf3f9;\n",
       "            color:  #000000;\n",
       "        }    #T_723267d2_52b1_11ea_b119_3c6aa7272440row2_col16 {\n",
       "            background-color:  #fdf5fa;\n",
       "            color:  #000000;\n",
       "        }    #T_723267d2_52b1_11ea_b119_3c6aa7272440row2_col17 {\n",
       "            background-color:  #fdf5fa;\n",
       "            color:  #000000;\n",
       "        }    #T_723267d2_52b1_11ea_b119_3c6aa7272440row2_col18 {\n",
       "            background-color:  #fff7fb;\n",
       "            color:  #000000;\n",
       "        }    #T_723267d2_52b1_11ea_b119_3c6aa7272440row2_col19 {\n",
       "            background-color:  #fff7fb;\n",
       "            color:  #000000;\n",
       "        }    #T_723267d2_52b1_11ea_b119_3c6aa7272440row3_col0 {\n",
       "            background-color:  #fbf3f9;\n",
       "            color:  #000000;\n",
       "        }    #T_723267d2_52b1_11ea_b119_3c6aa7272440row3_col1 {\n",
       "            background-color:  #fff7fb;\n",
       "            color:  #000000;\n",
       "        }    #T_723267d2_52b1_11ea_b119_3c6aa7272440row3_col2 {\n",
       "            background-color:  #fff7fb;\n",
       "            color:  #000000;\n",
       "        }    #T_723267d2_52b1_11ea_b119_3c6aa7272440row3_col3 {\n",
       "            background-color:  #fff7fb;\n",
       "            color:  #000000;\n",
       "        }    #T_723267d2_52b1_11ea_b119_3c6aa7272440row3_col4 {\n",
       "            background-color:  #fff7fb;\n",
       "            color:  #000000;\n",
       "        }    #T_723267d2_52b1_11ea_b119_3c6aa7272440row3_col5 {\n",
       "            background-color:  #fff7fb;\n",
       "            color:  #000000;\n",
       "        }    #T_723267d2_52b1_11ea_b119_3c6aa7272440row3_col6 {\n",
       "            background-color:  #fff7fb;\n",
       "            color:  #000000;\n",
       "        }    #T_723267d2_52b1_11ea_b119_3c6aa7272440row3_col7 {\n",
       "            background-color:  #fff7fb;\n",
       "            color:  #000000;\n",
       "        }    #T_723267d2_52b1_11ea_b119_3c6aa7272440row3_col8 {\n",
       "            background-color:  #fef6fa;\n",
       "            color:  #000000;\n",
       "        }    #T_723267d2_52b1_11ea_b119_3c6aa7272440row3_col9 {\n",
       "            background-color:  #fcf4fa;\n",
       "            color:  #000000;\n",
       "        }    #T_723267d2_52b1_11ea_b119_3c6aa7272440row3_col10 {\n",
       "            background-color:  #fcf4fa;\n",
       "            color:  #000000;\n",
       "        }    #T_723267d2_52b1_11ea_b119_3c6aa7272440row3_col11 {\n",
       "            background-color:  #fff7fb;\n",
       "            color:  #000000;\n",
       "        }    #T_723267d2_52b1_11ea_b119_3c6aa7272440row3_col12 {\n",
       "            background-color:  #fff7fb;\n",
       "            color:  #000000;\n",
       "        }    #T_723267d2_52b1_11ea_b119_3c6aa7272440row3_col13 {\n",
       "            background-color:  #fff7fb;\n",
       "            color:  #000000;\n",
       "        }    #T_723267d2_52b1_11ea_b119_3c6aa7272440row3_col14 {\n",
       "            background-color:  #fff7fb;\n",
       "            color:  #000000;\n",
       "        }    #T_723267d2_52b1_11ea_b119_3c6aa7272440row3_col15 {\n",
       "            background-color:  #fff7fb;\n",
       "            color:  #000000;\n",
       "        }    #T_723267d2_52b1_11ea_b119_3c6aa7272440row3_col16 {\n",
       "            background-color:  #03517e;\n",
       "            color:  #f1f1f1;\n",
       "        }    #T_723267d2_52b1_11ea_b119_3c6aa7272440row3_col17 {\n",
       "            background-color:  #fcf4fa;\n",
       "            color:  #000000;\n",
       "        }    #T_723267d2_52b1_11ea_b119_3c6aa7272440row3_col18 {\n",
       "            background-color:  #fff7fb;\n",
       "            color:  #000000;\n",
       "        }    #T_723267d2_52b1_11ea_b119_3c6aa7272440row3_col19 {\n",
       "            background-color:  #fff7fb;\n",
       "            color:  #000000;\n",
       "        }    #T_723267d2_52b1_11ea_b119_3c6aa7272440row4_col0 {\n",
       "            background-color:  #fff7fb;\n",
       "            color:  #000000;\n",
       "        }    #T_723267d2_52b1_11ea_b119_3c6aa7272440row4_col1 {\n",
       "            background-color:  #fff7fb;\n",
       "            color:  #000000;\n",
       "        }    #T_723267d2_52b1_11ea_b119_3c6aa7272440row4_col2 {\n",
       "            background-color:  #fff7fb;\n",
       "            color:  #000000;\n",
       "        }    #T_723267d2_52b1_11ea_b119_3c6aa7272440row4_col3 {\n",
       "            background-color:  #fef6fa;\n",
       "            color:  #000000;\n",
       "        }    #T_723267d2_52b1_11ea_b119_3c6aa7272440row4_col4 {\n",
       "            background-color:  #fff7fb;\n",
       "            color:  #000000;\n",
       "        }    #T_723267d2_52b1_11ea_b119_3c6aa7272440row4_col5 {\n",
       "            background-color:  #fff7fb;\n",
       "            color:  #000000;\n",
       "        }    #T_723267d2_52b1_11ea_b119_3c6aa7272440row4_col6 {\n",
       "            background-color:  #fff7fb;\n",
       "            color:  #000000;\n",
       "        }    #T_723267d2_52b1_11ea_b119_3c6aa7272440row4_col7 {\n",
       "            background-color:  #fff7fb;\n",
       "            color:  #000000;\n",
       "        }    #T_723267d2_52b1_11ea_b119_3c6aa7272440row4_col8 {\n",
       "            background-color:  #fff7fb;\n",
       "            color:  #000000;\n",
       "        }    #T_723267d2_52b1_11ea_b119_3c6aa7272440row4_col9 {\n",
       "            background-color:  #fff7fb;\n",
       "            color:  #000000;\n",
       "        }    #T_723267d2_52b1_11ea_b119_3c6aa7272440row4_col10 {\n",
       "            background-color:  #fff7fb;\n",
       "            color:  #000000;\n",
       "        }    #T_723267d2_52b1_11ea_b119_3c6aa7272440row4_col11 {\n",
       "            background-color:  #03517e;\n",
       "            color:  #f1f1f1;\n",
       "        }    #T_723267d2_52b1_11ea_b119_3c6aa7272440row4_col12 {\n",
       "            background-color:  #fff7fb;\n",
       "            color:  #000000;\n",
       "        }    #T_723267d2_52b1_11ea_b119_3c6aa7272440row4_col13 {\n",
       "            background-color:  #fff7fb;\n",
       "            color:  #000000;\n",
       "        }    #T_723267d2_52b1_11ea_b119_3c6aa7272440row4_col14 {\n",
       "            background-color:  #fff7fb;\n",
       "            color:  #000000;\n",
       "        }    #T_723267d2_52b1_11ea_b119_3c6aa7272440row4_col15 {\n",
       "            background-color:  #fff7fb;\n",
       "            color:  #000000;\n",
       "        }    #T_723267d2_52b1_11ea_b119_3c6aa7272440row4_col16 {\n",
       "            background-color:  #fff7fb;\n",
       "            color:  #000000;\n",
       "        }    #T_723267d2_52b1_11ea_b119_3c6aa7272440row4_col17 {\n",
       "            background-color:  #fff7fb;\n",
       "            color:  #000000;\n",
       "        }    #T_723267d2_52b1_11ea_b119_3c6aa7272440row4_col18 {\n",
       "            background-color:  #fff7fb;\n",
       "            color:  #000000;\n",
       "        }    #T_723267d2_52b1_11ea_b119_3c6aa7272440row4_col19 {\n",
       "            background-color:  #fff7fb;\n",
       "            color:  #000000;\n",
       "        }    #T_723267d2_52b1_11ea_b119_3c6aa7272440row5_col0 {\n",
       "            background-color:  #fff7fb;\n",
       "            color:  #000000;\n",
       "        }    #T_723267d2_52b1_11ea_b119_3c6aa7272440row5_col1 {\n",
       "            background-color:  #fff7fb;\n",
       "            color:  #000000;\n",
       "        }    #T_723267d2_52b1_11ea_b119_3c6aa7272440row5_col2 {\n",
       "            background-color:  #fff7fb;\n",
       "            color:  #000000;\n",
       "        }    #T_723267d2_52b1_11ea_b119_3c6aa7272440row5_col3 {\n",
       "            background-color:  #fff7fb;\n",
       "            color:  #000000;\n",
       "        }    #T_723267d2_52b1_11ea_b119_3c6aa7272440row5_col4 {\n",
       "            background-color:  #fff7fb;\n",
       "            color:  #000000;\n",
       "        }    #T_723267d2_52b1_11ea_b119_3c6aa7272440row5_col5 {\n",
       "            background-color:  #fff7fb;\n",
       "            color:  #000000;\n",
       "        }    #T_723267d2_52b1_11ea_b119_3c6aa7272440row5_col6 {\n",
       "            background-color:  #fff7fb;\n",
       "            color:  #000000;\n",
       "        }    #T_723267d2_52b1_11ea_b119_3c6aa7272440row5_col7 {\n",
       "            background-color:  #fff7fb;\n",
       "            color:  #000000;\n",
       "        }    #T_723267d2_52b1_11ea_b119_3c6aa7272440row5_col8 {\n",
       "            background-color:  #fff7fb;\n",
       "            color:  #000000;\n",
       "        }    #T_723267d2_52b1_11ea_b119_3c6aa7272440row5_col9 {\n",
       "            background-color:  #fff7fb;\n",
       "            color:  #000000;\n",
       "        }    #T_723267d2_52b1_11ea_b119_3c6aa7272440row5_col10 {\n",
       "            background-color:  #fff7fb;\n",
       "            color:  #000000;\n",
       "        }    #T_723267d2_52b1_11ea_b119_3c6aa7272440row5_col11 {\n",
       "            background-color:  #fff7fb;\n",
       "            color:  #000000;\n",
       "        }    #T_723267d2_52b1_11ea_b119_3c6aa7272440row5_col12 {\n",
       "            background-color:  #fff7fb;\n",
       "            color:  #000000;\n",
       "        }    #T_723267d2_52b1_11ea_b119_3c6aa7272440row5_col13 {\n",
       "            background-color:  #03517e;\n",
       "            color:  #f1f1f1;\n",
       "        }    #T_723267d2_52b1_11ea_b119_3c6aa7272440row5_col14 {\n",
       "            background-color:  #fff7fb;\n",
       "            color:  #000000;\n",
       "        }    #T_723267d2_52b1_11ea_b119_3c6aa7272440row5_col15 {\n",
       "            background-color:  #fff7fb;\n",
       "            color:  #000000;\n",
       "        }    #T_723267d2_52b1_11ea_b119_3c6aa7272440row5_col16 {\n",
       "            background-color:  #fff7fb;\n",
       "            color:  #000000;\n",
       "        }    #T_723267d2_52b1_11ea_b119_3c6aa7272440row5_col17 {\n",
       "            background-color:  #fff7fb;\n",
       "            color:  #000000;\n",
       "        }    #T_723267d2_52b1_11ea_b119_3c6aa7272440row5_col18 {\n",
       "            background-color:  #fff7fb;\n",
       "            color:  #000000;\n",
       "        }    #T_723267d2_52b1_11ea_b119_3c6aa7272440row5_col19 {\n",
       "            background-color:  #fff7fb;\n",
       "            color:  #000000;\n",
       "        }    #T_723267d2_52b1_11ea_b119_3c6aa7272440row6_col0 {\n",
       "            background-color:  #fff7fb;\n",
       "            color:  #000000;\n",
       "        }    #T_723267d2_52b1_11ea_b119_3c6aa7272440row6_col1 {\n",
       "            background-color:  #fff7fb;\n",
       "            color:  #000000;\n",
       "        }    #T_723267d2_52b1_11ea_b119_3c6aa7272440row6_col2 {\n",
       "            background-color:  #fff7fb;\n",
       "            color:  #000000;\n",
       "        }    #T_723267d2_52b1_11ea_b119_3c6aa7272440row6_col3 {\n",
       "            background-color:  #fff7fb;\n",
       "            color:  #000000;\n",
       "        }    #T_723267d2_52b1_11ea_b119_3c6aa7272440row6_col4 {\n",
       "            background-color:  #fff7fb;\n",
       "            color:  #000000;\n",
       "        }    #T_723267d2_52b1_11ea_b119_3c6aa7272440row6_col5 {\n",
       "            background-color:  #d8d7e9;\n",
       "            color:  #000000;\n",
       "        }    #T_723267d2_52b1_11ea_b119_3c6aa7272440row6_col6 {\n",
       "            background-color:  #fdf5fa;\n",
       "            color:  #000000;\n",
       "        }    #T_723267d2_52b1_11ea_b119_3c6aa7272440row6_col7 {\n",
       "            background-color:  #fff7fb;\n",
       "            color:  #000000;\n",
       "        }    #T_723267d2_52b1_11ea_b119_3c6aa7272440row6_col8 {\n",
       "            background-color:  #fff7fb;\n",
       "            color:  #000000;\n",
       "        }    #T_723267d2_52b1_11ea_b119_3c6aa7272440row6_col9 {\n",
       "            background-color:  #03517e;\n",
       "            color:  #f1f1f1;\n",
       "        }    #T_723267d2_52b1_11ea_b119_3c6aa7272440row6_col10 {\n",
       "            background-color:  #fff7fb;\n",
       "            color:  #000000;\n",
       "        }    #T_723267d2_52b1_11ea_b119_3c6aa7272440row6_col11 {\n",
       "            background-color:  #fff7fb;\n",
       "            color:  #000000;\n",
       "        }    #T_723267d2_52b1_11ea_b119_3c6aa7272440row6_col12 {\n",
       "            background-color:  #fff7fb;\n",
       "            color:  #000000;\n",
       "        }    #T_723267d2_52b1_11ea_b119_3c6aa7272440row6_col13 {\n",
       "            background-color:  #fdf5fa;\n",
       "            color:  #000000;\n",
       "        }    #T_723267d2_52b1_11ea_b119_3c6aa7272440row6_col14 {\n",
       "            background-color:  #fff7fb;\n",
       "            color:  #000000;\n",
       "        }    #T_723267d2_52b1_11ea_b119_3c6aa7272440row6_col15 {\n",
       "            background-color:  #fff7fb;\n",
       "            color:  #000000;\n",
       "        }    #T_723267d2_52b1_11ea_b119_3c6aa7272440row6_col16 {\n",
       "            background-color:  #faf2f8;\n",
       "            color:  #000000;\n",
       "        }    #T_723267d2_52b1_11ea_b119_3c6aa7272440row6_col17 {\n",
       "            background-color:  #fdf5fa;\n",
       "            color:  #000000;\n",
       "        }    #T_723267d2_52b1_11ea_b119_3c6aa7272440row6_col18 {\n",
       "            background-color:  #fff7fb;\n",
       "            color:  #000000;\n",
       "        }    #T_723267d2_52b1_11ea_b119_3c6aa7272440row6_col19 {\n",
       "            background-color:  #fff7fb;\n",
       "            color:  #000000;\n",
       "        }    #T_723267d2_52b1_11ea_b119_3c6aa7272440row7_col0 {\n",
       "            background-color:  #fff7fb;\n",
       "            color:  #000000;\n",
       "        }    #T_723267d2_52b1_11ea_b119_3c6aa7272440row7_col1 {\n",
       "            background-color:  #fff7fb;\n",
       "            color:  #000000;\n",
       "        }    #T_723267d2_52b1_11ea_b119_3c6aa7272440row7_col2 {\n",
       "            background-color:  #fff7fb;\n",
       "            color:  #000000;\n",
       "        }    #T_723267d2_52b1_11ea_b119_3c6aa7272440row7_col3 {\n",
       "            background-color:  #03517e;\n",
       "            color:  #f1f1f1;\n",
       "        }    #T_723267d2_52b1_11ea_b119_3c6aa7272440row7_col4 {\n",
       "            background-color:  #fff7fb;\n",
       "            color:  #000000;\n",
       "        }    #T_723267d2_52b1_11ea_b119_3c6aa7272440row7_col5 {\n",
       "            background-color:  #fff7fb;\n",
       "            color:  #000000;\n",
       "        }    #T_723267d2_52b1_11ea_b119_3c6aa7272440row7_col6 {\n",
       "            background-color:  #fff7fb;\n",
       "            color:  #000000;\n",
       "        }    #T_723267d2_52b1_11ea_b119_3c6aa7272440row7_col7 {\n",
       "            background-color:  #fff7fb;\n",
       "            color:  #000000;\n",
       "        }    #T_723267d2_52b1_11ea_b119_3c6aa7272440row7_col8 {\n",
       "            background-color:  #fff7fb;\n",
       "            color:  #000000;\n",
       "        }    #T_723267d2_52b1_11ea_b119_3c6aa7272440row7_col9 {\n",
       "            background-color:  #fff7fb;\n",
       "            color:  #000000;\n",
       "        }    #T_723267d2_52b1_11ea_b119_3c6aa7272440row7_col10 {\n",
       "            background-color:  #fff7fb;\n",
       "            color:  #000000;\n",
       "        }    #T_723267d2_52b1_11ea_b119_3c6aa7272440row7_col11 {\n",
       "            background-color:  #fef6fa;\n",
       "            color:  #000000;\n",
       "        }    #T_723267d2_52b1_11ea_b119_3c6aa7272440row7_col12 {\n",
       "            background-color:  #fef6fa;\n",
       "            color:  #000000;\n",
       "        }    #T_723267d2_52b1_11ea_b119_3c6aa7272440row7_col13 {\n",
       "            background-color:  #fff7fb;\n",
       "            color:  #000000;\n",
       "        }    #T_723267d2_52b1_11ea_b119_3c6aa7272440row7_col14 {\n",
       "            background-color:  #fff7fb;\n",
       "            color:  #000000;\n",
       "        }    #T_723267d2_52b1_11ea_b119_3c6aa7272440row7_col15 {\n",
       "            background-color:  #fff7fb;\n",
       "            color:  #000000;\n",
       "        }    #T_723267d2_52b1_11ea_b119_3c6aa7272440row7_col16 {\n",
       "            background-color:  #fff7fb;\n",
       "            color:  #000000;\n",
       "        }    #T_723267d2_52b1_11ea_b119_3c6aa7272440row7_col17 {\n",
       "            background-color:  #fff7fb;\n",
       "            color:  #000000;\n",
       "        }    #T_723267d2_52b1_11ea_b119_3c6aa7272440row7_col18 {\n",
       "            background-color:  #fff7fb;\n",
       "            color:  #000000;\n",
       "        }    #T_723267d2_52b1_11ea_b119_3c6aa7272440row7_col19 {\n",
       "            background-color:  #fff7fb;\n",
       "            color:  #000000;\n",
       "        }    #T_723267d2_52b1_11ea_b119_3c6aa7272440row8_col0 {\n",
       "            background-color:  #fef6fa;\n",
       "            color:  #000000;\n",
       "        }    #T_723267d2_52b1_11ea_b119_3c6aa7272440row8_col1 {\n",
       "            background-color:  #fff7fb;\n",
       "            color:  #000000;\n",
       "        }    #T_723267d2_52b1_11ea_b119_3c6aa7272440row8_col2 {\n",
       "            background-color:  #fff7fb;\n",
       "            color:  #000000;\n",
       "        }    #T_723267d2_52b1_11ea_b119_3c6aa7272440row8_col3 {\n",
       "            background-color:  #fff7fb;\n",
       "            color:  #000000;\n",
       "        }    #T_723267d2_52b1_11ea_b119_3c6aa7272440row8_col4 {\n",
       "            background-color:  #fff7fb;\n",
       "            color:  #000000;\n",
       "        }    #T_723267d2_52b1_11ea_b119_3c6aa7272440row8_col5 {\n",
       "            background-color:  #fef6fa;\n",
       "            color:  #000000;\n",
       "        }    #T_723267d2_52b1_11ea_b119_3c6aa7272440row8_col6 {\n",
       "            background-color:  #fef6fa;\n",
       "            color:  #000000;\n",
       "        }    #T_723267d2_52b1_11ea_b119_3c6aa7272440row8_col7 {\n",
       "            background-color:  #fff7fb;\n",
       "            color:  #000000;\n",
       "        }    #T_723267d2_52b1_11ea_b119_3c6aa7272440row8_col8 {\n",
       "            background-color:  #fff7fb;\n",
       "            color:  #000000;\n",
       "        }    #T_723267d2_52b1_11ea_b119_3c6aa7272440row8_col9 {\n",
       "            background-color:  #eae6f1;\n",
       "            color:  #000000;\n",
       "        }    #T_723267d2_52b1_11ea_b119_3c6aa7272440row8_col10 {\n",
       "            background-color:  #fff7fb;\n",
       "            color:  #000000;\n",
       "        }    #T_723267d2_52b1_11ea_b119_3c6aa7272440row8_col11 {\n",
       "            background-color:  #fcf4fa;\n",
       "            color:  #000000;\n",
       "        }    #T_723267d2_52b1_11ea_b119_3c6aa7272440row8_col12 {\n",
       "            background-color:  #fff7fb;\n",
       "            color:  #000000;\n",
       "        }    #T_723267d2_52b1_11ea_b119_3c6aa7272440row8_col13 {\n",
       "            background-color:  #03517e;\n",
       "            color:  #f1f1f1;\n",
       "        }    #T_723267d2_52b1_11ea_b119_3c6aa7272440row8_col14 {\n",
       "            background-color:  #fff7fb;\n",
       "            color:  #000000;\n",
       "        }    #T_723267d2_52b1_11ea_b119_3c6aa7272440row8_col15 {\n",
       "            background-color:  #fff7fb;\n",
       "            color:  #000000;\n",
       "        }    #T_723267d2_52b1_11ea_b119_3c6aa7272440row8_col16 {\n",
       "            background-color:  #fff7fb;\n",
       "            color:  #000000;\n",
       "        }    #T_723267d2_52b1_11ea_b119_3c6aa7272440row8_col17 {\n",
       "            background-color:  #fef6fa;\n",
       "            color:  #000000;\n",
       "        }    #T_723267d2_52b1_11ea_b119_3c6aa7272440row8_col18 {\n",
       "            background-color:  #fff7fb;\n",
       "            color:  #000000;\n",
       "        }    #T_723267d2_52b1_11ea_b119_3c6aa7272440row8_col19 {\n",
       "            background-color:  #fff7fb;\n",
       "            color:  #000000;\n",
       "        }    #T_723267d2_52b1_11ea_b119_3c6aa7272440row9_col0 {\n",
       "            background-color:  #03517e;\n",
       "            color:  #f1f1f1;\n",
       "        }    #T_723267d2_52b1_11ea_b119_3c6aa7272440row9_col1 {\n",
       "            background-color:  #fff7fb;\n",
       "            color:  #000000;\n",
       "        }    #T_723267d2_52b1_11ea_b119_3c6aa7272440row9_col2 {\n",
       "            background-color:  #fef6fa;\n",
       "            color:  #000000;\n",
       "        }    #T_723267d2_52b1_11ea_b119_3c6aa7272440row9_col3 {\n",
       "            background-color:  #fff7fb;\n",
       "            color:  #000000;\n",
       "        }    #T_723267d2_52b1_11ea_b119_3c6aa7272440row9_col4 {\n",
       "            background-color:  #fff7fb;\n",
       "            color:  #000000;\n",
       "        }    #T_723267d2_52b1_11ea_b119_3c6aa7272440row9_col5 {\n",
       "            background-color:  #fff7fb;\n",
       "            color:  #000000;\n",
       "        }    #T_723267d2_52b1_11ea_b119_3c6aa7272440row9_col6 {\n",
       "            background-color:  #fff7fb;\n",
       "            color:  #000000;\n",
       "        }    #T_723267d2_52b1_11ea_b119_3c6aa7272440row9_col7 {\n",
       "            background-color:  #fef6fa;\n",
       "            color:  #000000;\n",
       "        }    #T_723267d2_52b1_11ea_b119_3c6aa7272440row9_col8 {\n",
       "            background-color:  #fff7fb;\n",
       "            color:  #000000;\n",
       "        }    #T_723267d2_52b1_11ea_b119_3c6aa7272440row9_col9 {\n",
       "            background-color:  #fcf4fa;\n",
       "            color:  #000000;\n",
       "        }    #T_723267d2_52b1_11ea_b119_3c6aa7272440row9_col10 {\n",
       "            background-color:  #fff7fb;\n",
       "            color:  #000000;\n",
       "        }    #T_723267d2_52b1_11ea_b119_3c6aa7272440row9_col11 {\n",
       "            background-color:  #fcf4fa;\n",
       "            color:  #000000;\n",
       "        }    #T_723267d2_52b1_11ea_b119_3c6aa7272440row9_col12 {\n",
       "            background-color:  #fff7fb;\n",
       "            color:  #000000;\n",
       "        }    #T_723267d2_52b1_11ea_b119_3c6aa7272440row9_col13 {\n",
       "            background-color:  #fef6fa;\n",
       "            color:  #000000;\n",
       "        }    #T_723267d2_52b1_11ea_b119_3c6aa7272440row9_col14 {\n",
       "            background-color:  #fff7fb;\n",
       "            color:  #000000;\n",
       "        }    #T_723267d2_52b1_11ea_b119_3c6aa7272440row9_col15 {\n",
       "            background-color:  #fff7fb;\n",
       "            color:  #000000;\n",
       "        }    #T_723267d2_52b1_11ea_b119_3c6aa7272440row9_col16 {\n",
       "            background-color:  #fff7fb;\n",
       "            color:  #000000;\n",
       "        }    #T_723267d2_52b1_11ea_b119_3c6aa7272440row9_col17 {\n",
       "            background-color:  #fef6fa;\n",
       "            color:  #000000;\n",
       "        }    #T_723267d2_52b1_11ea_b119_3c6aa7272440row9_col18 {\n",
       "            background-color:  #fcf4fa;\n",
       "            color:  #000000;\n",
       "        }    #T_723267d2_52b1_11ea_b119_3c6aa7272440row9_col19 {\n",
       "            background-color:  #fef6fa;\n",
       "            color:  #000000;\n",
       "        }</style><table id=\"T_723267d2_52b1_11ea_b119_3c6aa7272440\" ><thead>    <tr>        <th class=\"blank level0\" ></th>        <th class=\"col_heading level0 col0\" >(1,)</th>    </tr></thead><tbody>\n",
       "                <tr>\n",
       "                        <th id=\"T_723267d2_52b1_11ea_b119_3c6aa7272440level0_row0\" class=\"row_heading level0 row0\" >0</th>\n",
       "                        <td id=\"T_723267d2_52b1_11ea_b119_3c6aa7272440row0_col0\" class=\"data row0 col0\" >0</td>\n",
       "                        <td id=\"T_723267d2_52b1_11ea_b119_3c6aa7272440row0_col1\" class=\"data row0 col1\" >0</td>\n",
       "                        <td id=\"T_723267d2_52b1_11ea_b119_3c6aa7272440row0_col2\" class=\"data row0 col2\" >0.01</td>\n",
       "                        <td id=\"T_723267d2_52b1_11ea_b119_3c6aa7272440row0_col3\" class=\"data row0 col3\" >0</td>\n",
       "                        <td id=\"T_723267d2_52b1_11ea_b119_3c6aa7272440row0_col4\" class=\"data row0 col4\" >0</td>\n",
       "                        <td id=\"T_723267d2_52b1_11ea_b119_3c6aa7272440row0_col5\" class=\"data row0 col5\" >0</td>\n",
       "                        <td id=\"T_723267d2_52b1_11ea_b119_3c6aa7272440row0_col6\" class=\"data row0 col6\" >0</td>\n",
       "                        <td id=\"T_723267d2_52b1_11ea_b119_3c6aa7272440row0_col7\" class=\"data row0 col7\" >0</td>\n",
       "                        <td id=\"T_723267d2_52b1_11ea_b119_3c6aa7272440row0_col8\" class=\"data row0 col8\" >0</td>\n",
       "                        <td id=\"T_723267d2_52b1_11ea_b119_3c6aa7272440row0_col9\" class=\"data row0 col9\" >0</td>\n",
       "                        <td id=\"T_723267d2_52b1_11ea_b119_3c6aa7272440row0_col10\" class=\"data row0 col10\" >0</td>\n",
       "                        <td id=\"T_723267d2_52b1_11ea_b119_3c6aa7272440row0_col11\" class=\"data row0 col11\" >0</td>\n",
       "                        <td id=\"T_723267d2_52b1_11ea_b119_3c6aa7272440row0_col12\" class=\"data row0 col12\" >0</td>\n",
       "                        <td id=\"T_723267d2_52b1_11ea_b119_3c6aa7272440row0_col13\" class=\"data row0 col13\" >0.99</td>\n",
       "                        <td id=\"T_723267d2_52b1_11ea_b119_3c6aa7272440row0_col14\" class=\"data row0 col14\" >0</td>\n",
       "                        <td id=\"T_723267d2_52b1_11ea_b119_3c6aa7272440row0_col15\" class=\"data row0 col15\" >0</td>\n",
       "                        <td id=\"T_723267d2_52b1_11ea_b119_3c6aa7272440row0_col16\" class=\"data row0 col16\" >0</td>\n",
       "                        <td id=\"T_723267d2_52b1_11ea_b119_3c6aa7272440row0_col17\" class=\"data row0 col17\" >0</td>\n",
       "                        <td id=\"T_723267d2_52b1_11ea_b119_3c6aa7272440row0_col18\" class=\"data row0 col18\" >0</td>\n",
       "                        <td id=\"T_723267d2_52b1_11ea_b119_3c6aa7272440row0_col19\" class=\"data row0 col19\" >0</td>\n",
       "            </tr>\n",
       "            <tr>\n",
       "                        <th id=\"T_723267d2_52b1_11ea_b119_3c6aa7272440level0_row1\" class=\"row_heading level0 row1\" >1</th>\n",
       "                        <td id=\"T_723267d2_52b1_11ea_b119_3c6aa7272440row1_col0\" class=\"data row1 col0\" >0</td>\n",
       "                        <td id=\"T_723267d2_52b1_11ea_b119_3c6aa7272440row1_col1\" class=\"data row1 col1\" >0</td>\n",
       "                        <td id=\"T_723267d2_52b1_11ea_b119_3c6aa7272440row1_col2\" class=\"data row1 col2\" >0.01</td>\n",
       "                        <td id=\"T_723267d2_52b1_11ea_b119_3c6aa7272440row1_col3\" class=\"data row1 col3\" >0</td>\n",
       "                        <td id=\"T_723267d2_52b1_11ea_b119_3c6aa7272440row1_col4\" class=\"data row1 col4\" >0</td>\n",
       "                        <td id=\"T_723267d2_52b1_11ea_b119_3c6aa7272440row1_col5\" class=\"data row1 col5\" >0</td>\n",
       "                        <td id=\"T_723267d2_52b1_11ea_b119_3c6aa7272440row1_col6\" class=\"data row1 col6\" >0</td>\n",
       "                        <td id=\"T_723267d2_52b1_11ea_b119_3c6aa7272440row1_col7\" class=\"data row1 col7\" >0</td>\n",
       "                        <td id=\"T_723267d2_52b1_11ea_b119_3c6aa7272440row1_col8\" class=\"data row1 col8\" >0</td>\n",
       "                        <td id=\"T_723267d2_52b1_11ea_b119_3c6aa7272440row1_col9\" class=\"data row1 col9\" >0</td>\n",
       "                        <td id=\"T_723267d2_52b1_11ea_b119_3c6aa7272440row1_col10\" class=\"data row1 col10\" >0</td>\n",
       "                        <td id=\"T_723267d2_52b1_11ea_b119_3c6aa7272440row1_col11\" class=\"data row1 col11\" >0</td>\n",
       "                        <td id=\"T_723267d2_52b1_11ea_b119_3c6aa7272440row1_col12\" class=\"data row1 col12\" >0</td>\n",
       "                        <td id=\"T_723267d2_52b1_11ea_b119_3c6aa7272440row1_col13\" class=\"data row1 col13\" >0.96</td>\n",
       "                        <td id=\"T_723267d2_52b1_11ea_b119_3c6aa7272440row1_col14\" class=\"data row1 col14\" >0</td>\n",
       "                        <td id=\"T_723267d2_52b1_11ea_b119_3c6aa7272440row1_col15\" class=\"data row1 col15\" >0</td>\n",
       "                        <td id=\"T_723267d2_52b1_11ea_b119_3c6aa7272440row1_col16\" class=\"data row1 col16\" >0.01</td>\n",
       "                        <td id=\"T_723267d2_52b1_11ea_b119_3c6aa7272440row1_col17\" class=\"data row1 col17\" >0</td>\n",
       "                        <td id=\"T_723267d2_52b1_11ea_b119_3c6aa7272440row1_col18\" class=\"data row1 col18\" >0</td>\n",
       "                        <td id=\"T_723267d2_52b1_11ea_b119_3c6aa7272440row1_col19\" class=\"data row1 col19\" >0.01</td>\n",
       "            </tr>\n",
       "            <tr>\n",
       "                        <th id=\"T_723267d2_52b1_11ea_b119_3c6aa7272440level0_row2\" class=\"row_heading level0 row2\" >2</th>\n",
       "                        <td id=\"T_723267d2_52b1_11ea_b119_3c6aa7272440row2_col0\" class=\"data row2 col0\" >0.01</td>\n",
       "                        <td id=\"T_723267d2_52b1_11ea_b119_3c6aa7272440row2_col1\" class=\"data row2 col1\" >0.01</td>\n",
       "                        <td id=\"T_723267d2_52b1_11ea_b119_3c6aa7272440row2_col2\" class=\"data row2 col2\" >0.01</td>\n",
       "                        <td id=\"T_723267d2_52b1_11ea_b119_3c6aa7272440row2_col3\" class=\"data row2 col3\" >0.01</td>\n",
       "                        <td id=\"T_723267d2_52b1_11ea_b119_3c6aa7272440row2_col4\" class=\"data row2 col4\" >0.01</td>\n",
       "                        <td id=\"T_723267d2_52b1_11ea_b119_3c6aa7272440row2_col5\" class=\"data row2 col5\" >0.01</td>\n",
       "                        <td id=\"T_723267d2_52b1_11ea_b119_3c6aa7272440row2_col6\" class=\"data row2 col6\" >0.13</td>\n",
       "                        <td id=\"T_723267d2_52b1_11ea_b119_3c6aa7272440row2_col7\" class=\"data row2 col7\" >0.64</td>\n",
       "                        <td id=\"T_723267d2_52b1_11ea_b119_3c6aa7272440row2_col8\" class=\"data row2 col8\" >0</td>\n",
       "                        <td id=\"T_723267d2_52b1_11ea_b119_3c6aa7272440row2_col9\" class=\"data row2 col9\" >0.11</td>\n",
       "                        <td id=\"T_723267d2_52b1_11ea_b119_3c6aa7272440row2_col10\" class=\"data row2 col10\" >0</td>\n",
       "                        <td id=\"T_723267d2_52b1_11ea_b119_3c6aa7272440row2_col11\" class=\"data row2 col11\" >0.01</td>\n",
       "                        <td id=\"T_723267d2_52b1_11ea_b119_3c6aa7272440row2_col12\" class=\"data row2 col12\" >0.01</td>\n",
       "                        <td id=\"T_723267d2_52b1_11ea_b119_3c6aa7272440row2_col13\" class=\"data row2 col13\" >0.01</td>\n",
       "                        <td id=\"T_723267d2_52b1_11ea_b119_3c6aa7272440row2_col14\" class=\"data row2 col14\" >0</td>\n",
       "                        <td id=\"T_723267d2_52b1_11ea_b119_3c6aa7272440row2_col15\" class=\"data row2 col15\" >0.02</td>\n",
       "                        <td id=\"T_723267d2_52b1_11ea_b119_3c6aa7272440row2_col16\" class=\"data row2 col16\" >0.01</td>\n",
       "                        <td id=\"T_723267d2_52b1_11ea_b119_3c6aa7272440row2_col17\" class=\"data row2 col17\" >0.01</td>\n",
       "                        <td id=\"T_723267d2_52b1_11ea_b119_3c6aa7272440row2_col18\" class=\"data row2 col18\" >0</td>\n",
       "                        <td id=\"T_723267d2_52b1_11ea_b119_3c6aa7272440row2_col19\" class=\"data row2 col19\" >0</td>\n",
       "            </tr>\n",
       "            <tr>\n",
       "                        <th id=\"T_723267d2_52b1_11ea_b119_3c6aa7272440level0_row3\" class=\"row_heading level0 row3\" >3</th>\n",
       "                        <td id=\"T_723267d2_52b1_11ea_b119_3c6aa7272440row3_col0\" class=\"data row3 col0\" >0.03</td>\n",
       "                        <td id=\"T_723267d2_52b1_11ea_b119_3c6aa7272440row3_col1\" class=\"data row3 col1\" >0</td>\n",
       "                        <td id=\"T_723267d2_52b1_11ea_b119_3c6aa7272440row3_col2\" class=\"data row3 col2\" >0</td>\n",
       "                        <td id=\"T_723267d2_52b1_11ea_b119_3c6aa7272440row3_col3\" class=\"data row3 col3\" >0</td>\n",
       "                        <td id=\"T_723267d2_52b1_11ea_b119_3c6aa7272440row3_col4\" class=\"data row3 col4\" >0</td>\n",
       "                        <td id=\"T_723267d2_52b1_11ea_b119_3c6aa7272440row3_col5\" class=\"data row3 col5\" >0</td>\n",
       "                        <td id=\"T_723267d2_52b1_11ea_b119_3c6aa7272440row3_col6\" class=\"data row3 col6\" >0</td>\n",
       "                        <td id=\"T_723267d2_52b1_11ea_b119_3c6aa7272440row3_col7\" class=\"data row3 col7\" >0</td>\n",
       "                        <td id=\"T_723267d2_52b1_11ea_b119_3c6aa7272440row3_col8\" class=\"data row3 col8\" >0.01</td>\n",
       "                        <td id=\"T_723267d2_52b1_11ea_b119_3c6aa7272440row3_col9\" class=\"data row3 col9\" >0.02</td>\n",
       "                        <td id=\"T_723267d2_52b1_11ea_b119_3c6aa7272440row3_col10\" class=\"data row3 col10\" >0.02</td>\n",
       "                        <td id=\"T_723267d2_52b1_11ea_b119_3c6aa7272440row3_col11\" class=\"data row3 col11\" >0</td>\n",
       "                        <td id=\"T_723267d2_52b1_11ea_b119_3c6aa7272440row3_col12\" class=\"data row3 col12\" >0</td>\n",
       "                        <td id=\"T_723267d2_52b1_11ea_b119_3c6aa7272440row3_col13\" class=\"data row3 col13\" >0</td>\n",
       "                        <td id=\"T_723267d2_52b1_11ea_b119_3c6aa7272440row3_col14\" class=\"data row3 col14\" >0</td>\n",
       "                        <td id=\"T_723267d2_52b1_11ea_b119_3c6aa7272440row3_col15\" class=\"data row3 col15\" >0</td>\n",
       "                        <td id=\"T_723267d2_52b1_11ea_b119_3c6aa7272440row3_col16\" class=\"data row3 col16\" >0.88</td>\n",
       "                        <td id=\"T_723267d2_52b1_11ea_b119_3c6aa7272440row3_col17\" class=\"data row3 col17\" >0.02</td>\n",
       "                        <td id=\"T_723267d2_52b1_11ea_b119_3c6aa7272440row3_col18\" class=\"data row3 col18\" >0</td>\n",
       "                        <td id=\"T_723267d2_52b1_11ea_b119_3c6aa7272440row3_col19\" class=\"data row3 col19\" >0</td>\n",
       "            </tr>\n",
       "            <tr>\n",
       "                        <th id=\"T_723267d2_52b1_11ea_b119_3c6aa7272440level0_row4\" class=\"row_heading level0 row4\" >4</th>\n",
       "                        <td id=\"T_723267d2_52b1_11ea_b119_3c6aa7272440row4_col0\" class=\"data row4 col0\" >0</td>\n",
       "                        <td id=\"T_723267d2_52b1_11ea_b119_3c6aa7272440row4_col1\" class=\"data row4 col1\" >0</td>\n",
       "                        <td id=\"T_723267d2_52b1_11ea_b119_3c6aa7272440row4_col2\" class=\"data row4 col2\" >0</td>\n",
       "                        <td id=\"T_723267d2_52b1_11ea_b119_3c6aa7272440row4_col3\" class=\"data row4 col3\" >0.01</td>\n",
       "                        <td id=\"T_723267d2_52b1_11ea_b119_3c6aa7272440row4_col4\" class=\"data row4 col4\" >0</td>\n",
       "                        <td id=\"T_723267d2_52b1_11ea_b119_3c6aa7272440row4_col5\" class=\"data row4 col5\" >0</td>\n",
       "                        <td id=\"T_723267d2_52b1_11ea_b119_3c6aa7272440row4_col6\" class=\"data row4 col6\" >0</td>\n",
       "                        <td id=\"T_723267d2_52b1_11ea_b119_3c6aa7272440row4_col7\" class=\"data row4 col7\" >0</td>\n",
       "                        <td id=\"T_723267d2_52b1_11ea_b119_3c6aa7272440row4_col8\" class=\"data row4 col8\" >0</td>\n",
       "                        <td id=\"T_723267d2_52b1_11ea_b119_3c6aa7272440row4_col9\" class=\"data row4 col9\" >0</td>\n",
       "                        <td id=\"T_723267d2_52b1_11ea_b119_3c6aa7272440row4_col10\" class=\"data row4 col10\" >0</td>\n",
       "                        <td id=\"T_723267d2_52b1_11ea_b119_3c6aa7272440row4_col11\" class=\"data row4 col11\" >0.97</td>\n",
       "                        <td id=\"T_723267d2_52b1_11ea_b119_3c6aa7272440row4_col12\" class=\"data row4 col12\" >0</td>\n",
       "                        <td id=\"T_723267d2_52b1_11ea_b119_3c6aa7272440row4_col13\" class=\"data row4 col13\" >0</td>\n",
       "                        <td id=\"T_723267d2_52b1_11ea_b119_3c6aa7272440row4_col14\" class=\"data row4 col14\" >0</td>\n",
       "                        <td id=\"T_723267d2_52b1_11ea_b119_3c6aa7272440row4_col15\" class=\"data row4 col15\" >0</td>\n",
       "                        <td id=\"T_723267d2_52b1_11ea_b119_3c6aa7272440row4_col16\" class=\"data row4 col16\" >0</td>\n",
       "                        <td id=\"T_723267d2_52b1_11ea_b119_3c6aa7272440row4_col17\" class=\"data row4 col17\" >0</td>\n",
       "                        <td id=\"T_723267d2_52b1_11ea_b119_3c6aa7272440row4_col18\" class=\"data row4 col18\" >0</td>\n",
       "                        <td id=\"T_723267d2_52b1_11ea_b119_3c6aa7272440row4_col19\" class=\"data row4 col19\" >0</td>\n",
       "            </tr>\n",
       "            <tr>\n",
       "                        <th id=\"T_723267d2_52b1_11ea_b119_3c6aa7272440level0_row5\" class=\"row_heading level0 row5\" >5</th>\n",
       "                        <td id=\"T_723267d2_52b1_11ea_b119_3c6aa7272440row5_col0\" class=\"data row5 col0\" >0</td>\n",
       "                        <td id=\"T_723267d2_52b1_11ea_b119_3c6aa7272440row5_col1\" class=\"data row5 col1\" >0</td>\n",
       "                        <td id=\"T_723267d2_52b1_11ea_b119_3c6aa7272440row5_col2\" class=\"data row5 col2\" >0</td>\n",
       "                        <td id=\"T_723267d2_52b1_11ea_b119_3c6aa7272440row5_col3\" class=\"data row5 col3\" >0</td>\n",
       "                        <td id=\"T_723267d2_52b1_11ea_b119_3c6aa7272440row5_col4\" class=\"data row5 col4\" >0</td>\n",
       "                        <td id=\"T_723267d2_52b1_11ea_b119_3c6aa7272440row5_col5\" class=\"data row5 col5\" >0</td>\n",
       "                        <td id=\"T_723267d2_52b1_11ea_b119_3c6aa7272440row5_col6\" class=\"data row5 col6\" >0</td>\n",
       "                        <td id=\"T_723267d2_52b1_11ea_b119_3c6aa7272440row5_col7\" class=\"data row5 col7\" >0</td>\n",
       "                        <td id=\"T_723267d2_52b1_11ea_b119_3c6aa7272440row5_col8\" class=\"data row5 col8\" >0</td>\n",
       "                        <td id=\"T_723267d2_52b1_11ea_b119_3c6aa7272440row5_col9\" class=\"data row5 col9\" >0</td>\n",
       "                        <td id=\"T_723267d2_52b1_11ea_b119_3c6aa7272440row5_col10\" class=\"data row5 col10\" >0</td>\n",
       "                        <td id=\"T_723267d2_52b1_11ea_b119_3c6aa7272440row5_col11\" class=\"data row5 col11\" >0</td>\n",
       "                        <td id=\"T_723267d2_52b1_11ea_b119_3c6aa7272440row5_col12\" class=\"data row5 col12\" >0</td>\n",
       "                        <td id=\"T_723267d2_52b1_11ea_b119_3c6aa7272440row5_col13\" class=\"data row5 col13\" >0.99</td>\n",
       "                        <td id=\"T_723267d2_52b1_11ea_b119_3c6aa7272440row5_col14\" class=\"data row5 col14\" >0</td>\n",
       "                        <td id=\"T_723267d2_52b1_11ea_b119_3c6aa7272440row5_col15\" class=\"data row5 col15\" >0</td>\n",
       "                        <td id=\"T_723267d2_52b1_11ea_b119_3c6aa7272440row5_col16\" class=\"data row5 col16\" >0</td>\n",
       "                        <td id=\"T_723267d2_52b1_11ea_b119_3c6aa7272440row5_col17\" class=\"data row5 col17\" >0</td>\n",
       "                        <td id=\"T_723267d2_52b1_11ea_b119_3c6aa7272440row5_col18\" class=\"data row5 col18\" >0</td>\n",
       "                        <td id=\"T_723267d2_52b1_11ea_b119_3c6aa7272440row5_col19\" class=\"data row5 col19\" >0</td>\n",
       "            </tr>\n",
       "            <tr>\n",
       "                        <th id=\"T_723267d2_52b1_11ea_b119_3c6aa7272440level0_row6\" class=\"row_heading level0 row6\" >6</th>\n",
       "                        <td id=\"T_723267d2_52b1_11ea_b119_3c6aa7272440row6_col0\" class=\"data row6 col0\" >0</td>\n",
       "                        <td id=\"T_723267d2_52b1_11ea_b119_3c6aa7272440row6_col1\" class=\"data row6 col1\" >0</td>\n",
       "                        <td id=\"T_723267d2_52b1_11ea_b119_3c6aa7272440row6_col2\" class=\"data row6 col2\" >0</td>\n",
       "                        <td id=\"T_723267d2_52b1_11ea_b119_3c6aa7272440row6_col3\" class=\"data row6 col3\" >0</td>\n",
       "                        <td id=\"T_723267d2_52b1_11ea_b119_3c6aa7272440row6_col4\" class=\"data row6 col4\" >0</td>\n",
       "                        <td id=\"T_723267d2_52b1_11ea_b119_3c6aa7272440row6_col5\" class=\"data row6 col5\" >0.18</td>\n",
       "                        <td id=\"T_723267d2_52b1_11ea_b119_3c6aa7272440row6_col6\" class=\"data row6 col6\" >0.01</td>\n",
       "                        <td id=\"T_723267d2_52b1_11ea_b119_3c6aa7272440row6_col7\" class=\"data row6 col7\" >0</td>\n",
       "                        <td id=\"T_723267d2_52b1_11ea_b119_3c6aa7272440row6_col8\" class=\"data row6 col8\" >0</td>\n",
       "                        <td id=\"T_723267d2_52b1_11ea_b119_3c6aa7272440row6_col9\" class=\"data row6 col9\" >0.76</td>\n",
       "                        <td id=\"T_723267d2_52b1_11ea_b119_3c6aa7272440row6_col10\" class=\"data row6 col10\" >0</td>\n",
       "                        <td id=\"T_723267d2_52b1_11ea_b119_3c6aa7272440row6_col11\" class=\"data row6 col11\" >0</td>\n",
       "                        <td id=\"T_723267d2_52b1_11ea_b119_3c6aa7272440row6_col12\" class=\"data row6 col12\" >0</td>\n",
       "                        <td id=\"T_723267d2_52b1_11ea_b119_3c6aa7272440row6_col13\" class=\"data row6 col13\" >0.01</td>\n",
       "                        <td id=\"T_723267d2_52b1_11ea_b119_3c6aa7272440row6_col14\" class=\"data row6 col14\" >0</td>\n",
       "                        <td id=\"T_723267d2_52b1_11ea_b119_3c6aa7272440row6_col15\" class=\"data row6 col15\" >0</td>\n",
       "                        <td id=\"T_723267d2_52b1_11ea_b119_3c6aa7272440row6_col16\" class=\"data row6 col16\" >0.03</td>\n",
       "                        <td id=\"T_723267d2_52b1_11ea_b119_3c6aa7272440row6_col17\" class=\"data row6 col17\" >0.01</td>\n",
       "                        <td id=\"T_723267d2_52b1_11ea_b119_3c6aa7272440row6_col18\" class=\"data row6 col18\" >0</td>\n",
       "                        <td id=\"T_723267d2_52b1_11ea_b119_3c6aa7272440row6_col19\" class=\"data row6 col19\" >0</td>\n",
       "            </tr>\n",
       "            <tr>\n",
       "                        <th id=\"T_723267d2_52b1_11ea_b119_3c6aa7272440level0_row7\" class=\"row_heading level0 row7\" >7</th>\n",
       "                        <td id=\"T_723267d2_52b1_11ea_b119_3c6aa7272440row7_col0\" class=\"data row7 col0\" >0</td>\n",
       "                        <td id=\"T_723267d2_52b1_11ea_b119_3c6aa7272440row7_col1\" class=\"data row7 col1\" >0</td>\n",
       "                        <td id=\"T_723267d2_52b1_11ea_b119_3c6aa7272440row7_col2\" class=\"data row7 col2\" >0</td>\n",
       "                        <td id=\"T_723267d2_52b1_11ea_b119_3c6aa7272440row7_col3\" class=\"data row7 col3\" >0.97</td>\n",
       "                        <td id=\"T_723267d2_52b1_11ea_b119_3c6aa7272440row7_col4\" class=\"data row7 col4\" >0</td>\n",
       "                        <td id=\"T_723267d2_52b1_11ea_b119_3c6aa7272440row7_col5\" class=\"data row7 col5\" >0</td>\n",
       "                        <td id=\"T_723267d2_52b1_11ea_b119_3c6aa7272440row7_col6\" class=\"data row7 col6\" >0</td>\n",
       "                        <td id=\"T_723267d2_52b1_11ea_b119_3c6aa7272440row7_col7\" class=\"data row7 col7\" >0</td>\n",
       "                        <td id=\"T_723267d2_52b1_11ea_b119_3c6aa7272440row7_col8\" class=\"data row7 col8\" >0</td>\n",
       "                        <td id=\"T_723267d2_52b1_11ea_b119_3c6aa7272440row7_col9\" class=\"data row7 col9\" >0</td>\n",
       "                        <td id=\"T_723267d2_52b1_11ea_b119_3c6aa7272440row7_col10\" class=\"data row7 col10\" >0</td>\n",
       "                        <td id=\"T_723267d2_52b1_11ea_b119_3c6aa7272440row7_col11\" class=\"data row7 col11\" >0.01</td>\n",
       "                        <td id=\"T_723267d2_52b1_11ea_b119_3c6aa7272440row7_col12\" class=\"data row7 col12\" >0.01</td>\n",
       "                        <td id=\"T_723267d2_52b1_11ea_b119_3c6aa7272440row7_col13\" class=\"data row7 col13\" >0</td>\n",
       "                        <td id=\"T_723267d2_52b1_11ea_b119_3c6aa7272440row7_col14\" class=\"data row7 col14\" >0</td>\n",
       "                        <td id=\"T_723267d2_52b1_11ea_b119_3c6aa7272440row7_col15\" class=\"data row7 col15\" >0</td>\n",
       "                        <td id=\"T_723267d2_52b1_11ea_b119_3c6aa7272440row7_col16\" class=\"data row7 col16\" >0</td>\n",
       "                        <td id=\"T_723267d2_52b1_11ea_b119_3c6aa7272440row7_col17\" class=\"data row7 col17\" >0</td>\n",
       "                        <td id=\"T_723267d2_52b1_11ea_b119_3c6aa7272440row7_col18\" class=\"data row7 col18\" >0</td>\n",
       "                        <td id=\"T_723267d2_52b1_11ea_b119_3c6aa7272440row7_col19\" class=\"data row7 col19\" >0</td>\n",
       "            </tr>\n",
       "            <tr>\n",
       "                        <th id=\"T_723267d2_52b1_11ea_b119_3c6aa7272440level0_row8\" class=\"row_heading level0 row8\" >8</th>\n",
       "                        <td id=\"T_723267d2_52b1_11ea_b119_3c6aa7272440row8_col0\" class=\"data row8 col0\" >0.01</td>\n",
       "                        <td id=\"T_723267d2_52b1_11ea_b119_3c6aa7272440row8_col1\" class=\"data row8 col1\" >0</td>\n",
       "                        <td id=\"T_723267d2_52b1_11ea_b119_3c6aa7272440row8_col2\" class=\"data row8 col2\" >0</td>\n",
       "                        <td id=\"T_723267d2_52b1_11ea_b119_3c6aa7272440row8_col3\" class=\"data row8 col3\" >0</td>\n",
       "                        <td id=\"T_723267d2_52b1_11ea_b119_3c6aa7272440row8_col4\" class=\"data row8 col4\" >0</td>\n",
       "                        <td id=\"T_723267d2_52b1_11ea_b119_3c6aa7272440row8_col5\" class=\"data row8 col5\" >0.01</td>\n",
       "                        <td id=\"T_723267d2_52b1_11ea_b119_3c6aa7272440row8_col6\" class=\"data row8 col6\" >0.01</td>\n",
       "                        <td id=\"T_723267d2_52b1_11ea_b119_3c6aa7272440row8_col7\" class=\"data row8 col7\" >0</td>\n",
       "                        <td id=\"T_723267d2_52b1_11ea_b119_3c6aa7272440row8_col8\" class=\"data row8 col8\" >0</td>\n",
       "                        <td id=\"T_723267d2_52b1_11ea_b119_3c6aa7272440row8_col9\" class=\"data row8 col9\" >0.12</td>\n",
       "                        <td id=\"T_723267d2_52b1_11ea_b119_3c6aa7272440row8_col10\" class=\"data row8 col10\" >0</td>\n",
       "                        <td id=\"T_723267d2_52b1_11ea_b119_3c6aa7272440row8_col11\" class=\"data row8 col11\" >0.02</td>\n",
       "                        <td id=\"T_723267d2_52b1_11ea_b119_3c6aa7272440row8_col12\" class=\"data row8 col12\" >0</td>\n",
       "                        <td id=\"T_723267d2_52b1_11ea_b119_3c6aa7272440row8_col13\" class=\"data row8 col13\" >0.8</td>\n",
       "                        <td id=\"T_723267d2_52b1_11ea_b119_3c6aa7272440row8_col14\" class=\"data row8 col14\" >0</td>\n",
       "                        <td id=\"T_723267d2_52b1_11ea_b119_3c6aa7272440row8_col15\" class=\"data row8 col15\" >0</td>\n",
       "                        <td id=\"T_723267d2_52b1_11ea_b119_3c6aa7272440row8_col16\" class=\"data row8 col16\" >0</td>\n",
       "                        <td id=\"T_723267d2_52b1_11ea_b119_3c6aa7272440row8_col17\" class=\"data row8 col17\" >0.01</td>\n",
       "                        <td id=\"T_723267d2_52b1_11ea_b119_3c6aa7272440row8_col18\" class=\"data row8 col18\" >0</td>\n",
       "                        <td id=\"T_723267d2_52b1_11ea_b119_3c6aa7272440row8_col19\" class=\"data row8 col19\" >0</td>\n",
       "            </tr>\n",
       "            <tr>\n",
       "                        <th id=\"T_723267d2_52b1_11ea_b119_3c6aa7272440level0_row9\" class=\"row_heading level0 row9\" >9</th>\n",
       "                        <td id=\"T_723267d2_52b1_11ea_b119_3c6aa7272440row9_col0\" class=\"data row9 col0\" >0.88</td>\n",
       "                        <td id=\"T_723267d2_52b1_11ea_b119_3c6aa7272440row9_col1\" class=\"data row9 col1\" >0</td>\n",
       "                        <td id=\"T_723267d2_52b1_11ea_b119_3c6aa7272440row9_col2\" class=\"data row9 col2\" >0.01</td>\n",
       "                        <td id=\"T_723267d2_52b1_11ea_b119_3c6aa7272440row9_col3\" class=\"data row9 col3\" >0</td>\n",
       "                        <td id=\"T_723267d2_52b1_11ea_b119_3c6aa7272440row9_col4\" class=\"data row9 col4\" >0</td>\n",
       "                        <td id=\"T_723267d2_52b1_11ea_b119_3c6aa7272440row9_col5\" class=\"data row9 col5\" >0</td>\n",
       "                        <td id=\"T_723267d2_52b1_11ea_b119_3c6aa7272440row9_col6\" class=\"data row9 col6\" >0</td>\n",
       "                        <td id=\"T_723267d2_52b1_11ea_b119_3c6aa7272440row9_col7\" class=\"data row9 col7\" >0.01</td>\n",
       "                        <td id=\"T_723267d2_52b1_11ea_b119_3c6aa7272440row9_col8\" class=\"data row9 col8\" >0</td>\n",
       "                        <td id=\"T_723267d2_52b1_11ea_b119_3c6aa7272440row9_col9\" class=\"data row9 col9\" >0.02</td>\n",
       "                        <td id=\"T_723267d2_52b1_11ea_b119_3c6aa7272440row9_col10\" class=\"data row9 col10\" >0</td>\n",
       "                        <td id=\"T_723267d2_52b1_11ea_b119_3c6aa7272440row9_col11\" class=\"data row9 col11\" >0.02</td>\n",
       "                        <td id=\"T_723267d2_52b1_11ea_b119_3c6aa7272440row9_col12\" class=\"data row9 col12\" >0</td>\n",
       "                        <td id=\"T_723267d2_52b1_11ea_b119_3c6aa7272440row9_col13\" class=\"data row9 col13\" >0.01</td>\n",
       "                        <td id=\"T_723267d2_52b1_11ea_b119_3c6aa7272440row9_col14\" class=\"data row9 col14\" >0</td>\n",
       "                        <td id=\"T_723267d2_52b1_11ea_b119_3c6aa7272440row9_col15\" class=\"data row9 col15\" >0</td>\n",
       "                        <td id=\"T_723267d2_52b1_11ea_b119_3c6aa7272440row9_col16\" class=\"data row9 col16\" >0</td>\n",
       "                        <td id=\"T_723267d2_52b1_11ea_b119_3c6aa7272440row9_col17\" class=\"data row9 col17\" >0.01</td>\n",
       "                        <td id=\"T_723267d2_52b1_11ea_b119_3c6aa7272440row9_col18\" class=\"data row9 col18\" >0.02</td>\n",
       "                        <td id=\"T_723267d2_52b1_11ea_b119_3c6aa7272440row9_col19\" class=\"data row9 col19\" >0.01</td>\n",
       "            </tr>\n",
       "    </tbody></table>"
      ],
      "text/plain": [
       "<pandas.io.formats.style.Styler at 0x1998cd5e908>"
      ]
     },
     "execution_count": 113,
     "metadata": {},
     "output_type": "execute_result"
    }
   ],
   "source": [
    "predict_prob_df[:10].style.background_gradient(cmap='PuBu', axis=1 ,text_color_threshold=0.5, high=0.1) # , high=0.1"
   ]
  },
  {
   "cell_type": "code",
   "execution_count": null,
   "metadata": {},
   "outputs": [],
   "source": [
    "# np.get_printoptions()  # default numpy print options"
   ]
  },
  {
   "cell_type": "code",
   "execution_count": 116,
   "metadata": {
    "ExecuteTime": {
     "end_time": "2020-02-19T00:48:09.776701Z",
     "start_time": "2020-02-19T00:48:09.770742Z"
    }
   },
   "outputs": [
    {
     "data": {
      "text/plain": [
       "array(['mexican', 'mexican', 'indian', 'southern_us', 'japanese',\n",
       "       'mexican', 'italian', 'chinese', 'mexican', 'brazilian'],\n",
       "      dtype=object)"
      ]
     },
     "execution_count": 116,
     "metadata": {},
     "output_type": "execute_result"
    }
   ],
   "source": [
    "lb.inverse_transform(y_test)[:10]"
   ]
  },
  {
   "cell_type": "code",
   "execution_count": 117,
   "metadata": {
    "ExecuteTime": {
     "end_time": "2020-02-19T00:48:14.238832Z",
     "start_time": "2020-02-19T00:48:14.227740Z"
    }
   },
   "outputs": [],
   "source": [
    "y_test_real = lb.inverse_transform(y_test)\n",
    "y_pred_real = lb.inverse_transform(clf1.predict(X_test_transformed))"
   ]
  },
  {
   "cell_type": "code",
   "execution_count": null,
   "metadata": {
    "ExecuteTime": {
     "end_time": "2020-02-19T00:48:18.501743Z",
     "start_time": "2020-02-19T00:48:18.473738Z"
    },
    "scrolled": false
   },
   "outputs": [],
   "source": [
    "from sklearn.metrics import confusion_matrix\n",
    "# np.set_printoptions(linewidth=np.inf)\n",
    "confusion_matrix(y_test_real, y_pred_real, list(set(y_test_real)))"
   ]
  },
  {
   "cell_type": "code",
   "execution_count": null,
   "metadata": {
    "ExecuteTime": {
     "end_time": "2020-02-19T00:48:23.113541Z",
     "start_time": "2020-02-19T00:48:23.070546Z"
    },
    "scrolled": false
   },
   "outputs": [],
   "source": [
    "cm = confusion_matrix(y_test_real, y_pred_real, list(set(y_test_real)))\n",
    "\n",
    "np.round(cm.astype('float') / cm.sum(axis=1)[:, np.newaxis],2)"
   ]
  },
  {
   "cell_type": "code",
   "execution_count": 120,
   "metadata": {
    "ExecuteTime": {
     "end_time": "2020-02-19T00:48:28.550135Z",
     "start_time": "2020-02-19T00:48:28.544133Z"
    },
    "cell_style": "split"
   },
   "outputs": [
    {
     "data": {
      "text/plain": [
       "array(['brazilian', 'british', 'cajun_creole', 'chinese', 'filipino',\n",
       "       'french', 'greek', 'indian', 'irish', 'italian', 'jamaican',\n",
       "       'japanese', 'korean', 'mexican', 'moroccan', 'russian',\n",
       "       'southern_us', 'spanish', 'thai', 'vietnamese'], dtype=object)"
      ]
     },
     "execution_count": 120,
     "metadata": {},
     "output_type": "execute_result"
    }
   ],
   "source": [
    "lb.inverse_transform(np.unique(y_test))"
   ]
  },
  {
   "cell_type": "code",
   "execution_count": 121,
   "metadata": {
    "ExecuteTime": {
     "end_time": "2020-02-19T00:48:32.972247Z",
     "start_time": "2020-02-19T00:48:32.961250Z"
    },
    "cell_style": "split"
   },
   "outputs": [
    {
     "data": {
      "text/plain": [
       "Counter({0: 120,\n",
       "         1: 198,\n",
       "         2: 362,\n",
       "         3: 696,\n",
       "         4: 181,\n",
       "         5: 658,\n",
       "         6: 302,\n",
       "         7: 783,\n",
       "         8: 159,\n",
       "         9: 1932,\n",
       "         10: 147,\n",
       "         11: 348,\n",
       "         12: 183,\n",
       "         13: 1631,\n",
       "         14: 199,\n",
       "         15: 118,\n",
       "         16: 1076,\n",
       "         17: 252,\n",
       "         18: 395,\n",
       "         19: 204})"
      ]
     },
     "execution_count": 121,
     "metadata": {},
     "output_type": "execute_result"
    }
   ],
   "source": [
    "(Counter(y_test))"
   ]
  },
  {
   "cell_type": "code",
   "execution_count": 122,
   "metadata": {
    "ExecuteTime": {
     "end_time": "2020-02-19T00:48:37.309378Z",
     "start_time": "2020-02-19T00:48:37.278379Z"
    },
    "scrolled": true
   },
   "outputs": [
    {
     "name": "stdout",
     "output_type": "stream",
     "text": [
      "              precision    recall  f1-score   support\n",
      "\n",
      "           0       0.79      0.56      0.65       120\n",
      "           1       0.59      0.46      0.52       198\n",
      "           2       0.76      0.72      0.74       362\n",
      "           3       0.82      0.86      0.84       696\n",
      "           4       0.75      0.59      0.66       181\n",
      "           5       0.62      0.66      0.64       658\n",
      "           6       0.82      0.68      0.74       302\n",
      "           7       0.87      0.91      0.89       783\n",
      "           8       0.66      0.48      0.56       159\n",
      "           9       0.81      0.89      0.85      1932\n",
      "          10       0.85      0.74      0.79       147\n",
      "          11       0.81      0.72      0.76       348\n",
      "          12       0.80      0.77      0.78       183\n",
      "          13       0.91      0.92      0.92      1631\n",
      "          14       0.82      0.79      0.81       199\n",
      "          15       0.60      0.46      0.52       118\n",
      "          16       0.72      0.80      0.76      1076\n",
      "          17       0.68      0.52      0.59       252\n",
      "          18       0.77      0.79      0.78       395\n",
      "          19       0.68      0.52      0.59       204\n",
      "\n",
      "    accuracy                           0.79      9944\n",
      "   macro avg       0.76      0.69      0.72      9944\n",
      "weighted avg       0.79      0.79      0.79      9944\n",
      "\n"
     ]
    }
   ],
   "source": [
    "print(metrics.classification_report(\n",
    "    y_true=y_test,\n",
    "    y_pred=clf1.predict(X_test_transformed),\n",
    "    ))"
   ]
  },
  {
   "cell_type": "code",
   "execution_count": null,
   "metadata": {},
   "outputs": [],
   "source": [
    "from sklearn.metrics import plot_confusion_matrix\n",
    "plot_confusion_matrix(y_test, clf1.predict(X_test_transformed), classes=np.unique(lb.inverse_transform(y_test)),\n",
    "                      normalize=True, title='Normalized confusion matrix')"
   ]
  },
  {
   "cell_type": "code",
   "execution_count": null,
   "metadata": {
    "ExecuteTime": {
     "end_time": "2020-02-19T00:48:41.673537Z",
     "start_time": "2020-02-19T00:48:41.045Z"
    },
    "cell_style": "center"
   },
   "outputs": [],
   "source": [
    "plot_confusion_matrix(y_test, clf1.predict(X_test_transformed), classes=np.unique(lb.inverse_transform(y_test))\n",
    "                      , title='without Normalized confusion matrix')"
   ]
  },
  {
   "cell_type": "code",
   "execution_count": 125,
   "metadata": {
    "ExecuteTime": {
     "end_time": "2020-02-19T00:49:25.184197Z",
     "start_time": "2020-02-19T00:49:25.155158Z"
    }
   },
   "outputs": [],
   "source": [
    "from sklearn.utils.multiclass import unique_labels\n",
    "\n",
    "def plot_confusion_matrix(y_true, y_pred, classes,\n",
    "                          normalize=False,\n",
    "                          title=None,\n",
    "                          cmap=plt.cm.Blues):\n",
    "    if not title:\n",
    "        if normalize:\n",
    "            title = 'Normalized confusion matrix'\n",
    "        else:\n",
    "            title = 'Confusion matrix, without normalization'\n",
    "\n",
    "    # Compute confusion matrix\n",
    "    cm = confusion_matrix(y_true, y_pred)\n",
    "    # Only use the labels that appear in the data\n",
    "    classes = classes[unique_labels(y_true, y_pred)]\n",
    "    if normalize:\n",
    "        cm = cm.astype('float') / cm.sum(axis=1)[:, np.newaxis]\n",
    "        print(\"Normalized confusion matrix\")\n",
    "    else:\n",
    "        print('Confusion matrix, without normalization')\n",
    "\n",
    "    # print(cm)\n",
    "\n",
    "    fig, ax = plt.subplots()\n",
    "    im = ax.imshow(cm, interpolation='nearest', cmap=cmap)\n",
    "    ax.figure.colorbar(im, ax=ax)\n",
    "    # We want to show all ticks...\n",
    "    ax.set(xticks=np.arange(cm.shape[1]),\n",
    "           yticks=np.arange(cm.shape[0]),\n",
    "           # ... and label them with the respective list entries\n",
    "           xticklabels=classes, yticklabels=classes,\n",
    "           title=title,\n",
    "           ylabel='True label',\n",
    "           xlabel='Predicted label')\n",
    "\n",
    "    # Rotate the tick labels and set their alignment.\n",
    "    plt.setp(ax.get_xticklabels(), rotation=45, ha=\"right\",\n",
    "             rotation_mode=\"anchor\")\n",
    "    plt.gcf().set_size_inches(15,10)\n",
    "\n",
    "    # Loop over data dimensions and create text annotations.\n",
    "    fmt = '.2f' if normalize else 'd'\n",
    "    thresh = cm.max() / 2.\n",
    "    for i in range(cm.shape[0]):\n",
    "        for j in range(cm.shape[1]):\n",
    "            ax.text(j, i, format(cm[i, j], fmt),\n",
    "                    ha=\"center\", va=\"center\",\n",
    "                    color=\"white\" if cm[i, j] > thresh else \"black\")\n",
    "    fig.tight_layout()\n",
    "    return ax\n"
   ]
  }
 ],
 "metadata": {
  "celltoolbar": "Raw Cell Format",
  "kernelspec": {
   "display_name": "Python 3",
   "language": "python",
   "name": "python3"
  },
  "language_info": {
   "codemirror_mode": {
    "name": "ipython",
    "version": 3
   },
   "file_extension": ".py",
   "mimetype": "text/x-python",
   "name": "python",
   "nbconvert_exporter": "python",
   "pygments_lexer": "ipython3",
   "version": "3.7.3"
  },
  "toc": {
   "base_numbering": 1,
   "nav_menu": {},
   "number_sections": true,
   "sideBar": false,
   "skip_h1_title": false,
   "title_cell": "Table of Contents",
   "title_sidebar": "Contents",
   "toc_cell": false,
   "toc_position": {},
   "toc_section_display": true,
   "toc_window_display": false
  },
  "varInspector": {
   "cols": {
    "lenName": 16,
    "lenType": 16,
    "lenVar": 40
   },
   "kernels_config": {
    "python": {
     "delete_cmd_postfix": "",
     "delete_cmd_prefix": "del ",
     "library": "var_list.py",
     "varRefreshCmd": "print(var_dic_list())"
    },
    "r": {
     "delete_cmd_postfix": ") ",
     "delete_cmd_prefix": "rm(",
     "library": "var_list.r",
     "varRefreshCmd": "cat(var_dic_list()) "
    }
   },
   "types_to_exclude": [
    "module",
    "function",
    "builtin_function_or_method",
    "instance",
    "_Feature"
   ],
   "window_display": false
  }
 },
 "nbformat": 4,
 "nbformat_minor": 2
}
