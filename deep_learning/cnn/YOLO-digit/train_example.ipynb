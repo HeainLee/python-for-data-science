{
 "cells": [
  {
   "cell_type": "code",
   "execution_count": 2,
   "metadata": {},
   "outputs": [],
   "source": [
    "# -*- coding: utf-8 -*-\n",
    "\n",
    "import numpy as np\n",
    "np.random.seed(111)\n",
    "import argparse\n",
    "import os\n",
    "import json\n",
    "from yolo.frontend import create_yolo, get_object_labels\n",
    "\n",
    "# os.environ[\"CUDA_DEVICE_ORDER\"]=\"PCI_BUS_ID\"\n",
    "# os.environ[\"CUDA_VISIBLE_DEVICES\"]=\"0\""
   ]
  },
  {
   "cell_type": "code",
   "execution_count": 3,
   "metadata": {},
   "outputs": [],
   "source": [
    "def setup_training(config_file):\n",
    "    \"\"\"make directory to save weights & its configuration \"\"\"\n",
    "    import shutil\n",
    "    with open(config_file) as config_buffer:\n",
    "        config = json.loads(config_buffer.read())\n",
    "    dirname = config['train']['saved_folder']\n",
    "    if os.path.isdir(dirname):\n",
    "        print(\"{} is already exists. Weight file in directory will be overwritten\".format(dirname))\n",
    "    else:\n",
    "        print(\"{} is created.\".format(dirname, dirname))\n",
    "        os.makedirs(dirname)\n",
    "    print(\"Weight file and Config file will be saved in \\\"{}\\\"\".format(dirname))\n",
    "    shutil.copyfile(config_file, os.path.join(dirname, \"config.json\"))\n",
    "    return config, os.path.join(dirname, \"weights.h5\")"
   ]
  },
  {
   "cell_type": "code",
   "execution_count": null,
   "metadata": {
    "jupyter": {
     "outputs_hidden": true
    }
   },
   "outputs": [],
   "source": [
    "if __name__ == '__main__':\n",
    "    config_json = 'configs/from_scratch_vgg_transfer.json'\n",
    "    config, weight_file = setup_training(config_json)\n",
    "    \n",
    "    if config['train']['is_only_detect']:\n",
    "        labels = [\"object\"]\n",
    "    else:\n",
    "        if config['model']['labels']:\n",
    "            labels = config['model']['labels']\n",
    "        else:\n",
    "            labels = get_object_labels(config['train']['train_annot_folder'])\n",
    "    print(labels)\n",
    "\n",
    "    # 1. Construct the model \n",
    "    yolo = create_yolo(config['model']['architecture'],\n",
    "                       labels,\n",
    "                       config['model']['input_size'],\n",
    "                       config['model']['anchors'],\n",
    "                       config['model']['coord_scale'],\n",
    "                       config['model']['class_scale'],\n",
    "                       config['model']['object_scale'],\n",
    "                       config['model']['no_object_scale'])\n",
    "    \n",
    "    # 2. Load the pretrained weights (if any) \n",
    "    yolo.load_weights(config['pretrained']['full'], by_name=True)\n",
    "\n",
    "    # 3. actual training \n",
    "    yolo.train(config['train']['train_image_folder'],\n",
    "               config['train']['train_annot_folder'],\n",
    "               config['train']['actual_epoch'],\n",
    "               weight_file,\n",
    "               config[\"train\"][\"batch_size\"],\n",
    "               config[\"train\"][\"jitter\"],\n",
    "               config['train']['learning_rate'], \n",
    "               config['train']['train_times'],\n",
    "               config['train']['valid_times'],\n",
    "               config['train']['valid_image_folder'],\n",
    "               config['train']['valid_annot_folder'],\n",
    "               config['train']['first_trainable_layer'],\n",
    "               config['train']['is_only_detect'])\n",
    "    # loss: 2.1691, train batch jitter=False\n"
   ]
  },
  {
   "cell_type": "code",
   "execution_count": null,
   "metadata": {},
   "outputs": [],
   "source": []
  }
 ],
 "metadata": {
  "kernelspec": {
   "display_name": "Python 3",
   "language": "python",
   "name": "python3"
  },
  "language_info": {
   "codemirror_mode": {
    "name": "ipython",
    "version": 3
   },
   "file_extension": ".py",
   "mimetype": "text/x-python",
   "name": "python",
   "nbconvert_exporter": "python",
   "pygments_lexer": "ipython3",
   "version": "3.7.3"
  },
  "toc": {
   "base_numbering": 1,
   "nav_menu": {},
   "number_sections": true,
   "sideBar": false,
   "skip_h1_title": false,
   "title_cell": "Table of Contents",
   "title_sidebar": "Contents",
   "toc_cell": false,
   "toc_position": {},
   "toc_section_display": true,
   "toc_window_display": false
  },
  "varInspector": {
   "cols": {
    "lenName": 16,
    "lenType": 16,
    "lenVar": 40
   },
   "kernels_config": {
    "python": {
     "delete_cmd_postfix": "",
     "delete_cmd_prefix": "del ",
     "library": "var_list.py",
     "varRefreshCmd": "print(var_dic_list())"
    },
    "r": {
     "delete_cmd_postfix": ") ",
     "delete_cmd_prefix": "rm(",
     "library": "var_list.r",
     "varRefreshCmd": "cat(var_dic_list()) "
    }
   },
   "types_to_exclude": [
    "module",
    "function",
    "builtin_function_or_method",
    "instance",
    "_Feature"
   ],
   "window_display": false
  }
 },
 "nbformat": 4,
 "nbformat_minor": 4
}
